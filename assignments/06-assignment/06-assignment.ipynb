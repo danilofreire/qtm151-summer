{
 "cells": [
  {
   "attachments": {},
   "cell_type": "markdown",
   "metadata": {},
   "source": [
    "# Assignment 6"
   ]
  },
  {
   "attachments": {},
   "cell_type": "markdown",
   "metadata": {},
   "source": [
    "Please submit your assignment as an HTML or PDF file."
   ]
  },
  {
   "attachments": {},
   "cell_type": "markdown",
   "metadata": {},
   "source": [
    "Print your Emory code below"
   ]
  },
  {
   "cell_type": "code",
   "execution_count": null,
   "metadata": {},
   "outputs": [],
   "source": [
    "# Write your answer here:\n",
    "\n"
   ]
  },
  {
   "attachments": {},
   "cell_type": "markdown",
   "metadata": {},
   "source": [
    "Import the `pandas`, `matplotlib.pyplot`, `numpy`, `statsmodels.api`, and `statsmodels.formula.api` libraries"
   ]
  },
  {
   "cell_type": "code",
   "execution_count": null,
   "metadata": {},
   "outputs": [],
   "source": [
    "# Write your answer here:\n",
    "\n",
    "\n"
   ]
  },
  {
   "attachments": {},
   "cell_type": "markdown",
   "metadata": {},
   "source": [
    "(a) Functions\n",
    "\n",
    "- Read the dataset labelled features.csv.\n",
    "- Create a ``` lambda ``` function that checks if horsepower $>$ 100\n",
    "- Create a new list that shows true if horsepower $>$ 100 and false if horsepower $\\leq$ 100.\n",
    "- Count how many cars have horsewpower $> 100$.\n",
    "\n",
    "To get full credit use either the apply or the map function (see Lectures 7 and 8)"
   ]
  },
  {
   "cell_type": "code",
   "execution_count": null,
   "metadata": {},
   "outputs": [],
   "source": [
    "# Write your answer here\n",
    "\n",
    "\n",
    "\n"
   ]
  },
  {
   "attachments": {},
   "cell_type": "markdown",
   "metadata": {},
   "source": [
    "(b) Subsetting Data\n",
    "\n",
    "- Read the dataset labelled `features.csv`\n",
    "- Define a global variable called `threshold` that takes the value 3000\n",
    "- Subset the data to get one dataset with weight $>$ threshold and another with weight $\\le$ 3000. Use the `.query()` function.\n",
    "- Compute the mean acceleration for each of these datasets\n",
    "\n",
    "Note: Review how to define a global variable inside `.query()`\n",
    " "
   ]
  },
  {
   "cell_type": "code",
   "execution_count": null,
   "metadata": {},
   "outputs": [],
   "source": [
    "# Write your answer here:\n",
    "\n",
    "\n",
    "\n"
   ]
  },
  {
   "attachments": {},
   "cell_type": "markdown",
   "metadata": {},
   "source": [
    "(c) Regression\n",
    "\n",
    "In this exercise you are asked to plot acceleration vs. weight and to plot the best fit line\n",
    "\n",
    "- Run a linear regression between acceleration and weight\n",
    "- Extract the intercept and coefficient\n",
    "- Using your predicted coefficients, compute the predicted value of acceleration\n",
    "- Plot a scatter plot with acceleration on the y axis and weight on the x axis\n",
    "- On that same figure, plot a line with the predicted values of acceleration\n",
    "\n",
    "Please do not forget to label your axes and title"
   ]
  },
  {
   "cell_type": "code",
   "execution_count": null,
   "metadata": {},
   "outputs": [],
   "source": [
    "# Write your answer here:\n",
    "\n",
    "\n",
    "\n",
    "\n"
   ]
  },
  {
   "cell_type": "markdown",
   "metadata": {},
   "source": [
    "(d) Use sorting + `.iloc[]`\n",
    "\n",
    "- Read the `fifa23_players_basic.csv` dataset\n",
    "- Use `.sort_values()` to order the `Age` column from youngest to oldest\n",
    "- Get a subset with the 5 youngest players"
   ]
  },
  {
   "cell_type": "code",
   "execution_count": null,
   "metadata": {},
   "outputs": [],
   "source": [
    "# Write your own code\n",
    "\n",
    "\n",
    "\n"
   ]
  },
  {
   "cell_type": "markdown",
   "metadata": {},
   "source": [
    "(e) Use queries + global variables\n",
    "\n",
    "- Read the `fifa23_players_basic.csv dataset\n",
    "- Compute the mean of the column `Value(in Euro)` and store it as a variable\n",
    "\" Subset the players whose value is above the mean value using `.query()`\n",
    "\n",
    "\n",
    "HINT: Remember that there is a special syntax for when the column names have spaces (see Lecture 10) \n",
    "Reference the column as ``` `Value(in Euro)`    ``` inside `.query()`"
   ]
  },
  {
   "cell_type": "code",
   "execution_count": null,
   "metadata": {},
   "outputs": [],
   "source": [
    "# Write your own code\n",
    "\n",
    "\n",
    "\n"
   ]
  },
  {
   "attachments": {},
   "cell_type": "markdown",
   "metadata": {},
   "source": [
    "<font size = \"5\">"
   ]
  }
 ],
 "metadata": {
  "kernelspec": {
   "display_name": "base",
   "language": "python",
   "name": "python3"
  },
  "language_info": {
   "codemirror_mode": {
    "name": "ipython",
    "version": 3
   },
   "file_extension": ".py",
   "mimetype": "text/x-python",
   "name": "python",
   "nbconvert_exporter": "python",
   "pygments_lexer": "ipython3",
   "version": "3.9.13"
  },
  "orig_nbformat": 4,
  "vscode": {
   "interpreter": {
    "hash": "45fc1f684f6f416f40889115beff3ddf69879b64cf4bfee48cb72a61e9d15d1a"
   }
  }
 },
 "nbformat": 4,
 "nbformat_minor": 2
}
