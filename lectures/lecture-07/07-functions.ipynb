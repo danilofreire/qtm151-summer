{
 "cells": [
  {
   "cell_type": "markdown",
   "metadata": {},
   "source": [
    "# QTM 151 - Introduction to Statistical Computing II\n",
    "## Lecture 08 - Custom Functions\n",
    "**Author:** Danilo Freire (danilo.freire@emory.edu, Emory University)"
   ]
  },
  {
   "cell_type": "markdown",
   "metadata": {},
   "source": [
    "# I hope you're having a great day! 😊"
   ]
  },
  {
   "cell_type": "markdown",
   "metadata": {},
   "source": [
    "# Today's plan 📋"
   ]
  },
  {
   "cell_type": "markdown",
   "metadata": {},
   "source": [
    "## What we will do today:\n",
    "\n",
    "- Learn about functions in Python\n",
    "- Understand the difference between arguments, parameters, and return values\n",
    "- Define functions with `def` and `return`\n",
    "- Use functions to encapsulate repetitive code\n",
    "- Create lambda functions\n",
    "- Write a function to calculate the future value of an investment\n",
    "- Learn about local and global variables\n",
    "\n",
    "![](figures/functions.webp)\n",
    "![](figures/lambda.jpg)"
   ]
  },
  {
   "cell_type": "markdown",
   "metadata": {},
   "source": [
    "# Functions in Python 🐍"
   ]
  },
  {
   "cell_type": "markdown",
   "metadata": {},
   "source": [
    "## What is a function?\n",
    "### A function is a block of code that performs a specific task\n",
    "\n",
    "- Functions are used to **organise code, make it readable, and reusable**\n",
    "- The main idea behind writing and using functions is that, if you have to do the same task multiple times, you can write a function to do that task and then call it whenever you want\n",
    "- A (somewhat silly) rule of thumb is that if you do the same task more than three times, you should write a function for it\n",
    "- As your code grows, functions will help you keep it maintainable and scalable\n",
    "- We have already seen lots of functions in Python\n",
    "  - `print()`, `len()`, `str()`, `type()`, etc\n",
    "  - These functions are built-in, but you can also **create your own functions** as we will see today"
   ]
  },
  {
   "cell_type": "markdown",
   "metadata": {},
   "source": [
    "## What is a function?\n",
    "### A function is a block of code that performs a specific task\n",
    "\n",
    "- Functions have [parameters](https://eitca.org/computer-programming/eitc-cp-ppf-python-programming-fundamentals/functions/function-parameters-and-typing/examination-review-function-parameters-and-typing/what-are-function-parameters-in-python-and-how-are-they-used/), which are the variables that the function expects to receive\n",
    "  - For example, `np.random.normal()` expects two parameters: the mean (`loc`) and the standard deviation (`scale`). Size is an optional parameter\n",
    "- Functions can take [arguments](https://en.wikipedia.org/wiki/Parameter_(computer_programming)) and [return values](https://en.wikipedia.org/wiki/Return_statement)\n",
    "  - For example, `np.random.normal(0, 1)` takes two arguments and returns a random number from a normal distribution with mean 0 and standard deviation 1\n",
    "- Functions can also have [default arguments](https://en.wikipedia.org/wiki/Default_argument), which are optional\n",
    "  - If you don't provide a value for a default argument, the function will use the default value\n",
    "  - Example: `np.random.normal()` will provide a sample of 1 number with mean 0 and standard deviation 1 if you don't provide any arguments"
   ]
  },
  {
   "cell_type": "markdown",
   "metadata": {},
   "source": [
    "## Some examples"
   ]
  },
  {
   "cell_type": "code",
   "execution_count": null,
   "metadata": {},
   "outputs": [],
   "source": [
    "# Argument: \"Hello\" \n",
    "# Return: Showing the message on screen\n",
    "print(\"Hello, \"+str(\"QTM151!\"))"
   ]
  },
  {
   "cell_type": "code",
   "execution_count": null,
   "metadata": {},
   "outputs": [],
   "source": [
    "# Argument: ABC\n",
    "# Return: The type of object, e.g. int, str,\n",
    "# boolean, float, etc.\n",
    "type(\"ABC\")"
   ]
  },
  {
   "cell_type": "code",
   "execution_count": null,
   "metadata": {},
   "outputs": [],
   "source": [
    "# First Argument: np.pi (a numeric value)\n",
    "# Second Argument: 10 (number of decimals)\n",
    "# Return: Round the first argument, \n",
    "# given the number of decimals in the second argument\n",
    "import numpy as np\n",
    "\n",
    "round(np.pi,  10)"
   ]
  },
  {
   "cell_type": "code",
   "execution_count": null,
   "metadata": {},
   "outputs": [],
   "source": [
    "list_fruits = [\"Apple\",\"Orange\",\"Pear\"]\n",
    "\n",
    "# Argument: list_fruits\n",
    "# Return: number of elements in the list\n",
    "len(list_fruits)"
   ]
  },
  {
   "cell_type": "markdown",
   "metadata": {},
   "source": [
    "So far, so good? 😊"
   ]
  },
  {
   "cell_type": "markdown",
   "metadata": {},
   "source": [
    "## Enter arguments by assignment\n",
    "\n",
    "- The most common way to pass arguments to a function is **by assignment**\n",
    "- You can pass arguments **by position or by name**\n",
    "- When you pass arguments by name, you can change the order of the arguments\n",
    "  - That is the case with many functions in Python, and it makes it easier to remember the arguments\n",
    "- You can also use default arguments if you don't want to pass a specific value"
   ]
  },
  {
   "cell_type": "markdown",
   "metadata": {},
   "source": [
    "## Enter arguments by assignment"
   ]
  },
  {
   "cell_type": "code",
   "execution_count": null,
   "metadata": {},
   "outputs": [],
   "source": [
    "import numpy as np # Ensuring numpy is imported for these examples\n",
    "# A function that generates a random number\n",
    "vec_x = np.random.chisquare(df = 2, size = 10)\n",
    "print(vec_x)"
   ]
  },
  {
   "cell_type": "code",
   "execution_count": null,
   "metadata": {},
   "outputs": [],
   "source": [
    "# Another example\n",
    "vec_y = np.random.normal(loc = 2, scale = 1, size = 10)\n",
    "print(vec_y)"
   ]
  },
  {
   "cell_type": "code",
   "execution_count": null,
   "metadata": {},
   "outputs": [],
   "source": [
    "vec_z = np.random.uniform(0, 10, 10)\n",
    "print(vec_z)"
   ]
  },
  {
   "cell_type": "markdown",
   "metadata": {},
   "source": [
    "**What are the parameters, arguments, and return values in these examples?** 🤓"
   ]
  },
  {
   "cell_type": "markdown",
   "metadata": {},
   "source": [
    "# Custom functions in Python 🐍"
   ]
  },
  {
   "cell_type": "markdown",
   "metadata": {},
   "source": [
    "## Defining a function\n",
    "### You can define a function using the `def` keyword\n",
    "\n",
    "- You can create your own functions using the `def` keyword\n",
    "- The syntax is as follows:\n",
    "\n",
    "```python\n",
    "#---- DEFINE\n",
    "def my_function(parameter):\n",
    "    body # Code to perform the task\n",
    "    return expression # Value the function gives back\n",
    "\n",
    "#---- RUN (calling the function)\n",
    "# Using named argument\n",
    "my_function(parameter = argument_value) \n",
    "\n",
    "#---- RUN (calling the function)\n",
    "# Using positional argument\n",
    "my_function(argument_value)\n",
    "```\n",
    "- The **function name** (e.g., `my_function`) should be descriptive.\n",
    "- **Parameters** (e.g., `parameter`) are placeholders for values the function needs to do its job.\n",
    "- The **body** is the indented code that performs the function's task. **Indentation is crucial!**\n",
    "- The `return` statement sends a value back from the function.\n",
    "  - If there's no `return` statement, the function returns a special value `None`.\n",
    "  - It's good practice to explicitly return a value if the function is meant to produce one."
   ]
  },
  {
   "cell_type": "markdown",
   "metadata": {},
   "source": [
    "## Let's create a function! {#sec:interest}\n",
    "\n",
    "- Let's create a function that solves this equation for any combination of numbers:\n",
    "\n",
    "$$V=P\\left(1+{\\frac {r}{n}}\\right)^{nt}$$\n",
    "\n",
    "To know what each parameter means, refer to the presentation slides (or a quick web search for 'compound interest formula')."
   ]
  },
  {
   "cell_type": "code",
   "execution_count": null,
   "metadata": {},
   "outputs": [],
   "source": [
    "def fn_compound_interest(P, r, n, t):\n",
    "    V = P*(1 + r/n)**(n*t)\n",
    "    return V"
   ]
  },
  {
   "cell_type": "markdown",
   "metadata": {},
   "source": [
    "## Let's test our function\n",
    "\n",
    "- Now that we have defined our function, we can use it to calculate the future value of an investment"
   ]
  },
  {
   "cell_type": "code",
   "execution_count": null,
   "metadata": {},
   "outputs": [],
   "source": [
    "# You can now compute the formula with different values\n",
    "# Let's see how much one can gain by investing 50k and 100k\n",
    "# Earning 10% a year for 10 years, compounded monthly (n=12)\n",
    "\n",
    "V1 = fn_compound_interest(P = 50000, r = 0.10, n = 12, t = 10)\n",
    "V2 = fn_compound_interest(100000, 0.10, 12, 10) # Positional arguments\n",
    "V3 = fn_compound_interest(r = 0.10, P = 100000, t = 10, n = 12) # Named arguments, different order\n",
    "\n",
    "print(f\"Future value for P=50k: {V1:.2f}\") # Using f-string for formatted output\n",
    "print(f\"Future value for P=100k (positional): {V2:.2f}\")\n",
    "print(f\"Future value for P=100k (named, reordered): {V3:.2f}\")"
   ]
  },
  {
   "cell_type": "markdown",
   "metadata": {},
   "source": [
    "## Try it yourself! 🤓 {#sec:equation}\n",
    "\n",
    "- Now it's your turn to try it out!\n",
    "- Write a function that calculates\n",
    "\n",
    "$f(x) = x^2 + 2x + 1$\n",
    "\n",
    "- Test your function with $x = 2$ and $x = 3$"
   ]
  },
  {
   "cell_type": "code",
   "execution_count": null,
   "metadata": {},
   "outputs": [],
   "source": [
    "# def fn_quadratic(x):\n",
    "#     # Your code here\n",
    "#     return ...\n",
    "\n",
    "# result_for_2 = fn_quadratic(2)\n",
    "# result_for_3 = fn_quadratic(3)\n",
    "# print(f\"f(2) = {result_for_2}\")\n",
    "# print(f\"f(3) = {result_for_3}\")"
   ]
  },
  {
   "cell_type": "markdown",
   "metadata": {},
   "source": [
    "## Try it yourself! 🤓 {#sec:names}\n",
    "\n",
    "- Write a function with a parameter `numeric_grade`\n",
    "- Inside the function write an if/else statement for $grade \\ge 55$.\n",
    "- If it's true, then assign `status = \"pass\"` (as a string)\n",
    "- If it's false, then assign `status = \"fail\"` (as a string)\n",
    "- Return the value of `status`\n",
    "- Test your function with $numeric\\_grade = 60$ and $numeric\\_grade = 50$"
   ]
  },
  {
   "cell_type": "code",
   "execution_count": null,
   "metadata": {},
   "outputs": [],
   "source": [
    "# def fn_pass_fail(numeric_grade):\n",
    "#     # Your code here\n",
    "#     return ...\n",
    "\n",
    "# status1 = fn_pass_fail(60)\n",
    "# status2 = fn_pass_fail(50)\n",
    "# print(f\"Grade 60: {status1}\")\n",
    "# print(f\"Grade 50: {status2}\")"
   ]
  },
  {
   "cell_type": "markdown",
   "metadata": {},
   "source": [
    "# Lambda functions "
   ]
  },
  {
   "cell_type": "markdown",
   "metadata": {},
   "source": [
    "## Lambda functions\n",
    "\n",
    "- Lambda functions are **short, anonymous functions, which you can write in one line**\n",
    "- \"Anonymous\" means they don't necessarily need a name (like functions defined with `def`).\n",
    "- They can have any number of arguments but only one expression. The result of this expression is automatically returned.\n",
    "- They are used when you need a simple function for a short period, often as an argument to another function (like `sort` or `map`).\n",
    "- Format: `lambda parameters: expression`\n",
    "  - Example: `fn_squared = lambda x: x**2` (Here, we assign the lambda function to a name, making it less \"anonymous\" but still using lambda syntax).\n",
    "\n",
    "- More information [here](https://realpython.com/python-lambda/)"
   ]
  },
  {
   "cell_type": "markdown",
   "metadata": {},
   "source": [
    "## Lambda functions\n",
    "\n",
    "- Example: calculate $x + y + z$ using a lambda function\n",
    "- The function will take three arguments: $x$, $y$, and $z$"
   ]
  },
  {
   "cell_type": "code",
   "execution_count": null,
   "metadata": {},
   "outputs": [],
   "source": [
    "fn_sum = lambda x, y, z: x + y + z\n",
    "\n",
    "result = fn_sum(1, 2, 3)\n",
    "print(f\"Sum using lambda: {result}\")"
   ]
  },
  {
   "cell_type": "markdown",
   "metadata": {},
   "source": [
    "Revisiting our compound interest function as a lambda:"
   ]
  },
  {
   "cell_type": "code",
   "execution_count": null,
   "metadata": {},
   "outputs": [],
   "source": [
    "fn_v_lambda = lambda P, r, n, t: P*(1+(r/n))**(n*t)\n",
    "\n",
    "result_lambda = fn_v_lambda(50000, 0.10, 12, 10)\n",
    "print(f\"Compound interest using lambda: {result_lambda:.2f}\")"
   ]
  },
  {
   "cell_type": "markdown",
   "metadata": {},
   "source": [
    "## Try it yourself! 🤓 {#sec:lambda}\n",
    "### Boolean + Functions\n",
    "\n",
    "- Write a **lambda** function called `fn_iseligible_vote`\n",
    "- This function takes one parameter, `age`.\n",
    "- It returns `True` if $age \\ge 18$, and `False` otherwise.\n",
    "- Test your function with $age = 20$ and $age = 17$."
   ]
  },
  {
   "cell_type": "code",
   "execution_count": null,
   "metadata": {},
   "outputs": [],
   "source": [
    "# fn_iseligible_vote = lambda ... : ...\n",
    "\n",
    "# result1 = fn_iseligible_vote(20)\n",
    "# result2 = fn_iseligible_vote(17)\n",
    "# print(f\"Age 20 eligible? {result1}\")\n",
    "# print(f\"Age 17 eligible? {result2}\")"
   ]
  },
  {
   "cell_type": "markdown",
   "metadata": {},
   "source": [
    "## Another one! 🤓 {#sec:list}\n",
    "### `For` loop + Functions\n",
    "\n",
    "- Create `list_ages = [18,29,15,32,6]`\n",
    "- Write a `for` loop that iterates through `list_ages`.\n",
    "- Inside the loop, use the `fn_iseligible_vote` lambda function (from the previous exercise) to check if each age is eligible to vote.\n",
    "- Print a message for each age, like: \"Age: 29 - Eligible to vote: True\""
   ]
  },
  {
   "cell_type": "code",
   "execution_count": null,
   "metadata": {},
   "outputs": [],
   "source": [
    "# Assuming fn_iseligible_vote from the previous exercise is defined\n",
    "# fn_iseligible_vote = lambda age: age >= 18 \n",
    "\n",
    "list_ages = [18,29,15,32,6]\n",
    "\n",
    "# for ... in ... :\n",
    "    # result = fn_iseligible_vote(...)\n",
    "    # print(f\"Age: {...} - Eligible to vote: {result}\")"
   ]
  },
  {
   "cell_type": "markdown",
   "metadata": {},
   "source": [
    "# Understanding scope in Python 🧐"
   ]
  },
  {
   "cell_type": "markdown",
   "metadata": {},
   "source": [
    "## What is variable scope?\n",
    "\n",
    "- Scope is the **area of a programme where a variable is accessible** or \"visible\".\n",
    "- Think of scope as determining where Python looks for a variable when you use its name.\n",
    "- Python uses the **LEGB rule** to determine variable scope (the order it searches):\n",
    "    - **L**ocal: Variables defined inside the current function.\n",
    "    - **E**nclosing function locals: Variables in the local scope of any enclosing functions (for nested functions).\n",
    "    - **G**lobal: Variables defined at the top level of your script/module.\n",
    "    - **B**uilt-in: Names pre-defined in Python (e.g., `print()`, `len()`).\n",
    "\n",
    "![](figures/scope.png)\n",
    "\n",
    "A simple example to illustrate:"
   ]
  },
  {
   "cell_type": "code",
   "execution_count": null,
   "metadata": {},
   "outputs": [],
   "source": [
    "x = 10  # Global scope\n",
    "\n",
    "def print_x_local_example():\n",
    "    x = 20  # Local scope (this x is different from the global x)\n",
    "    print(f\"Inside function, x is: {x}\") # Prints 20 (local x)\n",
    "\n",
    "print_x_local_example()\n",
    "\n",
    "print(f\"Outside function, x is: {x}\")  # Prints 10 (global x)"
   ]
  },
  {
   "cell_type": "markdown",
   "metadata": {},
   "source": [
    "## Global scope\n",
    "### Variables defined outside any function\n",
    "\n",
    "- Most variables we've defined directly in our scripts so far are in the **global scope**.\n",
    "- They are stored in the **global namespace** and are generally **accessible** from anywhere in the code *after* they have been defined.\n",
    "- Functions can *read* global variables."
   ]
  },
  {
   "cell_type": "code",
   "execution_count": null,
   "metadata": {},
   "outputs": [],
   "source": [
    "# Example: Function using a global variable\n",
    "multiplier = 3 # Global variable\n",
    "\n",
    "def multiply_by_global(number):\n",
    "    return number * multiplier # Accesses global 'multiplier'\n",
    "\n",
    "result = multiply_by_global(5)\n",
    "print(f\"Result of multiply_by_global(5): {result}\") # Output: 15\n",
    "\n",
    "multiplier = 10 # Change the global variable\n",
    "result = multiply_by_global(5)\n",
    "print(f\"Result after changing global multiplier: {result}\") # Output: 50"
   ]
  },
  {
   "cell_type": "markdown",
   "metadata": {},
   "source": [
    "- **Caution:** While functions can *read* global variables, relying too much on this can make code harder to understand and debug. It's often better to pass needed values as arguments.\n",
    "\n",
    "- If a function tries to use a global variable that hasn't been defined yet, you'll get a `NameError`.\n",
    "\n",
    "```python\n",
    "# def use_undefined_global():\n",
    "#     return undefined_global_var * 2\n",
    "\n",
    "# use_undefined_global() # NameError: name 'undefined_global_var' is not defined\n",
    "```"
   ]
  },
  {
   "cell_type": "markdown",
   "metadata": {},
   "source": [
    "## Local scope\n",
    "### Variables defined inside a function\n",
    "\n",
    "- Variables defined inside a function (including its parameters) are **local** to that function.\n",
    "- They are **not accessible** from outside the function.\n",
    "- Local variables are created when the function is called and **destroyed** when the function finishes (returns).\n",
    "- If you try to access a local variable outside the function where it was defined, you will get a `NameError`.\n",
    "\n",
    "- Example:\n",
    "- In the code below, `message` and `name` are local to `greet()`.\n",
    "\n",
    "```python\n",
    "def greet(name):\n",
    "    message = \"Hello, \" + name # 'message' is local\n",
    "    print(message)\n",
    "\n",
    "greet(\"Alice\") # Prints \"Hello, Alice\"\n",
    "\n",
    "# print(message) # NameError: name 'message' is not defined\n",
    "# print(name)    # NameError: name 'name' is not defined\n",
    "```\n",
    "```verbatim\n",
    ">>> greet(\"Alice\")\n",
    "Hello, Alice\n",
    ">>> print(message)\n",
    "Traceback (most recent call last):\n",
    "  File \"<stdin>\", line 1, in <module>\n",
    "NameError: name 'message' is not defined\n",
    "```"
   ]
  },
  {
   "cell_type": "markdown",
   "metadata": {},
   "source": [
    "## Local variables \"shadow\" global variables\n",
    "### Remember the LEGB rule: Python checks Local first!\n",
    "\n",
    "If a local variable has the same name as a global variable, the function will use the *local* one. This is called \"shadowing\"."
   ]
  },
  {
   "cell_type": "code",
   "execution_count": null,
   "metadata": {},
   "outputs": [],
   "source": [
    "# Global variable\n",
    "my_value = \"I am global\"\n",
    "\n",
    "def show_value():\n",
    "    # Local variable with the same name\n",
    "    my_value = \"I am local\" \n",
    "    print(f\"Inside function, my_value is: {my_value}\") # Uses the local 'my_value'\n",
    "\n",
    "print(f\"Before calling function, my_value is: {my_value}\") # Uses global 'my_value'\n",
    "show_value()\n",
    "print(f\"After calling function, my_value is still: {my_value}\") # Global 'my_value' is unchanged"
   ]
  },
  {
   "cell_type": "markdown",
   "metadata": {},
   "source": [
    "The local `my_value` inside `show_value()` is completely separate from the global `my_value`."
   ]
  },
  {
   "cell_type": "markdown",
   "metadata": {},
   "source": [
    "## Modifying global variables (Generally avoid!)\n",
    "\n",
    "- If you *really* need to change a global variable from inside a function, you must use the `global` keyword.\n",
    "\n",
    "- **Why avoid `global`?**\n",
    "  - It makes your code harder to follow. It's not clear where a variable is being changed.\n",
    "  - It can lead to unexpected side effects if multiple functions modify the same global variable.\n",
    "  - It's generally better for functions to receive data as parameters and return results.\n",
    "- Use `global` sparingly, if at all! 😉"
   ]
  },
  {
   "cell_type": "code",
   "execution_count": null,
   "metadata": {},
   "outputs": [],
   "source": [
    "counter = 0 # Global variable\n",
    "\n",
    "def increment_counter():\n",
    "    global counter # Declare intent to use the global 'counter'\n",
    "    counter = counter + 1\n",
    "    print(f\"Counter inside function: {counter}\")\n",
    "\n",
    "print(f\"Counter before: {counter}\")\n",
    "increment_counter()\n",
    "increment_counter()\n",
    "print(f\"Counter after: {counter}\")"
   ]
  },
  {
   "cell_type": "markdown",
   "metadata": {},
   "source": [
    "## Try it out! 🚀 {#sec:exercise-06}\n",
    "\n",
    "Consider the following code:"
   ]
  },
  {
   "cell_type": "code",
   "execution_count": null,
   "metadata": {},
   "outputs": [],
   "source": [
    "# Original code from the slide for students to analyze and run\n",
    "def fn_square(x_param): # Renamed parameter to avoid confusion with global x\n",
    "    y_local = x_param**2 # y_local is local to fn_square\n",
    "    return(y_local)\n",
    "\n",
    "x = 1 # Global x for the first part of the question\n",
    "\n",
    "def modify_x():\n",
    "    global x # This modify_x affects the global x\n",
    "    x = x + 5\n",
    "\n",
    "print(\"--- Part 1: modify_x() --- \")\n",
    "print(f\"Initial global x: {x}\")\n",
    "modify_x()\n",
    "print(f\"Global x after first modify_x(): {x}\")\n",
    "modify_x()\n",
    "print(f\"Global x after second modify_x(): {x}\")\n",
    "\n",
    "print(\"\\n--- Part 2: fn_square() and global y --- \")\n",
    "x = 5 # Global x (re-assigning for this part)\n",
    "y = -5 # Global y\n",
    "\n",
    "print(f\"Before fn_square: global x = {x}, global y = {y}\")\n",
    "result_square = fn_square(x_param = 10) # Call fn_square with a new value\n",
    "print(f\"Result of fn_square(10): {result_square}\")\n",
    "print(f\"After fn_square: global x = {x}, global y = {y} (fn_square does not change global y by default)\")\n",
    "\n",
    "# What happens if we add `global y` inside `fn_square`?\n",
    "# Let's define a new version for testing this:\n",
    "def fn_square_modifies_global_y(x_param):\n",
    "    global y # Now this function will modify the global y\n",
    "    y = x_param**2\n",
    "    return y\n",
    "\n",
    "y = -100 # Reset global y\n",
    "print(f\"\\nBefore fn_square_modifies_global_y: global y = {y}\")\n",
    "result_square_global_y = fn_square_modifies_global_y(x_param=4)\n",
    "print(f\"Result of fn_square_modifies_global_y(4): {result_square_global_y}\")\n",
    "print(f\"After fn_square_modifies_global_y: global y is now = {y}\")"
   ]
  },
  {
   "cell_type": "markdown",
   "metadata": {},
   "source": [
    "Questions for students:\n",
    "1.  What happens if we run the function `modify_x()` again after the first two calls? (Answer is shown in the code output above)\n",
    "2.  What happens if we add `global y` inside `fn_square`? (The second part of the code above demonstrates this by creating `fn_square_modifies_global_y`)"
   ]
  },
  {
   "cell_type": "markdown",
   "metadata": {},
   "source": [
    "## Built-in scope\n",
    "### Names pre-defined in Python\n",
    "\n",
    "- Python has many **built-in functions and constants** like `print()`, `len()`, `sum()`, `True`, `False`, `None`.\n",
    "- These are always available in any part of your code; you don't need to define or import them (unless they are in a specific module you need to import, like `math.pi`).\n",
    "- Python checks the built-in scope last (after Local, Enclosing, and Global)."
   ]
  },
  {
   "cell_type": "code",
   "execution_count": null,
   "metadata": {},
   "outputs": [],
   "source": [
    "# Using built-in functions\n",
    "print(len(\"hello\")) # len is a built-in function\n",
    "\n",
    "my_list = [4, 3, 1, 7]\n",
    "minimum_value = min(my_list) # min is a built-in function\n",
    "print(f\"The minimum is: {minimum_value}\")"
   ]
  },
  {
   "cell_type": "code",
   "execution_count": null,
   "metadata": {},
   "outputs": [],
   "source": [
    "import builtins\n",
    "\n",
    "# dir() shows attributes of an object. \n",
    "# builtins module contains all built-in identifiers.\n",
    "# print(dir(builtins)) # This list is very long!\n",
    "# Here are a few examples:\n",
    "print(\"Some built-ins:\", 'print', 'len', 'str', 'int', 'list', 'True')"
   ]
  },
  {
   "cell_type": "markdown",
   "metadata": {},
   "source": [
    "It's important not to accidentally overwrite these built-in names by creating your own variables or functions with the same name (e.g., `print = \"my message\"` would break the `print()` function!)."
   ]
  },
  {
   "cell_type": "markdown",
   "metadata": {},
   "source": [
    "## Enclosing scope: functions inside functions (Nested Functions)\n",
    "\n",
    "- Sometimes, you might define a function *inside* another function. This is called a **nested function** (we've spoken about this before!)\n",
    "- The \"enclosing scope\" refers to the variables of the **outer** function that the **inner** (nested) function can \"see\" and use\n",
    "- This is the 'E' in the LEGB rule (Local -> Enclosing -> Global -> Built-in).\n",
    "- They are easier to understand once you understand local and global scopes\n",
    "- We will not use them much in this course, but they are useful in some cases!"
   ]
  },
  {
   "cell_type": "markdown",
   "metadata": {},
   "source": [
    "## Enclosing scope: accessing outer variables\n",
    "\n",
    "Here's how an inner function can access a variable from its enclosing (outer) function:"
   ]
  },
  {
   "cell_type": "code",
   "execution_count": null,
   "metadata": {},
   "outputs": [],
   "source": [
    "def outer_function():\n",
    "    outer_variable = \"I'm from the outer function!\" # Variable in outer_function's local scope\n",
    "    \n",
    "    def inner_function():\n",
    "        # inner_function can 'see' and use outer_variable\n",
    "        # because outer_variable is in its enclosing scope.\n",
    "        print(f\"Inner function says: {outer_variable}\")\n",
    "    \n",
    "    print(\"Calling inner_function from outer_function...\")\n",
    "    inner_function() # Call the inner function\n",
    "\n",
    "# Now, let's call the outer_function to see it in action\n",
    "outer_function()"
   ]
  },
  {
   "cell_type": "markdown",
   "metadata": {},
   "source": [
    "In this example, `outer_variable` is \"enclosing\" for `inner_function`."
   ]
  },
  {
   "cell_type": "markdown",
   "metadata": {},
   "source": [
    "## Enclosing scope: what if inner defines its own variable? (shadowing)\n",
    "\n",
    "If the inner function defines a variable with the *same name* as one in the outer function, the inner function will use its *own local* variable. This is called \"shadowing\"."
   ]
  },
  {
   "cell_type": "code",
   "execution_count": null,
   "metadata": {},
   "outputs": [],
   "source": [
    "def outer_function_shadow():\n",
    "    message = \"This is the OUTER message.\" # Variable in outer_function_shadow's scope\n",
    "    \n",
    "    def inner_function_shadow():\n",
    "        message = \"This is the INNER message!\" # This is a NEW, LOCAL variable for inner_function_shadow\n",
    "                                             # It \"shadows\" the outer 'message'\n",
    "        print(f\"Inside inner_function_shadow: {message}\") \n",
    "    \n",
    "    print(f\"Before calling inner, outer message is: {message}\")\n",
    "    inner_function_shadow()\n",
    "    print(f\"After calling inner, outer message is still: {message}\") # Unchanged\n",
    "\n",
    "outer_function_shadow()"
   ]
  },
  {
   "cell_type": "markdown",
   "metadata": {},
   "source": [
    "The `message` inside `inner_function_shadow` is a completely separate variable from the `message` in `outer_function_shadow`."
   ]
  },
  {
   "cell_type": "markdown",
   "metadata": {},
   "source": [
    "## Try it out! 🚀 {#sec:exercise-07}\n",
    "\n",
    "Consider the following code:\n",
    "```python\n",
    "a = 10 # Global variable\n",
    "\n",
    "def func_one():\n",
    "    b = 20 # Local to func_one\n",
    "    print(f\"Inside func_one: a = {a}, b = {b}\")\n",
    "\n",
    "    def func_two():\n",
    "        c = 30 # Local to func_two\n",
    "        # 'a' is global, 'b' is from enclosing scope of func_one\n",
    "        print(f\"Inside func_two: a = {a}, b = {b}, c = {c}\")\n",
    "    \n",
    "    func_two()\n",
    "    # print(f\"Inside func_one, trying to print c: {c}\") # What would happen here?\n",
    "\n",
    "func_one()\n",
    "# print(f\"Outside all functions: a = {a}\")\n",
    "# print(f\"Outside all functions, trying to print b: {b}\") # What would happen here?\n",
    "# print(f\"Outside all functions, trying to print c: {c}\") # What would happen here?\n",
    "```\n",
    "1.  Before running, predict what each `print` statement that is *not* commented out will output.\n",
    "2.  Then, run the code cell below to see the actual output.\n",
    "3.  After that, uncomment the lines one by one (those trying to print `b` and `c` outside their scopes, and `c` inside `func_one` but outside `func_two`) and run the cell again to observe the errors. Why do they occur?\n",
    "4.  What is the scope of `a`, `b`, and `c`?"
   ]
  },
  {
   "cell_type": "code",
   "execution_count": null,
   "metadata": {},
   "outputs": [],
   "source": [
    "a = 10 # Global variable\n",
    "\n",
    "def func_one():\n",
    "    b = 20 # Local to func_one\n",
    "    print(f\"Inside func_one: a = {a}, b = {b}\")\n",
    "\n",
    "    def func_two():\n",
    "        c = 30 # Local to func_two\n",
    "        # 'a' is global, 'b' is from enclosing scope of func_one\n",
    "        print(f\"Inside func_two: a = {a}, b = {b}, c = {c}\")\n",
    "    \n",
    "    func_two()\n",
    "    # print(f\"Inside func_one, trying to print c: {c}\") # Uncomment this line to test\n",
    "\n",
    "func_one()\n",
    "print(f\"Outside all functions: a = {a}\")\n",
    "# print(f\"Outside all functions, trying to print b: {b}\") # Uncomment this line to test\n",
    "# print(f\"Outside all functions, trying to print c: {c}\") # Uncomment this line to test"
   ]
  },
  {
   "cell_type": "markdown",
   "metadata": {},
   "source": [
    "# And that's all for today! 🎉"
   ]
  },
  {
   "cell_type": "markdown",
   "metadata": {},
   "source": [
    "# Have a great day! 😊"
   ]
  }
 ],
 "metadata": {
  "kernelspec": {
   "display_name": "Python 3 (ipykernel)",
   "language": "python",
   "name": "python3"
  },
  "language_info": {
   "codemirror_mode": {
    "name": "ipython",
    "version": 3
   },
   "file_extension": ".py",
   "mimetype": "text/x-python",
   "name": "python",
   "nbconvert_exporter": "python",
   "pygments_lexer": "ipython3",
   "version": "3.10.0"
  }
 },
 "nbformat": 4,
 "nbformat_minor": 5
}
