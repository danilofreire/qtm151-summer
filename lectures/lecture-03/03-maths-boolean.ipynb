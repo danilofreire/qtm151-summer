{
 "cells": [
  {
   "cell_type": "markdown",
   "metadata": {},
   "source": [
    "# QTM 151 - Introduction to Statistical Computing II\n",
    "## Lecture 03 - Maths Operations, Arrays, and Boolean Logic\n",
    "**Author:** Danilo Freire (danilo.freire@emory.edu)\n",
    "*Emory University*"
   ]
  },
  {
   "cell_type": "markdown",
   "metadata": {},
   "source": [
    "## Welcome to another lecture! 😊"
   ]
  },
  {
   "cell_type": "markdown",
   "metadata": {},
   "source": [
    "## Today's agenda\n",
    "### Introducing NumPy, `random`, and Boolean logic\n",
    "\n",
    "- First, a brief overview of [NumPy](https://numpy.org).\n",
    "- [NumPy](https://numpy.org) (short for \"Numerical Python\") is a library that provides support for large, multi-dimensional arrays and matrices.\n",
    "- [An array](https://numpy.org/doc/stable/user/absolute_beginners.html) is **a collection of numbers that are arranged in a regular grid** (vector, matrix, high-dimensional array - tensors).\n",
    "- In simpler terms, NumPy arrays are a \"super-powered list of numbers\".\n",
    "- NumPy is the backbone of many other libraries in Python, such as `pandas` and `scikit-learn`.\n",
    "- We will also learn about the `random` module, which generates random numbers.\n",
    "- Then, we will see how to use [Boolean logic](https://en.wikipedia.org/wiki/Boolean_data_type) in Python.\n",
    "\n",
    "![Boolean Logic Diagram](figures/boolean03.jpg)"
   ]
  },
  {
   "cell_type": "markdown",
   "metadata": {},
   "source": [
    "## Let's get started! 🚀"
   ]
  },
  {
   "cell_type": "markdown",
   "metadata": {},
   "source": [
    "### Importing NumPy and Matplotlib\n",
    "\n",
    "- As usual, we start by importing the libraries we will use.\n",
    "- NumPy has several functions.\n",
    "- For instance, $ln(x), e^x, sin(x), cos(x), \\sqrt{x}$.\n",
    "- Remember that exponentiation in Python is done using `**`, not `^`.\n",
    "\n",
    "- You can check a list of NumPy functions [here](https://numpy.org/doc/stable/reference/routines.math.html) (there are many!).\n",
    "\n",
    "---"
   ]
  },
  {
   "cell_type": "code",
   "execution_count": 1,
   "metadata": {},
   "outputs": [
    {
     "name": "stdout",
     "output_type": "stream",
     "text": [
      "0.0\n",
      "2.718281828459045\n",
      "0.8414709848078965\n",
      "0.5403023058681398\n",
      "1.0\n"
     ]
    }
   ],
   "source": [
    "# Importing packages\n",
    "import numpy as np\n",
    "import matplotlib.pyplot as plt\n",
    "\n",
    "# log(x): logarithm with base \"e\"\n",
    "# exp(x): Euler constant power of \"x\"\n",
    "# sin(x): sine of x\n",
    "# cos(x): cosine of x\n",
    "# We're substituting x = 1\n",
    "print(np.log(1))\n",
    "print(np.exp(1))\n",
    "print(np.sin(1))\n",
    "print(np.cos(1))\n",
    "print(np.sqrt(1))"
   ]
  },
  {
   "cell_type": "markdown",
   "metadata": {},
   "source": [
    "## Try it yourself! 🧠\n",
    "\n",
    "- Create a new variable, $x = 5$.\n",
    "- Compute $\\pi x^2$.\n",
    "- Compute $\\frac{1}{\\sqrt{2\\pi}}e^{-x^2}$.\n",
    "  - This is the probability density function of the standard normal distribution (don't worry if you don't know what it is yet! 🤓).\n",
    "\n",
    "- Don't forget how to exponentiate in Python 😉."
   ]
  },
  {
   "cell_type": "code",
   "execution_count": 2,
   "metadata": {},
   "outputs": [
    {
     "name": "stdout",
     "output_type": "stream",
     "text": [
      "100000\n"
     ]
    }
   ],
   "source": [
    "# Example of exponentiation\n",
    "x_example = 10\n",
    "print(x_example ** 5) # This is x_example to the power of 5\n",
    "\n",
    "# Not x_example^5 (which is bitwise XOR in Python)\n",
    "\n",
    "# Now, your turn for the exercise:\n",
    "x = 5\n",
    "\n",
    "# Compute pi * x^2\n",
    "# pi_x_squared = np.pi * (x**2)\n",
    "# print(f\"pi * x^2 = {pi_x_squared}\")\n",
    "\n",
    "# Compute 1/sqrt(2*pi) * e^(-x^2)\n",
    "# term1 = 1 / np.sqrt(2 * np.pi)\n",
    "# term2 = np.exp(-(x**2))\n",
    "# pdf_value = term1 * term2\n",
    "# print(f\"PDF value = {pdf_value}\")"
   ]
  },
  {
   "cell_type": "markdown",
   "metadata": {},
   "source": [
    "## Vector arrays with NumPy 📊"
   ]
  },
  {
   "cell_type": "markdown",
   "metadata": {},
   "source": [
    "### Creating arrays from lists\n",
    "\n",
    "- NumPy arrays are created using the `np.array()` function.\n",
    "- We can create arrays from lists.\n",
    "- We can also create arrays with a sequence of numbers using `np.arange()`.\n",
    "- We can create arrays with zeros or ones using `np.zeros()` and `np.ones()`.\n",
    "- And we're going to learn all of this in this lecture! 🤓"
   ]
  },
  {
   "cell_type": "markdown",
   "metadata": {},
   "source": [
    "### Creating arrays from lists (Examples)\n",
    "\n",
    "- Create an array from a list.\n",
    "\n",
    "$a = \\begin{pmatrix} 1 \\\\ 2 \\\\ 3 \\end{pmatrix}$\n",
    "$b = \\begin{pmatrix} 0 \\\\ 1 \\\\ 0 \\end{pmatrix}$\n",
    "$c = \\begin{pmatrix} 10 \\\\ 100 \\\\ 1000 \\\\ 2000 \\\\ 5000 \\end{pmatrix}$\n",
    "$d = \\begin{pmatrix} 4 \\\\ 2 \\end{pmatrix}$\n",
    "\n",
    "---"
   ]
  },
  {
   "cell_type": "code",
   "execution_count": 3,
   "metadata": {},
   "outputs": [
    {
     "name": "stdout",
     "output_type": "stream",
     "text": [
      "vec_a: [1 2 3]\n",
      "vec_b: [0 1 0]\n",
      "vec_c: [  10  100 1000 2000 5000]\n",
      "vec_d: [4 2]\n"
     ]
    }
   ],
   "source": [
    "vec_a  = np.array([1,2,3])\n",
    "vec_b  = np.array([0,1,0])\n",
    "vec_c  = np.array([10,100,1000,2000,5000])\n",
    "vec_d  = np.array([4,2])\n",
    "\n",
    "print(f\"vec_a: {vec_a}\")\n",
    "print(f\"vec_b: {vec_b}\")\n",
    "print(f\"vec_c: {vec_c}\")\n",
    "print(f\"vec_d: {vec_d}\")"
   ]
  },
  {
   "cell_type": "markdown",
   "metadata": {},
   "source": [
    "### Accessing an element of an array\n",
    "\n",
    "- We can access elements of an array using square brackets `[]`.\n",
    "- Remember that Python is zero-indexed.\n",
    "\n",
    "- Access the first and the third element of $a$:"
   ]
  },
  {
   "cell_type": "code",
   "execution_count": 4,
   "metadata": {},
   "outputs": [
    {
     "name": "stdout",
     "output_type": "stream",
     "text": [
      "Original vec_a: [1 2 3]\n",
      "First element of vec_a: 1\n",
      "Third element of vec_a: 3\n"
     ]
    }
   ],
   "source": [
    "print(f\"Original vec_a: {vec_a}\")\n",
    "print(f\"First element of vec_a: {vec_a[0]}\")\n",
    "print(f\"Third element of vec_a: {vec_a[2]}\")"
   ]
  },
  {
   "cell_type": "markdown",
   "metadata": {},
   "source": [
    "### Operations with a single array and a scalar\n",
    "\n",
    "- We can perform operations with a single array and a scalar.\n",
    "- For instance, we can add or multiply a scalar to an array.\n",
    "\n",
    "- Add 2 to each element of $a$:\n",
    "$a + 2 = \\begin{pmatrix} a_1 + 2 \\\\ a_2 + 2 \\\\ a_3 + 2 \\end{pmatrix}$\n",
    "\n",
    "---"
   ]
  },
  {
   "cell_type": "code",
   "execution_count": 5,
   "metadata": {},
   "outputs": [
    {
     "name": "stdout",
     "output_type": "stream",
     "text": [
      "Original vec_a: [1 2 3]\n",
      "vec_a + 2: [3 4 5]\n"
     ]
    }
   ],
   "source": [
    "# Print the original array\n",
    "print(f\"Original vec_a: {vec_a}\")\n",
    "\n",
    "# Adding 2 to each element of a\n",
    "print(f\"vec_a + 2: {vec_a + 2}\")"
   ]
  },
  {
   "cell_type": "markdown",
   "metadata": {},
   "source": [
    "- A scalar refers to either an int or float.\n",
    "- We can do many common operations:"
   ]
  },
  {
   "cell_type": "code",
   "execution_count": 6,
   "metadata": {},
   "outputs": [
    {
     "name": "stdout",
     "output_type": "stream",
     "text": [
      "vec_a * 2: [2 4 6]\n",
      "vec_a / 2: [0.5 1.  1.5]\n",
      "vec_a + 2: [3 4 5]\n",
      "vec_a ** 2: [1 4 9]\n"
     ]
    }
   ],
   "source": [
    "print(f\"vec_a * 2: {vec_a * 2}\")\n",
    "print(f\"vec_a / 2: {vec_a / 2}\")\n",
    "print(f\"vec_a + 2: {vec_a + 2}\") # Repeated for completeness from above\n",
    "print(f\"vec_a ** 2: {vec_a ** 2}\")"
   ]
  },
  {
   "cell_type": "markdown",
   "metadata": {},
   "source": [
    "### Element-by-element addition between two arrays of the same size\n",
    "\n",
    "$a + b = \\begin{pmatrix} a_1 \\\\ a_2 \\\\ a_3 \\end{pmatrix} +$ \n",
    "$\\begin{pmatrix} b_1 \\\\ b_2 \\\\ b_3 \\end{pmatrix} =$\n",
    "$\\begin{pmatrix} a_1 + b_1 \\\\ a_2 + b_2 \\\\ a_3 + b_3 \\end{pmatrix}$"
   ]
  },
  {
   "cell_type": "code",
   "execution_count": 7,
   "metadata": {},
   "outputs": [
    {
     "name": "stdout",
     "output_type": "stream",
     "text": [
      "vec_a: [1 2 3]\n",
      "vec_b: [0 1 0]\n",
      "vec_a + vec_b: [1 3 3]\n"
     ]
    }
   ],
   "source": [
    "print(f\"vec_a: {vec_a}\")\n",
    "print(f\"vec_b: {vec_b}\")\n",
    "\n",
    "# When you add two arrays of the same size,\n",
    "# Python adds the individual elements in each position\n",
    "print(f\"vec_a + vec_b: {vec_a + vec_b}\")"
   ]
  },
  {
   "cell_type": "markdown",
   "metadata": {},
   "source": [
    "### Element-by-element multiplication between two arrays of the same size\n",
    "\n",
    "$a * b = \\begin{pmatrix} a_1 * b_1 \\\\ a_2 * b_2 \\\\ a_3 * b_3 \\end{pmatrix}$"
   ]
  },
  {
   "cell_type": "code",
   "execution_count": 8,
   "metadata": {},
   "outputs": [
    {
     "name": "stdout",
     "output_type": "stream",
     "text": [
      "vec_a: [1 2 3]\n",
      "vec_b: [0 1 0]\n",
      "vec_a * vec_b: [0 2 0]\n",
      "vec_a - vec_b: [1 1 3]\n"
     ]
    }
   ],
   "source": [
    "print(f\"vec_a: {vec_a}\")\n",
    "print(f\"vec_b: {vec_b}\")\n",
    "\n",
    "# When you multiply two arrays of the same size,\n",
    "# Python multiplies the individual elements in each position\n",
    "print(f\"vec_a * vec_b: {vec_a * vec_b}\")\n",
    "\n",
    "# We can do other similar element-by-element operations\n",
    "# such as subtraction, and division.\n",
    "print(f\"vec_a - vec_b: {vec_a - vec_b}\")\n",
    "# print(f\"vec_a / vec_b: {vec_a / vec_b}\") # Note: Division by zero will result in 'inf' or 'nan'"
   ]
  },
  {
   "cell_type": "markdown",
   "metadata": {},
   "source": [
    "## Summary statistics 📊"
   ]
  },
  {
   "cell_type": "markdown",
   "metadata": {},
   "source": [
    "### Summary statistics of an array\n",
    "\n",
    "- NumPy provides several functions to compute summary statistics of an array.\n",
    "- For instance, we can compute the mean, median, standard deviation, variance, minimum, and maximum.\n",
    "- We can also compute the sum, product, and cumulative sum.\n"
   ]
  },
  {
   "cell_type": "code",
   "execution_count": 9,
   "metadata": {},
   "outputs": [
    {
     "name": "stdout",
     "output_type": "stream",
     "text": [
      "Mean of vec_a: 2.0\n",
      "Standard deviation of vec_a: 0.816496580927726\n",
      "Minimum of vec_a: 1\n",
      "Median of vec_a: 2.0\n",
      "Maximum of vec_a: 3\n"
     ]
    }
   ],
   "source": [
    "print(f\"Mean of vec_a: {np.mean(vec_a)}\")\n",
    "print(f\"Standard deviation of vec_a: {np.std(vec_a)}\")\n",
    "print(f\"Minimum of vec_a: {np.min(vec_a)}\")\n",
    "print(f\"Median of vec_a: {np.median(vec_a)}\")\n",
    "print(f\"Maximum of vec_a: {np.max(vec_a)}\")"
   ]
  },
  {
   "cell_type": "markdown",
   "metadata": {},
   "source": [
    "## Try it yourself! 🧠\n",
    "\n",
    "- Compute the mean of:\n",
    "\n",
    "$e = \\begin{pmatrix} 10 \\\\ 8 \\\\ 15 \\\\ 0 \\\\ 24 \\end{pmatrix}$"
   ]
  },
  {
   "cell_type": "code",
   "execution_count": null,
   "metadata": {},
   "outputs": [],
   "source": [
    "# Try it yourself: Compute the mean of vector e"
   ]
  },
  {
   "cell_type": "markdown",
   "metadata": {},
   "source": [
    "### Common pitfall\n",
    "#### Make sure that the arrays are of the same size!"
   ]
  },
  {
   "cell_type": "code",
   "execution_count": 11,
   "metadata": {},
   "outputs": [
    {
     "name": "stdout",
     "output_type": "stream",
     "text": [
      "vec_a: [1 2 3]\n",
      "vec_c: [  10  100 1000 2000 5000]\n",
      "Shape of vec_a: (3,)\n",
      "Shape of vec_c: (5,)\n"
     ]
    }
   ],
   "source": [
    "print(f\"vec_a: {vec_a}\")\n",
    "print(f\"vec_c: {vec_c}\")\n",
    "\n",
    "# Print the shape of the arrays\n",
    "print(f\"Shape of vec_a: {vec_a.shape}\")\n",
    "print(f\"Shape of vec_c: {vec_c.shape}\")"
   ]
  },
  {
   "cell_type": "markdown",
   "metadata": {},
   "source": [
    "When you try to add two arrays of different sizes, Python will raise an error:"
   ]
  },
  {
   "cell_type": "code",
   "execution_count": 12,
   "metadata": {
    "tags": [
     "raises-exception"
    ]
   },
   "outputs": [],
   "source": [
    "# This cell is expected to raise an error\n",
    "# print(vec_a + vec_c)"
   ]
  },
  {
   "cell_type": "markdown",
   "metadata": {},
   "source": [
    "```\n",
    "Traceback (most recent call last):\n",
    "  File \"<stdin>\", line 1, in <module>\n",
    "ValueError: operands could not be broadcast together with shapes (3,) (5,)\n",
    "```"
   ]
  },
  {
   "cell_type": "markdown",
   "metadata": {},
   "source": [
    "## Questions?"
   ]
  },
  {
   "cell_type": "markdown",
   "metadata": {},
   "source": [
    "## Random numbers with Python 🎲"
   ]
  },
  {
   "cell_type": "markdown",
   "metadata": {},
   "source": [
    "### Generating random numbers\n",
    "\n",
    "- Why randomness?\n",
    "  - Simulate different scenarios: high risk or low risk.\n",
    "  - Study properties of a complex system and/or estimator.\n",
    "  - In medicine, randomly assign subjects to treatment or control.\n",
    "  - In finance, simulate stock prices.\n",
    "  - In sports, simulate outcomes of games, etc.\n",
    "\n",
    "---\n",
    "\n",
    "- This code creates a vector of random variables generated from a normal distribution.\n",
    "- It has the mean `loc` (location) and standard deviation `scale`.\n",
    "- The number of distinct variables is `size`."
   ]
  },
  {
   "cell_type": "code",
   "execution_count": 13,
   "metadata": {},
   "outputs": [
    {
     "name": "stdout",
     "output_type": "stream",
     "text": [
      "[-0.02069529 -0.92853342  0.9932896  -0.09860223 -0.93401895  0.03863581\n",
      "  0.57777806 -0.2775039  -0.65817592  0.96974503]\n"
     ]
    }
   ],
   "source": [
    "# Generate 10 random variables \n",
    "# from a normal distribution\n",
    "# with mean = 0 and sd = 1\n",
    "randomvar_a = np.random.normal(loc=0, scale=1, size=10)\n",
    "print(randomvar_a)"
   ]
  },
  {
   "cell_type": "markdown",
   "metadata": {},
   "source": [
    "### Random numbers differ every time!\n",
    "\n",
    "- Avoid this problem by drawing from a \"pregenerated\" set.\n",
    "- This is called a seed, and it is set using `np.random.seed()`.\n",
    "- This allows for [reproducibility](https://en.wikipedia.org/wiki/Reproducibility) of results."
   ]
  },
  {
   "cell_type": "code",
   "execution_count": 14,
   "metadata": {},
   "outputs": [
    {
     "name": "stdout",
     "output_type": "stream",
     "text": [
      "[-0.63673759  0.53155853  0.99020835 -0.6241344   1.46778078  0.40501276\n",
      "  1.29817371 -2.61363271  1.35643373  1.87316055]\n"
     ]
    }
   ],
   "source": [
    "np.random.seed(151)\n",
    "\n",
    "random_var_b = np.random.normal(loc=0, scale=1, size=10)\n",
    "print(random_var_b)"
   ]
  },
  {
   "cell_type": "markdown",
   "metadata": {},
   "source": [
    "### Compute a histogram with the results\n",
    "\n",
    "- We can use the `plt.hist()` function to compute a histogram."
   ]
  },
  {
   "cell_type": "code",
   "execution_count": 15,
   "metadata": {},
   "outputs": [
    {
     "data": {
      "image/png": "[encoded data removed]",
      "text/plain": [
       "<Figure size 640x480 with 1 Axes>"
      ]
     },
     "metadata": {},
     "output_type": "display_data"
    }
   ],
   "source": [
    "# Create a histogram of the random variable\n",
    "randomvar_x = np.random.normal(loc=0, scale=1, size=1000)\n",
    "\n",
    "plt.hist(x = randomvar_x)\n",
    "plt.xlabel(\"Variable x\") # Corrected from 'Variable a'\n",
    "plt.ylabel(\"Frequency\")\n",
    "plt.title(\"Histogram of random variable x\") # Corrected from 'random variable a'\n",
    "plt.show()"
   ]
  },
  {
   "cell_type": "markdown",
   "metadata": {},
   "source": [
    "## Try it yourself!\n",
    "\n",
    "- Try this again with `size = 100`, `1000`, `10000` and see how the histogram changes."
   ]
  },
  {
   "cell_type": "code",
   "execution_count": null,
   "metadata": {},
   "outputs": [],
   "source": [
    "# Try it yourself: Generate histograms with different sizes"
   ]
  },
  {
   "cell_type": "markdown",
   "metadata": {},
   "source": [
    "## Boolean logic 🧠"
   ]
  },
  {
   "cell_type": "markdown",
   "metadata": {},
   "source": [
    "### Boolean logic\n",
    "#### A bit of history\n",
    "\n",
    "- Named after [George Boole](https://en.wikipedia.org/wiki/George_Boole), a British mathematician and philosopher.\n",
    "- [Boole's work on logic](https://en.wikipedia.org/wiki/Boolean_algebra) laid the foundation for modern computer science.\n",
    "- Boolean logic is a branch of algebra that deals with **true and false values**.\n",
    "- It is useful for computer programming because it is based on [binary](https://en.wikipedia.org/wiki/Binary_number) values.\n",
    "- In Python, Boolean values are `True` and `False`.\n",
    "- We use them to **make decisions** in our code.\n",
    "\n",
    "![George Boole](figures/boole.jpg)"
   ]
  },
  {
   "cell_type": "markdown",
   "metadata": {},
   "source": [
    "## Testing expressions with text 🐍"
   ]
  },
  {
   "cell_type": "markdown",
   "metadata": {},
   "source": [
    "### True and False values\n",
    "\n",
    "- We can test whether two values are equal using the `==` operator (**two equal signs**).\n",
    "- For example, `5 == 5` returns `True`.\n",
    "- We can also test whether two values are not equal using the `!=` operator (**exclamation mark followed by an equal sign**).\n",
    "- Let's see how this works in Python.\n",
    "\n",
    "- First, let's load the `matplotlib` and `numpy` libraries (if not already loaded in the session, though typically imports are at the top of a notebook)."
   ]
  },
  {
   "cell_type": "code",
   "execution_count": 17,
   "metadata": {},
   "outputs": [
    {
     "name": "stdout",
     "output_type": "stream",
     "text": [
      "False\n"
     ]
    }
   ],
   "source": [
    "# Imports are usually at the top, but re-importing won't hurt if needed for cell independence.\n",
    "# import matplotlib.pyplot as plt\n",
    "# import numpy as np\n",
    "\n",
    "# You can compare two strings by using a double \"equal sign\"\n",
    "# This can be useful if you're trying to evaluate whether data was entered correctly\n",
    "\n",
    "print(\"Is this the real life?\" == \"is this just fantasy?\")"
   ]
  },
  {
   "cell_type": "markdown",
   "metadata": {},
   "source": [
    "Note: the **order of the strings matter**! (Actually, for equality `==`, the order of comparison doesn't matter, but case and content do. The slide might have meant that string content is case-sensitive and character-by-character specific)."
   ]
  },
  {
   "cell_type": "code",
   "execution_count": 18,
   "metadata": {},
   "outputs": [
    {
     "name": "stdout",
     "output_type": "stream",
     "text": [
      "False\n"
     ]
    }
   ],
   "source": [
    "print(\"ab\" == \"ba\")"
   ]
  },
  {
   "cell_type": "markdown",
   "metadata": {},
   "source": [
    "### True and False values (Continued)\n",
    "\n",
    "- Equality of strings is most useful when you're comparing an unknown variable to a benchmark.\n",
    "\n",
    "- Below, try switching the value of `any_questions`."
   ]
  },
  {
   "cell_type": "code",
   "execution_count": 19,
   "metadata": {},
   "outputs": [
    {
     "name": "stdout",
     "output_type": "stream",
     "text": [
      "True\n"
     ]
    }
   ],
   "source": [
    "any_questions = \"no\"\n",
    "print(any_questions == \"no\")"
   ]
  },
  {
   "cell_type": "code",
   "execution_count": 20,
   "metadata": {},
   "outputs": [
    {
     "name": "stdout",
     "output_type": "stream",
     "text": [
      "False\n"
     ]
    }
   ],
   "source": [
    "any_questions = \"yes\" \n",
    "print(any_questions == \"no\")"
   ]
  },
  {
   "cell_type": "markdown",
   "metadata": {},
   "source": [
    "### Test for the presence of keywords in a sentence (`in` operator)\n",
    "\n",
    "- We can test whether a keyword is present in a sentence or a list using the `in` operator.\n",
    "- For example, `\"apple\" in \"I like apples\"` returns `True`.\n",
    "- Let's see how this works in Python."
   ]
  },
  {
   "cell_type": "code",
   "execution_count": 21,
   "metadata": {},
   "outputs": [
    {
     "name": "stdout",
     "output_type": "stream",
     "text": [
      "True\n"
     ]
    }
   ],
   "source": [
    "print(\"apple\" in \"I like apples\")"
   ]
  },
  {
   "cell_type": "code",
   "execution_count": 22,
   "metadata": {},
   "outputs": [
    {
     "name": "stdout",
     "output_type": "stream",
     "text": [
      "True\n"
     ]
    }
   ],
   "source": [
    "keyword = \"economic\"\n",
    "sentence = \"The Federal Reserve makes forecasts about many economic outcomes\"\n",
    "\n",
    "print(keyword in sentence)\n",
    "\n",
    "# Try changing the keyword!\n",
    "# keyword = \"political\"\n",
    "# print(keyword in sentence)"
   ]
  },
  {
   "cell_type": "markdown",
   "metadata": {},
   "source": [
    "- Now, let's test whether a keyword is present in a list."
   ]
  },
  {
   "cell_type": "code",
   "execution_count": 23,
   "metadata": {},
   "outputs": [
    {
     "name": "stdout",
     "output_type": "stream",
     "text": [
      "False\n",
      "True\n"
     ]
    }
   ],
   "source": [
    "current_month = \"September\"\n",
    "list_summer_months = [\"June\",\"July\",\"August\"]\n",
    "\n",
    "print(current_month in list_summer_months)\n",
    "print('June' in list_summer_months)"
   ]
  },
  {
   "cell_type": "markdown",
   "metadata": {},
   "source": [
    "## Testing expressions with numbers 🐍"
   ]
  },
  {
   "cell_type": "markdown",
   "metadata": {},
   "source": [
    "### Testing expressions with numbers\n",
    "\n",
    "- Tests with numbers:\n",
    "  - Strictly less than (`<`), less than or equal (`<=`)\n",
    "  - Equal (`==`)\n",
    "  - Strictly more than (`>`), greater than or equal to (`>=`)\n",
    "\n",
    "- Let's see how this works in Python."
   ]
  },
  {
   "cell_type": "code",
   "execution_count": 24,
   "metadata": {},
   "outputs": [
    {
     "name": "stdout",
     "output_type": "stream",
     "text": [
      "x < 5: False\n",
      "x <= 5: True\n",
      "x == 5: True\n",
      "x >= 5: True\n",
      "x > 5: False\n",
      "\n",
      "x <= 5: True\n",
      "x == 5: True\n",
      "x >= 5: True\n",
      "x > 5: False\n"
     ]
    }
   ],
   "source": [
    "x = 5\n",
    "\n",
    "print(f\"x < 5: {x < 5}\")\n",
    "print(f\"x <= 5: {x <= 5}\")\n",
    "print(f\"x == 5: {x == 5}\")\n",
    "print(f\"x >= 5: {x >= 5}\")\n",
    "print(f\"x > 5: {x > 5}\")"
   ]
  },
  {
   "cell_type": "markdown",
   "metadata": {},
   "source": [
    "### Validate a data type\n",
    "\n",
    "- We can test whether a variable is of a certain data type using the `isinstance()` function.\n",
    "- For example, `isinstance(5, int)` returns `True`.\n",
    "- Other data types include `float`, `str`, `list`, `tuple`, `dict`, `set`, `bool`."
   ]
  },
  {
   "cell_type": "code",
   "execution_count": 25,
   "metadata": {},
   "outputs": [
    {
     "name": "stdout",
     "output_type": "stream",
     "text": [
      "Is y an int? True\n",
      "Is y a float? False\n",
      "Is y a string? False\n"
     ]
    }
   ],
   "source": [
    "y = 10\n",
    "\n",
    "print(f\"Is y an int? {isinstance(y,int)}\")\n",
    "print(f\"Is y a float? {isinstance(y,float)}\")\n",
    "print(f\"Is y a string? {isinstance(y,str)}\")"
   ]
  },
  {
   "cell_type": "markdown",
   "metadata": {},
   "source": [
    "### Equality of vectors\n",
    "\n",
    "- We can test whether two vectors are equal using the `==` operator.\n",
    "- For example, `np.array([1,2,3]) == np.array([1,2,3])` returns an array `[True, True, True]`.\n",
    "- Please note that the equality of vectors is **done element-wise**. To check if two arrays are identical in shape and elements, use `np.array_equal()`."
   ]
  },
  {
   "cell_type": "code",
   "execution_count": 26,
   "metadata": {},
   "outputs": [
    {
     "name": "stdout",
     "output_type": "stream",
     "text": [
      "vec_a == vec_b_equal: [ True  True  True]\n",
      "np.array_equal(vec_a, vec_b_equal): True\n",
      "vec_a == vec_b_unequal: [ True  True False]\n",
      "np.array_equal(vec_a, vec_b_unequal): False\n"
     ]
    }
   ],
   "source": [
    "vec_a = np.array([1,2,3])\n",
    "vec_b_equal = np.array([1,2,3]) # Added for clarity\n",
    "vec_b_unequal = np.array([1,2,4])\n",
    "\n",
    "print(f\"vec_a == vec_b_equal: {vec_a == vec_b_equal}\") # Element-wise comparison\n",
    "print(f\"np.array_equal(vec_a, vec_b_equal): {np.array_equal(vec_a, vec_b_equal)}\") # Overall equality\n",
    "\n",
    "print(f\"vec_a == vec_b_unequal: {vec_a == vec_b_unequal}\")\n",
    "print(f\"np.array_equal(vec_a, vec_b_unequal): {np.array_equal(vec_a, vec_b_unequal)}\")"
   ]
  },
  {
   "cell_type": "markdown",
   "metadata": {},
   "source": [
    "## Try it out! 🧠\n",
    "\n",
    "- Define $x= -1$. Check whether $x^2 + 2x + 1 = 0$ is true.\n",
    "  - Please remember that $x^2$ is written as `x**2` in Python.\n",
    "  - Please note the difference between `==` (comparison) and `=` (assignment)."
   ]
  },
  {
   "cell_type": "code",
   "execution_count": null,
   "metadata": {},
   "outputs": [],
   "source": [
    "# Try it yourself: Check the equation"
   ]
  },
  {
   "cell_type": "markdown",
   "metadata": {},
   "source": [
    "## Testing multiple conditions 🐍"
   ]
  },
  {
   "cell_type": "markdown",
   "metadata": {},
   "source": [
    "### Testing multiple conditions\n",
    "\n",
    "- We can test multiple conditions using the `and` and `or` operators (or `&` and `|` for NumPy arrays element-wise operations).\n",
    "- The `and` operator returns `True` if both conditions are `True`.\n",
    "- The `or` operator returns `True` if at least one condition is `True`.\n",
    "\n",
    "![Boolean Logic AND/OR](figures/boolean01.jpg)"
   ]
  },
  {
   "cell_type": "markdown",
   "metadata": {},
   "source": [
    "### `not`: the negation operator\n",
    "\n",
    "- We can negate a condition using the `not` operator.\n",
    "- The `not` operator returns `True` if the condition is `False` and vice versa.\n",
    "  - Yes, it's a bit confusing at first, but it's intuitive once you see it in action.\n",
    "- For instance, imagine that you want to know whether someone can vote in the US.\n",
    "  - Here let's assume the person is a national and we only care about age.\n",
    "  - The person can vote if they are at least 18 years old.\n",
    "\n",
    "---"
   ]
  },
  {
   "cell_type": "code",
   "execution_count": 28,
   "metadata": {},
   "outputs": [
    {
     "name": "stdout",
     "output_type": "stream",
     "text": [
      "Age: 22, Can vote? True\n"
     ]
    }
   ],
   "source": [
    "age  = 22\n",
    "\n",
    "# Can this person legally vote in the US?\n",
    "can_vote = not (age < 18)\n",
    "print(f\"Age: {age}, Can vote? {can_vote}\")"
   ]
  },
  {
   "cell_type": "markdown",
   "metadata": {},
   "source": [
    "- The `not` operator can be separated by a space and parentheses are not necessary.\n",
    "- But parentheses can be helpful to organize your code logically."
   ]
  },
  {
   "cell_type": "code",
   "execution_count": 29,
   "metadata": {},
   "outputs": [
    {
     "name": "stdout",
     "output_type": "stream",
     "text": [
      "Age: 22, Can vote (no parentheses)? True\n"
     ]
    }
   ],
   "source": [
    "can_vote_no_parentheses = not age < 18\n",
    "print(f\"Age: {age}, Can vote (no parentheses)? {can_vote_no_parentheses}\")"
   ]
  },
  {
   "cell_type": "markdown",
   "metadata": {},
   "source": [
    "### Condition A and B need to be satisfied: `&` operator (or `and` for scalar booleans)\n",
    "\n",
    "- We can test multiple conditions using the `&` operator (for element-wise comparison in NumPy arrays) or `and` (for scalar boolean values).\n",
    "- The `&` or `and` operator returns `True` if both conditions are `True`.\n",
    "- For example, `(5 > 3) and (5 < 10)` returns `True`."
   ]
  },
  {
   "cell_type": "code",
   "execution_count": 30,
   "metadata": {},
   "outputs": [
    {
     "name": "stdout",
     "output_type": "stream",
     "text": [
      "Age: 31, Is between 20 and 30? False\n"
     ]
    }
   ],
   "source": [
    "# We use the \"and\" keyword for scalar booleans\n",
    "# or \"&\" for element-wise operations on NumPy arrays/Pandas Series\n",
    "age = 31\n",
    "\n",
    "# Is this age between 20 and 30 (including these ages)?\n",
    "is_between_20_and_30 = (age >= 20) and (age <= 30)\n",
    "print(f\"Age: {age}, Is between 20 and 30? {is_between_20_and_30}\")"
   ]
  },
  {
   "cell_type": "markdown",
   "metadata": {},
   "source": [
    "### Condition A or B needs to be satisfied: `|` operator (or `or` for scalar booleans)\n",
    "\n",
    "- To test whether at least one condition is `True`, we use the `|` operator (for NumPy/Pandas) or `or` (for scalars).\n",
    "- For example, `(5 > 3) or (5 > 10)` returns `True`."
   ]
  },
  {
   "cell_type": "code",
   "execution_count": 31,
   "metadata": {},
   "outputs": [
    {
     "name": "stdout",
     "output_type": "stream",
     "text": [
      "Age: 31, Is >= 20 or <= 30? True\n"
     ]
    }
   ],
   "source": [
    "# We use the \"or\" keyword for scalar booleans\n",
    "# or \"|\" for element-wise operations on NumPy arrays/Pandas Series.\n",
    "age = 31\n",
    "\n",
    "# Is this age higher than 20 or lower than 30?\n",
    "is_ge20_or_le30 = (age >= 20) or (age <= 30) # This will always be true for positive ages\n",
    "print(f\"Age: {age}, Is >= 20 or <= 30? {is_ge20_or_le30}\")"
   ]
  },
  {
   "cell_type": "code",
   "execution_count": 32,
   "metadata": {},
   "outputs": [
    {
     "name": "stdout",
     "output_type": "stream",
     "text": [
      "Status: freshman, Is freshman or sophomore? True\n",
      "\n"
     ]
    }
   ],
   "source": [
    "# Another example\n",
    "student_status = \"freshman\" \n",
    "\n",
    "# Is the student in the first two years of undergrad?\n",
    "is_first_two_years = (student_status == \"freshman\") or (student_status == \"sophomore\")\n",
    "print(f\"Status: {student_status}, Is freshman or sophomore? {is_first_two_years}\")"
   ]
  },
  {
   "cell_type": "markdown",
   "metadata": {},
   "source": [
    "## Try it out! 🚀\n",
    "\n",
    "- Now, let's test whether you can identify the correct expression.\n",
    "\n",
    "- Write code that checks the following conditions for `age = 31` (or any age you choose):\n",
    "  - Whether age is strictly less than 20, OR greater than 30.\n",
    "  - Whether age is NOT in the range 25-27 (inclusive)."
   ]
  },
  {
   "cell_type": "code",
   "execution_count": null,
   "metadata": {},
   "outputs": [],
   "source": [
    "# Try it yourself: Test multiple conditions"
   ]
  },
  {
   "cell_type": "markdown",
   "metadata": {},
   "source": [
    "## And that's all for today! 🥳"
   ]
  },
  {
   "cell_type": "markdown",
   "metadata": {},
   "source": [
    "## Thank you very much and see you next time! 🙏"
   ]
  }
 ],
 "metadata": {
  "kernelspec": {
   "display_name": "base",
   "language": "python",
   "name": "python3"
  },
  "language_info": {
   "codemirror_mode": {
    "name": "ipython",
    "version": 3
   },
   "file_extension": ".py",
   "mimetype": "text/x-python",
   "name": "python",
   "nbconvert_exporter": "python",
   "pygments_lexer": "ipython3",
   "version": "3.13.2"
  }
 },
 "nbformat": 4,
 "nbformat_minor": 2
}
