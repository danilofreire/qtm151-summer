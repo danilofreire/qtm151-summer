{
 "cells": [
  {
   "cell_type": "markdown",
   "id": "82c55c0c",
   "metadata": {},
   "source": [
    "# QTM 151 - Introduction to Statistical Computing II\n",
    "## Lecture 03 - Maths Operations, Arrays, and Boolean Logic\n",
    "**Author:** Danilo Freire (danilo.freire@emory.edu, Emory University)"
   ]
  },
  {
   "cell_type": "markdown",
   "id": "44d031db",
   "metadata": {},
   "source": [
    "# Welcome to another lecture! 😊"
   ]
  },
  {
   "cell_type": "markdown",
   "id": "218ac6cb",
   "metadata": {},
   "source": [
    "# Brief recap 📚"
   ]
  },
  {
   "cell_type": "markdown",
   "id": "63933250",
   "metadata": {},
   "source": [
    "## Today's agenda \n",
    "### Introducing NumPy, `random`, and Boolean logic\n",
    "\n",
    "- First, a brief overview of [NumPy](https://numpy.org)\n",
    "- [NumPy](https://numpy.org) (short for \"Numerical Python\") is a library that provides support for large, multi-dimensional arrays and matrices\n",
    "- [An array](https://numpy.org/doc/stable/user/absolute_beginners.html) is **a collection of numbers that are arranged in a regular grid** (vector, matrix, high-dimensional array - tensors)\n",
    "- In simpler terms, NumPy arrays are a \"super-powered list of numbers\"\n",
    "- NumPy is the backbone of many other libraries in Python, such as `pandas` and `scikit-learn`\n",
    "- We will also learn about the `random` module, which generates random numbers\n",
    "\n",
    "- Then, we will learn about [Boolean logic](https://en.wikipedia.org/wiki/Boolean_data_type)\n",
    "- Discuss the importance of [conditional statements in programming](https://en.wikipedia.org/wiki/Conditional_(computer_programming))\n",
    "- Understand how to use [conditional statements in Python](https://www.w3schools.com/python/python_conditions.asp)\n",
    "- Explore the `if`, `elif`, and `else` statements\n",
    "- Practice writing conditional statements in Python\n",
    "\n",
    "<img src=\"figures/boolean02.png\" alt=\"Boolean Logic Diagram\" width=\"90%\">"
   ]
  },
  {
   "cell_type": "markdown",
   "id": "ae28911b",
   "metadata": {},
   "source": [
    "# Let's get started! 🚀"
   ]
  },
  {
   "cell_type": "markdown",
   "id": "7f3b910f",
   "metadata": {},
   "source": [
    "## Importing NumPy and Matplotlib\n",
    "\n",
    "- As usual, we start by importing the libraries we will use\n",
    "- NumPy has several functions\n",
    "- For instance, $ln(x), e^x, sin(x), cos(x), \\sqrt{x}$\n",
    "- Remember that exponentiation in Python is done using `**`, not `^`\n",
    "\n",
    "<br>\n",
    "\n",
    "- You can check a list of NumPy functions [here](https://numpy.org/doc/stable/reference/routines.math.html) (there are many!)"
   ]
  },
  {
   "cell_type": "code",
   "execution_count": null,
   "id": "cdcafe94",
   "metadata": {},
   "outputs": [],
   "source": [
    "#| echo: true\n",
    "#| eval: true\n",
    "# Importing packages\n",
    "import numpy as np\n",
    "import matplotlib.pyplot as plt\n",
    "\n",
    "# log(x): logarithm with base \"e\"\n",
    "# exp(x): Euler constant power of \"x\"\n",
    "# sin(x): sine of x\n",
    "# cos(x): cosine of x\n",
    "# We're substituting x = 1\n",
    "print(np.log(1))\n",
    "print(np.exp(1))\n",
    "print(np.sin(1))\n",
    "print(np.cos(1))\n",
    "print(np.sqrt(1))"
   ]
  },
  {
   "cell_type": "markdown",
   "id": "1056986f",
   "metadata": {},
   "source": [
    "## Try it yourself! 🧠 {#sec-functions}\n",
    "\n",
    "- Create a new variable, $x = 5$\n",
    "- Compute $\\pi x^2$\n",
    "- Compute $\\frac{1}{\\sqrt{2\\pi}}e^{-x^2}$\n",
    "  - This is the probability density function of the standard normal distribution (don't worry if you don't know what it is yet! 🤓)\n",
    "\n",
    "- Don't forget how to exponentiate in Python 😉"
   ]
  },
  {
   "cell_type": "code",
   "execution_count": null,
   "id": "1648c4fe",
   "metadata": {},
   "outputs": [],
   "source": [
    "# Your code here. Refer to the instructions above.\n",
    "# As a hint from the original slides (you can remove this part):\n",
    "# x = 10\n",
    "# x ** 5\n",
    "\n",
    "# Not x^5"
   ]
  },
  {
   "cell_type": "markdown",
   "id": "dcb2fb72",
   "metadata": {},
   "source": [
    "# Vector arrays with NumPy 📊"
   ]
  },
  {
   "cell_type": "markdown",
   "id": "2032fc09",
   "metadata": {},
   "source": [
    "## Creating arrays from lists\n",
    "\n",
    "- NumPy arrays are created using the `np.array()` function\n",
    "- We can create arrays from lists\n",
    "- We can also create arrays with a sequence of numbers using `np.arange()`\n",
    "- We can create arrays with zeros or ones using `np.zeros()` and `np.ones()`\n",
    "- And we're going to learn all of this in this lecture! 🤓"
   ]
  },
  {
   "cell_type": "markdown",
   "id": "6618773c",
   "metadata": {},
   "source": [
    "## Creating arrays from lists\n",
    "\n",
    "- Create an array from a list\n",
    "\n",
    "- $a = \\begin{pmatrix} 1 \\\\ 2 \\\\ 3 \\end{pmatrix}$\n",
    "- $b = \\begin{pmatrix} 0 \\\\ 1 \\\\ 0\\end{pmatrix}$\n",
    "- $c = \\begin{pmatrix} 10 \\\\ 100 \\\\ 1000 \\\\ 2000 \\\\ 5000 \\end{pmatrix}$\n",
    "- $d = \\begin{pmatrix} 4 \\\\ 2 \\end{pmatrix}$"
   ]
  },
  {
   "cell_type": "code",
   "execution_count": null,
   "id": "ef42a9cc",
   "metadata": {},
   "outputs": [],
   "source": [
    "#| echo: true\n",
    "#| eval: true\n",
    "vec_a  = np.array([1,2,3])\n",
    "vec_b  = np.array([0,1,0])\n",
    "vec_c  = np.array([10,100,1000,2000,5000])\n",
    "vec_d  = np.array([4,2])"
   ]
  },
  {
   "cell_type": "markdown",
   "id": "98bb4449",
   "metadata": {},
   "source": [
    "## Accessing an element of an array\n",
    "\n",
    "- We can access elements of an array using square brackets `[]`\n",
    "- Remember that Python is zero-indexed\n",
    "  \n",
    "- Access the first and the third element of $a$"
   ]
  },
  {
   "cell_type": "code",
   "execution_count": null,
   "id": "ac60e8f2",
   "metadata": {},
   "outputs": [],
   "source": [
    "#| echo: true\n",
    "#| eval: true\n",
    "print(vec_a)\n",
    "print(vec_a[0])\n",
    "print(vec_a[2])"
   ]
  },
  {
   "cell_type": "markdown",
   "id": "50451d71",
   "metadata": {},
   "source": [
    "## Operations with a single array and a scalar\n",
    "\n",
    "- We can perform operations with a single array and a scalar\n",
    "- For instance, we can add or multiply a scalar to an array\n",
    "\n",
    "<br>\n",
    "\n",
    "- Add 2 to each element of $a$\n",
    "- $a + 2 = \\begin{pmatrix} a_1 + 2 \\\\ a_2 + 2 \\\\ a_3 + 2 \\end{pmatrix}$"
   ]
  },
  {
   "cell_type": "code",
   "execution_count": null,
   "id": "2682d634",
   "metadata": {},
   "outputs": [],
   "source": [
    "#| echo: true\n",
    "#| eval: true\n",
    "# Print the original array\n",
    "print(vec_a)\n",
    "\n",
    "# Adding 2 to each element of a\n",
    "print(vec_a + 2)"
   ]
  },
  {
   "cell_type": "markdown",
   "id": "98a2399b",
   "metadata": {},
   "source": [
    "- A scalar refers to either an int or float\n",
    "- We can do many common operations with"
   ]
  },
  {
   "cell_type": "code",
   "execution_count": null,
   "id": "2c74ac68",
   "metadata": {},
   "outputs": [],
   "source": [
    "#| echo: true\n",
    "#| eval: true \n",
    "print(vec_a * 2)\n",
    "print(vec_a / 2)\n",
    "print(vec_a + 2) # Note: This was already shown above, kept for completeness from slide\n",
    "print(vec_a ** 2)"
   ]
  },
  {
   "cell_type": "markdown",
   "id": "152cd25c",
   "metadata": {},
   "source": [
    "## Element-by-element addition between two arrays of the same size\n",
    "\n",
    "$a + b = \\begin{pmatrix} a_1 \\\\ a_2 \\\\ a_3 \\end{pmatrix} +$\n",
    "$\\begin{pmatrix} b_1 \\\\ b_2 \\\\ b_3 \\end{pmatrix} =$\n",
    "$\\begin{pmatrix} a_1 + b_1 \\\\ a_2 + b_2 \\\\ a_3 + b_3 \\end{pmatrix}$"
   ]
  },
  {
   "cell_type": "code",
   "execution_count": null,
   "id": "dd60c373",
   "metadata": {},
   "outputs": [],
   "source": [
    "#| echo: true\n",
    "#| eval: true \n",
    "print(vec_a)\n",
    "print(vec_b)\n",
    "\n",
    "# When you add two arrays of the same size,\n",
    "# Python adds the individual elements in each position\n",
    "print(vec_a + vec_b)"
   ]
  },
  {
   "cell_type": "markdown",
   "id": "b1316496",
   "metadata": {},
   "source": [
    "## Element-by-element multiplication between two arrays of the same size\n",
    "\n",
    "$a * b = \\begin{pmatrix} a_1 * b_1 \\\\ a_2 * b_2 \\\\ a_3 * b_3 \\end{pmatrix}$"
   ]
  },
  {
   "cell_type": "code",
   "execution_count": null,
   "id": "cee9328d",
   "metadata": {},
   "outputs": [],
   "source": [
    "#| echo: true\n",
    "#| eval: true\n",
    "print(vec_a)\n",
    "print(vec_b)\n",
    "\n",
    "# When you multiply two arrays of the same size,\n",
    "# Python multiplies the individual elements in each position\n",
    "print(vec_a * vec_b)\n",
    "\n",
    "# We can do other similar element-by-element operations\n",
    "# such as subtraction, and division.\n",
    "print(vec_a - vec_b)\n",
    "print(vec_a / vec_b) # Note: division by zero will result in 'inf' or 'nan' if b contains zeros."
   ]
  },
  {
   "cell_type": "markdown",
   "id": "e02e55c5",
   "metadata": {},
   "source": [
    "# Summary statistics 📊"
   ]
  },
  {
   "cell_type": "markdown",
   "id": "ec19307e",
   "metadata": {},
   "source": [
    "## Summary statistics of an array\n",
    "\n",
    "- NumPy provides several functions to compute summary statistics of an array\n",
    "- For instance, we can compute the mean, median, standard deviation, variance, minimum, and maximum\n",
    "- We can also compute the sum, product, and cumulative sum\n",
    "\n",
    "<br>"
   ]
  },
  {
   "cell_type": "code",
   "execution_count": null,
   "id": "3f31632d",
   "metadata": {},
   "outputs": [],
   "source": [
    "#| echo: true\n",
    "#| eval: true\n",
    "print(np.mean(vec_a))\n",
    "print(np.std(vec_a))\n",
    "print(np.min(vec_a))\n",
    "print(np.median(vec_a))\n",
    "print(np.max(vec_a))"
   ]
  },
  {
   "cell_type": "markdown",
   "id": "192ca1df",
   "metadata": {},
   "source": [
    "## Try it yourself! 🧠 {#sec-summary} \n",
    "\n",
    "- Compute the mean of:\n",
    "\n",
    "$e = \\begin{pmatrix} 10 \\\\ 8 \\\\ 15 \\\\ 0 \\\\ 24 \\end{pmatrix}$"
   ]
  },
  {
   "cell_type": "code",
   "execution_count": null,
   "id": "35b3e589",
   "metadata": {},
   "outputs": [],
   "source": [
    "# Your code here. Refer to the instructions above."
   ]
  },
  {
   "cell_type": "markdown",
   "id": "5a3e4015",
   "metadata": {},
   "source": [
    "## Common pitfall\n",
    "### Make sure that the arrays are of the same size!"
   ]
  },
  {
   "cell_type": "code",
   "execution_count": null,
   "id": "be812296",
   "metadata": {},
   "outputs": [],
   "source": [
    "#| echo: true\n",
    "#| eval: true\n",
    "print(vec_a)\n",
    "print(vec_c)\n",
    "\n",
    "# Print the shape of the arrays\n",
    "print(vec_a.shape)\n",
    "print(vec_c.shape)"
   ]
  },
  {
   "cell_type": "code",
   "execution_count": null,
   "id": "89f7e807",
   "metadata": {},
   "outputs": [],
   "source": [
    "#| echo: true\n",
    "#| eval: false \n",
    "# When you add two arrays of different sizes,\n",
    "# Python will raise an error\n",
    "print(vec_a + vec_c)"
   ]
  },
  {
   "cell_type": "markdown",
   "id": "8b966dba",
   "metadata": {},
   "source": [
    "```text\n",
    "Traceback (most recent call last):\n",
    "  File \"<python-input-10>\", line 1, in <module>\n",
    "    print(vec_a + vec_c)\n",
    "          ~~~~~~^~~~~~~\n",
    "ValueError: operands could not be broadcast together with shapes (3,) (5,) \n",
    ">>> \n",
    "```"
   ]
  },
  {
   "cell_type": "markdown",
   "id": "8fa3a008",
   "metadata": {},
   "source": [
    "# Questions?"
   ]
  },
  {
   "cell_type": "markdown",
   "id": "1471443e",
   "metadata": {},
   "source": [
    "# Random numbers with Python 🎲"
   ]
  },
  {
   "cell_type": "markdown",
   "id": "b4e9cf4f",
   "metadata": {},
   "source": [
    "## Generating random numbers\n",
    "\n",
    "- Why randomness?\n",
    "  - Simulate different scenarios: high risk or low risk\n",
    "  - Study properties of a complex system and/or estimator\n",
    "  - In medicine, randomly assign subjects to treatment or control\n",
    "  - In finance, simulate stock prices\n",
    "  - In sports, simulate outcomes of games, etc\n",
    "\n",
    "- This code creates a vector of random variables generated from a normal distribution \n",
    "- It has the mean \"loc\" (location) and standard deviation \"scale\"\n",
    "- The number of distinct variabels is \"size\""
   ]
  },
  {
   "cell_type": "code",
   "execution_count": null,
   "id": "b01a30b1",
   "metadata": {},
   "outputs": [],
   "source": [
    "#| echo: true\n",
    "#| eval: true\n",
    "\n",
    "# Generate 10 random variables \n",
    "# from a normal distribution\n",
    "# with mean = 0 and sd = 1\n",
    "randomvar_a = np.random.normal(loc=0, scale=1, size=10)\n",
    "print(randomvar_a)"
   ]
  },
  {
   "cell_type": "markdown",
   "id": "acbcc1ac",
   "metadata": {},
   "source": [
    "## Random numbers differ every time!\n",
    "\n",
    "- Avoid this problem by drawing from a \"pregenerated\" set.\n",
    "- This is called a seed, and it is set using `np.random.seed()`\n",
    "- This allows for [reproducibility](https://en.wikipedia.org/wiki/Reproducibility) of results"
   ]
  },
  {
   "cell_type": "code",
   "execution_count": null,
   "id": "56db23b5",
   "metadata": {},
   "outputs": [],
   "source": [
    "#| echo: true\n",
    "#| eval: true\n",
    "np.random.seed(151)\n",
    "\n",
    "random_var_b = np.random.normal(loc=0, scale=1, size=10)\n",
    "print(random_var_b)"
   ]
  },
  {
   "cell_type": "markdown",
   "id": "c8f08c33",
   "metadata": {},
   "source": [
    "## Compute a histogram with the results\n",
    "\n",
    "- We can use the `plt.hist()` function to compute a histogram"
   ]
  },
  {
   "cell_type": "code",
   "execution_count": null,
   "id": "d4cbbf4d",
   "metadata": {},
   "outputs": [],
   "source": [
    "#| echo: true\n",
    "#| eval: true\n",
    "\n",
    "# Create a histogram of the random variable\n",
    "randomvar_x = np.random.normal(loc=0, scale=1, size=1000)\n",
    "\n",
    "plt.hist(x = randomvar_x)\n",
    "plt.xlabel(\"Variable a\")\n",
    "plt.ylabel(\"Frequency\")\n",
    "plt.title(\"Histogram of random variable a\")\n",
    "plt.show()"
   ]
  },
  {
   "cell_type": "markdown",
   "id": "252a1a6e",
   "metadata": {},
   "source": [
    "## Try it yourself! {#sec-histogram}\n",
    "\n",
    "- Try this again with $size = 100, 1000, 10000$ and see how the histogram changes"
   ]
  },
  {
   "cell_type": "code",
   "execution_count": null,
   "id": "7c80b347",
   "metadata": {},
   "outputs": [],
   "source": [
    "# Your code here. Refer to the instructions above."
   ]
  },
  {
   "cell_type": "markdown",
   "id": "2fb68d8a",
   "metadata": {},
   "source": [
    "# Boolean logic 🧠"
   ]
  },
  {
   "cell_type": "markdown",
   "id": "d6fe69c2",
   "metadata": {},
   "source": [
    "## Boolean logic\n",
    "### A bit of history\n",
    "\n",
    "- Named after [George Boole](https://en.wikipedia.org/wiki/George_Boole), a British mathematician and philosopher\n",
    "- [Boole's work on logic](https://en.wikipedia.org/wiki/Boolean_algebra) laid the foundation for modern computer science\n",
    "- Boolean logic is a branch of algebra that deals with [true and false values](https://en.wikipedia.org/wiki/Boolean_data_type)\n",
    "- It is useful for computer programming because it is based on [binary](https://en.wikipedia.org/wiki/Binary_number) values\n",
    "- In Python, Boolean values are `True` and `False`\n",
    "- We use them to **make decisions** in our code\n",
    "\n",
    "<img src=\"figures/boole.jpg\" alt=\"George Boole\" width=\"100%\">"
   ]
  },
  {
   "cell_type": "markdown",
   "id": "64ca0518",
   "metadata": {},
   "source": [
    "# Testing expressions with text 🐍"
   ]
  },
  {
   "cell_type": "markdown",
   "id": "874ae03d",
   "metadata": {},
   "source": [
    "## True and False values\n",
    "\n",
    "- We can test whether two values are equal using the `==` operator (**two equal signs**)\n",
    "- For example, `5 == 5` returns `True`\n",
    "- We can also test whether two values are not equal using the `!=` operator (**exclamation mark followed by an equal sign**)\n",
    "- Let's see how this works in Python\n",
    "\n",
    "- First, let's load the `matplotlib` and `numpy` libraries (Note: these were imported earlier, re-importing is harmless but not strictly necessary if the kernel session is continuous)."
   ]
  },
  {
   "cell_type": "code",
   "execution_count": null,
   "id": "2c90591d",
   "metadata": {},
   "outputs": [],
   "source": [
    "#| echo: true\n",
    "#| eval: true \n",
    "import matplotlib.pyplot as plt\n",
    "import numpy as np\n",
    "\n",
    "# You can compare two strings by using a double \"equal sign\"\n",
    "# This can be useful if you're trying to evaluate whether data was entered correctly\n",
    "\n",
    "\"Is this the real life?\" == \"is this just fantasy?\""
   ]
  },
  {
   "cell_type": "markdown",
   "id": "adba7581",
   "metadata": {},
   "source": [
    "Note: the **order of the strings matter**!"
   ]
  },
  {
   "cell_type": "code",
   "execution_count": null,
   "id": "b3f959e8",
   "metadata": {},
   "outputs": [],
   "source": [
    "#| echo: true\n",
    "#| eval: true\n",
    "\"ab\" == \"ba\""
   ]
  },
  {
   "cell_type": "markdown",
   "id": "c52c8cf7",
   "metadata": {},
   "source": [
    "## True and False values\n",
    "\n",
    "- Equality of strings is most useful when you're comparing an unknown variable to a benchmark \n",
    "\n",
    "- Below, try switching the value of `any_questions`"
   ]
  },
  {
   "cell_type": "code",
   "execution_count": null,
   "id": "0aa867b2",
   "metadata": {},
   "outputs": [],
   "source": [
    "#| echo: true\n",
    "#| eval: true \n",
    "any_questions = \"no\"\n",
    "print(any_questions == \"no\")"
   ]
  },
  {
   "cell_type": "code",
   "execution_count": null,
   "id": "4a1e35bb",
   "metadata": {},
   "outputs": [],
   "source": [
    "#| echo: true\n",
    "#| eval: true\n",
    "any_questions = \"yes\" \n",
    "print(any_questions == \"no\")"
   ]
  },
  {
   "cell_type": "markdown",
   "id": "798438fe",
   "metadata": {},
   "source": [
    "## Test for the presence of keywords in a sentence (`in` operator)\n",
    "\n",
    "- We can test whether a keyword is present in a sentence or a list using the `in` operator\n",
    "- For example, `\"apple\" in \"I like apples\"` returns `True`\n",
    "- Let's see how this works in Python"
   ]
  },
  {
   "cell_type": "code",
   "execution_count": null,
   "id": "c15e21b5",
   "metadata": {},
   "outputs": [],
   "source": [
    "#| echo: true\n",
    "#| eval: true\n",
    "\"apple\" in \"I like apples\""
   ]
  },
  {
   "cell_type": "code",
   "execution_count": null,
   "id": "4ef4a535",
   "metadata": {},
   "outputs": [],
   "source": [
    "#| echo: true\n",
    "#| eval: true\n",
    "keyword = \"economic\"\n",
    "sentence = \"The Federal Reserve makes forecasts about many economic outcomes\"\n",
    "\n",
    "keyword in sentence\n",
    "\n",
    "# Try changing the keyword!"
   ]
  },
  {
   "cell_type": "markdown",
   "id": "1bd37a60",
   "metadata": {},
   "source": [
    "- Now, let's test whether a keyword is present in a list"
   ]
  },
  {
   "cell_type": "code",
   "execution_count": null,
   "id": "702bc550",
   "metadata": {},
   "outputs": [],
   "source": [
    "#| echo: true\n",
    "#| eval: true\n",
    "current_month = \"September\"\n",
    "list_summer_months = [\"June\",\"July\",\"August\"]\n",
    "\n",
    "print(current_month in list_summer_months)\n",
    "print('June' in list_summer_months)"
   ]
  },
  {
   "cell_type": "markdown",
   "id": "814c45e5",
   "metadata": {},
   "source": [
    "# Testing expressions with numbers 🐍"
   ]
  },
  {
   "cell_type": "markdown",
   "id": "a0cb6625",
   "metadata": {},
   "source": [
    "## Testing expressions with numbers\n",
    "\n",
    "- Tests with numbers\n",
    "  - Strictly less than (<), less than or equal (<=)\n",
    "  - Equal (==)\n",
    "  - Strictly more than (>), greater than or equal to (>=)\n",
    "\n",
    "- Let's see how this works in Python"
   ]
  },
  {
   "cell_type": "code",
   "execution_count": null,
   "id": "f10ac039",
   "metadata": {},
   "outputs": [],
   "source": [
    "#| echo: true\n",
    "#| eval: true\n",
    "x = 5\n",
    "\n",
    "print(x < 5)\n",
    "print(x <= 5)\n",
    "print(x == 5)\n",
    "print(x >= 5)\n",
    "print(x > 5)"
   ]
  },
  {
   "cell_type": "markdown",
   "id": "367d20c9",
   "metadata": {},
   "source": [
    "## Validate a data type \n",
    "\n",
    "- We can test whether a variable is of a certain data type using the `isinstance()` function\n",
    "- For example, `isinstance(5, int)` returns `True`\n",
    "- Other data types include `float`, `str`, `list`, `tuple`, `dict`, `set`, `bool`"
   ]
  },
  {
   "cell_type": "code",
   "execution_count": null,
   "id": "9fa4faeb",
   "metadata": {},
   "outputs": [],
   "source": [
    "#| echo: true\n",
    "#| eval: true\n",
    "y = 10\n",
    "\n",
    "print(isinstance(y,int))\n",
    "print(isinstance(y,float))\n",
    "print(isinstance(y,str))"
   ]
  },
  {
   "cell_type": "markdown",
   "id": "5784aeca",
   "metadata": {},
   "source": [
    "## Equality of vectors {#sec:question02}\n",
    "\n",
    "- We can test whether two vectors are equal using the `==` operator\n",
    "- For example, `[1,2,3] == [1,2,3]` returns `True`\n",
    "- Please note that the equality of vectors is [done element-wise](https://numpy.org/doc/stable/reference/generated/numpy.array_equal.html)"
   ]
  },
  {
   "cell_type": "code",
   "execution_count": null,
   "id": "677e8ecc",
   "metadata": {},
   "outputs": [],
   "source": [
    "#| echo: true\n",
    "#| eval: true\n",
    "vec_a = np.array([1,2,3])\n",
    "vec_b = np.array([1,2,4])\n",
    "\n",
    "vec_a == vec_b"
   ]
  },
  {
   "cell_type": "markdown",
   "id": "725642c7",
   "metadata": {},
   "source": [
    "## Try it out! 🧠\n",
    "\n",
    "- Define $x= -1$. Check whether $x^2 + 2x + 1 = 0$ is true \n",
    "  - Please remember that $x^2$ is written as `x**2` in Python\n",
    "  - Please note the difference between `==` and `=`"
   ]
  },
  {
   "cell_type": "code",
   "execution_count": null,
   "id": "5036e297",
   "metadata": {},
   "outputs": [],
   "source": [
    "# Your code here. Refer to the instructions above."
   ]
  },
  {
   "cell_type": "markdown",
   "id": "00aacf6b",
   "metadata": {},
   "source": [
    "# Testing multiple conditions 🐍"
   ]
  },
  {
   "cell_type": "markdown",
   "id": "f16d083a",
   "metadata": {},
   "source": [
    "## Testing multiple conditions\n",
    "\n",
    "- We can test multiple conditions using the `and` and `or` operators\n",
    "- The `and` operator returns `True` if both conditions are `True`\n",
    "- The `or` operator returns `True` if at least one condition is `True`\n",
    "\n",
    "<img src=\"figures/boolean01.jpg\" alt=\"Boolean Operators Truth Table\" width=\"100%\">"
   ]
  },
  {
   "cell_type": "markdown",
   "id": "6aee8788",
   "metadata": {},
   "source": [
    "## `not`: the negation operator\n",
    "\n",
    "- We can negate a condition using the `not` operator\n",
    "- The `not` operator returns `True` if the condition is `False` and vice versa\n",
    "  - Yes, it's a bit confusing at first, but it's intuitive once you see it in action\n",
    "- For instance, imagine that you want to know whether someone can vote in the US \n",
    "  - Here let's assume the person is a national and we only care about age\n",
    "  - The person can vote if they are at least 18 years old"
   ]
  },
  {
   "cell_type": "code",
   "execution_count": null,
   "id": "d2144f62",
   "metadata": {},
   "outputs": [],
   "source": [
    "#| echo: true\n",
    "#| eval: true\n",
    "age  = 22\n",
    "\n",
    "# Can this person legally vote in the US?\n",
    "not (age < 18)"
   ]
  },
  {
   "cell_type": "markdown",
   "id": "6512b686",
   "metadata": {},
   "source": [
    "- The `not` operator can be separated by a space and parentheses are not necessary\n",
    "- But parentheses can be helpful to organize your code logically"
   ]
  },
  {
   "cell_type": "code",
   "execution_count": null,
   "id": "77e518c9",
   "metadata": {},
   "outputs": [],
   "source": [
    "#| echo: true\n",
    "#| eval: true\n",
    "not age < 18"
   ]
  },
  {
   "cell_type": "markdown",
   "id": "9485008c",
   "metadata": {},
   "source": [
    "## Condition A and B need to be satisfied: `&` operator\n",
    "\n",
    "- We can test multiple conditions using the `&` operator\n",
    "- The `&` operator returns `True` if both conditions are `True`\n",
    "- For example, `5 > 3 & 5 < 10` returns `True`"
   ]
  },
  {
   "cell_type": "code",
   "execution_count": null,
   "id": "9c642771",
   "metadata": {},
   "outputs": [],
   "source": [
    "#| echo: true\n",
    "#| eval: true\n",
    "# We use the \"&\" symbol to separate \"AND\" conditions\n",
    "age = 31\n",
    "\n",
    "# Is this age between 20 and 30 (including these ages)?\n",
    "( age >= 20 ) & (age <= 30)"
   ]
  },
  {
   "cell_type": "markdown",
   "id": "98109b87",
   "metadata": {},
   "source": [
    "## Condition A or B needs to be satisfied: `|` operator\n",
    "\n",
    "- To test whether at least one condition is `True`, we use the `|` operator\n",
    "- For example, `5 > 3 | 5 > 10` returns `True`"
   ]
  },
  {
   "cell_type": "code",
   "execution_count": null,
   "id": "18639986",
   "metadata": {},
   "outputs": [],
   "source": [
    "#| echo: true\n",
    "#| eval: true\n",
    "# We use the \"|\" symbol to separate \"OR\" conditions.\n",
    "age = 31\n",
    "\n",
    "# Is this age higher than 20 or lower than 30?\n",
    "( age >= 20 ) | (age <= 30)"
   ]
  },
  {
   "cell_type": "code",
   "execution_count": null,
   "id": "5fb403a4",
   "metadata": {},
   "outputs": [],
   "source": [
    "#| echo: true\n",
    "#| eval: true\n",
    "# Another example\n",
    "student_status = \"freshman\" \n",
    "\n",
    "# Is the student in the first two years of undergrad?\n",
    "(student_status == \"freshman\") | (student_status == \"sophomore\")"
   ]
  },
  {
   "cell_type": "markdown",
   "id": "85e8c484",
   "metadata": {},
   "source": [
    "## Try it out! 🚀 {#sec:question03}\n",
    "\n",
    "- Now, let's test whether you can identify the correct expression\n",
    "\n",
    "- Write code that checks the following conditions:\n",
    "  - Whether age is strictly less than 20, or greater than 30\n",
    "  - Not in the age range 25-27"
   ]
  },
  {
   "cell_type": "code",
   "execution_count": null,
   "id": "64bfb241",
   "metadata": {},
   "outputs": [],
   "source": [
    "# Your code here. Refer to the instructions above.\n",
    "# Define 'age' first, for example: \n",
    "# age = 31 # or any other age to test"
   ]
  },
  {
   "cell_type": "markdown",
   "id": "a0c2db0c",
   "metadata": {},
   "source": [
    "# And that's all for today! 🥳"
   ]
  },
  {
   "cell_type": "markdown",
   "id": "03d9ebf4",
   "metadata": {},
   "source": [
    "# Thank you very much and see you next time! 🙏"
   ]
  }
 ],
 "metadata": {
  "kernelspec": {
   "display_name": "Python 3 (ipykernel)",
   "language": "python",
   "name": "python3"
  },
  "language_info": {
   "codemirror_mode": {
    "name": "ipython",
    "version": 3
   },
   "file_extension": ".py",
   "mimetype": "text/x-python",
   "name": "python",
   "nbconvert_exporter": "python",
   "pygments_lexer": "ipython3",
   "version": "3.9.12"
  }
 },
 "nbformat": 4,
 "nbformat_minor": 5
}
