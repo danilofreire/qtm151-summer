{
 "cells": [
  {
   "cell_type": "markdown",
   "metadata": {},
   "source": [
    "# QTM 151 - Introduction to Statistical Computing II\n",
    "## Lecture 13 - Merge Tables in SQL\n",
    "**Author:** Danilo Freire (danilo.freire@emory.edu, Emory University)"
   ]
  },
  {
   "cell_type": "markdown",
   "metadata": {},
   "source": [
    "# Hello again! 😊 <br>"
   ]
  },
  {
   "cell_type": "markdown",
   "metadata": {},
   "source": [
    "# Brief recap 📚"
   ]
  },
  {
   "cell_type": "markdown",
   "metadata": {},
   "source": [
    "## Recap of last class and today's plan\n",
    "\n",
    "### Last time we learned how to:\n",
    "\n",
    "- Connect SQL with Python with `sqlite3` and `pandas`\n",
    "- Use many SQL commands, such as `CASE WHEN`, window functions, and string functions\n",
    "- Fill missing data with `COALESCE` and `CASE WHEN`\n",
    "- Use `pandas` to write and run SQL queries\n",
    "- Pivot tables in SQLite\n",
    "\n",
    "### Today we will learn how to:\n",
    "\n",
    "- See different types of join in SQL\n",
    "- Use special joins, such as `CROSS JOIN` and `SELF JOIN`\n",
    "- Merge tables by row with `UNION`, `INTERSECT`, and `EXCEPT`\n",
    "- Learn how to create `UPSERT` statements in SQLite\n",
    "- Create `VIEWS` in SQLite\n",
    "- Solve exercises to practice what we learned\n",
    "- Let's get started! 🚀"
   ]
  },
  {
   "cell_type": "markdown",
   "metadata": {},
   "source": [
    "# Basic joins 📊"
   ]
  },
  {
   "cell_type": "markdown",
   "metadata": {},
   "source": [
    "## Primary and foreign keys\n",
    "\n",
    "- As with many languages, you can merge two tables in SQL either **by columns or by rows**\n",
    "- The most common method is the `JOIN` clause\n",
    "- `JOIN` is used to **combine rows and columns from two or more tables** based on a related column between them\n",
    "- As you know, there are two types of keys, **primary and foreign keys**\n",
    "- The **primary key** is a column that **uniquely identifies each row in a table**\n",
    "- A **foreign key** is a column that **identifies a column in another table**\n",
    "  - One table can have **multiple foreign keys, and they can be `NULL`**\n",
    "  - SQLite supports foreign keys, and the Python `sqlite3` module handles them correctly by default\n",
    "\n",
    "![](figures/common_database_keys_explained-f_mobile.png)"
   ]
  },
  {
   "cell_type": "markdown",
   "metadata": {},
   "source": [
    "## Load the libraries and connect to the database {#sec:tables}\n",
    "\n",
    "- Let's load the libraries and connect to the SQLite database. We'll use a file named `lecture13.db`."
   ]
  },
  {
   "cell_type": "code",
   "execution_count": null,
   "metadata": {},
   "outputs": [],
   "source": [
    "import pandas as pd\n",
    "import sqlite3\n",
    "from IPython.display import display # For richer display in Jupyter\n",
    "\n",
    "# Connect to the SQLite database (this will create the file if it doesn't exist)\n",
    "connection = sqlite3.connect('lecture13.db')\n",
    "cursor = connection.cursor()\n",
    "\n",
    "cursor.execute('DROP TABLE IF EXISTS players;')\n",
    "cursor.execute('''\n",
    "CREATE TABLE players (\n",
    "    player_id INTEGER PRIMARY KEY AUTOINCREMENT, \n",
    "    player_name TEXT NOT NULL UNIQUE,\n",
    "    goals INT NOT NULL, \n",
    "    victories INT NOT NULL\n",
    ");\n",
    "''')\n",
    "\n",
    "cursor.execute('DROP TABLE IF EXISTS teams;')\n",
    "cursor.execute('''\n",
    "CREATE TABLE teams (\n",
    "    team_id INTEGER PRIMARY KEY AUTOINCREMENT, \n",
    "    team_name TEXT NOT NULL\n",
    ");\n",
    "''')\n",
    "connection.commit() # Commit changes\n",
    "print(\"Tables 'players' and 'teams' created (or recreated).\")"
   ]
  },
  {
   "cell_type": "markdown",
   "metadata": {},
   "source": [
    "## Create the tables\n",
    "\n",
    "- Now let's insert some data into the tables!"
   ]
  },
  {
   "cell_type": "code",
   "execution_count": null,
   "metadata": {},
   "outputs": [],
   "source": [
    "# Insert data into the tables\n",
    "cursor.execute('''\n",
    "INSERT INTO players (player_name, goals, victories) VALUES\n",
    "('Messi', 10, 5),\n",
    "('Vini Jr', 8, 4),\n",
    "('Neymar', 6, 3),\n",
    "('Mbappe', 5, 2),\n",
    "('Lewandowski', 4, 1),\n",
    "('Haaland', 5, 3);\n",
    "''')\n",
    "\n",
    "cursor.execute('''\n",
    "INSERT INTO teams (team_name) VALUES\n",
    "('Inter Miami'),\n",
    "('Real Madrid'),\n",
    "('Santos'),\n",
    "('Real Madrid'),\n",
    "('Bayern');\n",
    "''')\n",
    "connection.commit() # Commit changes\n",
    "print(\"Data inserted into 'players' and 'teams'.\")"
   ]
  },
  {
   "cell_type": "markdown",
   "metadata": {},
   "source": [
    "## Visualise the tables\n",
    "\n",
    "- Let's see our tables using `pandas`. \n",
    "- `read_sql` works fine with the `sqlite3` connection object."
   ]
  },
  {
   "cell_type": "code",
   "execution_count": null,
   "metadata": {},
   "outputs": [],
   "source": [
    "print(\"Players Table:\")\n",
    "display(pd.read_sql('SELECT * FROM players', connection))"
   ]
  },
  {
   "cell_type": "code",
   "execution_count": null,
   "metadata": {},
   "outputs": [],
   "source": [
    "print(\"\\nTeams Table:\")\n",
    "display(pd.read_sql('SELECT * FROM teams', connection))"
   ]
  },
  {
   "cell_type": "markdown",
   "metadata": {},
   "source": [
    "## Types of joins\n",
    "\n",
    "![](figures/joins.webp)"
   ]
  },
  {
   "cell_type": "markdown",
   "metadata": {},
   "source": [
    "## Inner join\n",
    "\n",
    "- The `INNER JOIN` returns only the records where there is a match between both tables (intersection) based on the join condition.\n",
    "- If there's no match for a record in either table, that record will be excluded from the results.\n",
    "- The matching condition is specified in the `ON` clause (e.g., `ON table1.id = table2.id`).\n",
    "- Note that Haaland (`player_id` 6) is not in the `teams` table (which only has 5 rows), so he will not appear in the result set."
   ]
  },
  {
   "cell_type": "code",
   "execution_count": null,
   "metadata": {},
   "outputs": [],
   "source": [
    "print(\"Inner Join Result:\")\n",
    "display(pd.read_sql('''\n",
    "SELECT players.player_name, teams.team_name, players.goals, players.victories\n",
    "FROM players\n",
    "INNER JOIN teams\n",
    "ON players.player_id = teams.team_id;\n",
    "''', connection))"
   ]
  },
  {
   "cell_type": "markdown",
   "metadata": {},
   "source": [
    "## Left join\n",
    "\n",
    "- The `LEFT JOIN` returns all records from the left table (first table) and the matched records from the right table (second table).\n",
    "- The result is `NULL` (`None`) for columns from the right side if there is no match.\n",
    "- This is perhaps the most common type of join, as it keeps all the data from the table we are usually primarily interested in (the \"left\" table).\n",
    "- Note that Haaland is included here because he is in the `players` table (the left table)."
   ]
  },
  {
   "cell_type": "code",
   "execution_count": null,
   "metadata": {},
   "outputs": [],
   "source": [
    "print(\"Left Join Result:\")\n",
    "display(pd.read_sql('''\n",
    "SELECT players.player_name, teams.team_name, players.goals\n",
    "FROM players\n",
    "LEFT JOIN teams\n",
    "ON players.player_id = teams.team_id;\n",
    "''', connection))"
   ]
  },
  {
   "cell_type": "markdown",
   "metadata": {},
   "source": [
    "## Right join\n",
    "\n",
    "- The `RIGHT JOIN` returns all records from the right table (second table) and the matched records from the left table (first table).\n",
    "- The result is `NULL` for columns from the left side if there is no match.\n",
    "- As you have probably guessed, this is the opposite of the `LEFT JOIN` (and less common).\n",
    "- In our case, since `teams` has fewer rows than `players` and all `team_id`s match a `player_id`, the `RIGHT JOIN` looks the same as the `INNER JOIN`. \n",
    "- *Note: SQLite does not directly support `RIGHT JOIN` or `FULL OUTER JOIN`. These can be emulated using `LEFT JOIN` and `UNION ALL` or by swapping table order for `RIGHT JOIN`.* For simplicity, we'll show the conceptual SQL. If running directly in SQLite, you'd need the workaround."
   ]
  },
  {
   "cell_type": "code",
   "execution_count": null,
   "metadata": {},
   "outputs": [],
   "source": [
    "print(\"Right Join Result (conceptual - SQLite would need emulation):\")\n",
    "# SQLite does not directly support RIGHT JOIN. \n",
    "# To achieve a similar result, you can swap the tables and use a LEFT JOIN:\n",
    "display(pd.read_sql('''\n",
    "SELECT players.player_name, teams.team_name, players.goals\n",
    "FROM teams -- Swapped to teams as left table\n",
    "LEFT JOIN players -- Use LEFT JOIN\n",
    "ON players.player_id = teams.team_id;\n",
    "''', connection))"
   ]
  },
  {
   "cell_type": "markdown",
   "metadata": {},
   "source": [
    "## Full outer join\n",
    "\n",
    "- The `FULL OUTER JOIN` returns all records when there is a match in either the left (first) or right (second) table.\n",
    "- In my experience, this is the least common type of join.\n",
    "- Why? Because it returns all the data from both tables, which can be large and potentially less focused. It can also be more computationally intensive.\n",
    "- The syntax is: `SELECT columns FROM table1 FULL OUTER JOIN table2 ON table1.column = table2.column`\n",
    "- *Note: SQLite does not directly support `FULL OUTER JOIN`. It needs to be emulated using `LEFT JOIN`, `UNION ALL`, and a `WHERE` clause to exclude duplicates from the right table part of the union.*"
   ]
  },
  {
   "cell_type": "code",
   "execution_count": null,
   "metadata": {},
   "outputs": [],
   "source": [
    "print(\"Full Outer Join Result (emulated for SQLite):\")\n",
    "full_outer_join_query = '''\n",
    "SELECT p.player_name, t.team_name, p.goals\n",
    "FROM players p\n",
    "LEFT JOIN teams t ON p.player_id = t.team_id\n",
    "UNION ALL\n",
    "SELECT p.player_name, t.team_name, p.goals\n",
    "FROM teams t\n",
    "LEFT JOIN players p ON p.player_id = t.team_id\n",
    "WHERE p.player_id IS NULL;\n",
    "'''\n",
    "display(pd.read_sql(full_outer_join_query, connection))"
   ]
  },
  {
   "cell_type": "markdown",
   "metadata": {},
   "source": [
    "## Try it yourself! 🧠 {#sec:exercise01a}\n",
    "\n",
    "- Let's create two new tables (`products`, `reviews`) and insert some data into them. We use `REAL` for the price in SQLite."
   ]
  },
  {
   "cell_type": "code",
   "execution_count": null,
   "metadata": {},
   "outputs": [],
   "source": [
    "# Create the tables and insert data\n",
    "cursor.execute('DROP TABLE IF EXISTS reviews;') \n",
    "cursor.execute('DROP TABLE IF EXISTS products;')\n",
    "cursor.execute('''\n",
    "CREATE TABLE products (\n",
    "    product_id INTEGER PRIMARY KEY AUTOINCREMENT,\n",
    "    product_name TEXT NOT NULL,\n",
    "    price REAL \n",
    ");\n",
    "''')\n",
    "\n",
    "# Insert products\n",
    "cursor.execute('''\n",
    "INSERT INTO products (product_name, price) VALUES\n",
    "    ('Coffee Maker', 99.99),\n",
    "    ('Toaster', 29.99),\n",
    "    ('Blender', 79.99),\n",
    "    ('Microwave', 149.99),\n",
    "    ('Air Fryer', 89.99);\n",
    "''')\n",
    "\n",
    "cursor.execute('''\n",
    "CREATE TABLE reviews (\n",
    "    review_id INTEGER PRIMARY KEY AUTOINCREMENT,\n",
    "    product_id INT,\n",
    "    rating INT CHECK (rating BETWEEN 1 AND 5),\n",
    "    comment TEXT,\n",
    "    FOREIGN KEY (product_id) REFERENCES products(product_id)\n",
    ");\n",
    "''')\n",
    "\n",
    "# Insert reviews\n",
    "cursor.execute('''\n",
    "INSERT INTO reviews (product_id, rating, comment) VALUES\n",
    "    (1, 5, 'Great coffee maker!'),\n",
    "    (1, 4, 'Good but expensive'),\n",
    "    (2, 3, 'Average toaster'),\n",
    "    (3, 5, 'Best blender ever');\n",
    "''')\n",
    "connection.commit()\n",
    "print(\"Tables 'products' and 'reviews' created and populated.\")"
   ]
  },
  {
   "cell_type": "markdown",
   "metadata": {},
   "source": [
    "## Try it yourself! 🧠 {#sec:exercise01b}\n",
    "\n",
    "- Now try to merge the `products` and `reviews` tables using `INNER JOIN` and `LEFT JOIN`.\n",
    "- Explain the differences between the two results based on which products appear.\n",
    "\n",
    "*(Provide the SQL commands and your explanation in the cells below)*"
   ]
  },
  {
   "cell_type": "code",
   "execution_count": null,
   "metadata": {},
   "outputs": [],
   "source": [
    "# Your SQL for INNER JOIN here\n",
    "# print(\"INNER JOIN Results (Products with Reviews):\")\n",
    "# display(pd.read_sql(''' ... ''', connection))"
   ]
  },
  {
   "cell_type": "code",
   "execution_count": null,
   "metadata": {},
   "outputs": [],
   "source": [
    "# Your SQL for LEFT JOIN here\n",
    "# print(\"\\nLEFT JOIN Results (All Products, Reviews if Available):\")\n",
    "# display(pd.read_sql(''' ... ''', connection))"
   ]
  },
  {
   "cell_type": "markdown",
   "metadata": {},
   "source": [
    "\n",
    ""
   ]
  },
  {
   "cell_type": "markdown",
   "metadata": {},
   "source": [
    "# Special joins 🌟"
   ]
  },
  {
   "cell_type": "markdown",
   "metadata": {},
   "source": [
    "## Cross join\n",
    "\n",
    "- `CROSS JOIN` is available in SQL, including SQLite.\n",
    "- A cross join does not use any comparisons (like `ON`) to match rows.\n",
    "- Instead, the result is constructed by pairing *every* row from the first table with *every* row from the second table (Cartesian product).\n",
    "- Useful for generating all possible combinations (e.g., pairing all sizes with all colors)."
   ]
  },
  {
   "cell_type": "code",
   "execution_count": null,
   "metadata": {},
   "outputs": [],
   "source": [
    "# Displaying cross join between players and teams\n",
    "print(\"Cross Join between players and teams:\")\n",
    "display(pd.read_sql('''\n",
    "SELECT players.player_name, teams.team_name\n",
    "FROM players\n",
    "CROSS JOIN teams\n",
    "ORDER BY players.player_id, teams.team_id;\n",
    "''', connection))"
   ]
  },
  {
   "cell_type": "markdown",
   "metadata": {},
   "source": [
    "## Cross join\n",
    "\n",
    "- Here's another example generating T-shirt combinations. SQLite uses `||` for string concatenation, not `CONCAT()`."
   ]
  },
  {
   "cell_type": "code",
   "execution_count": null,
   "metadata": {},
   "outputs": [],
   "source": [
    "# Drop and recreate tables\n",
    "cursor.execute('DROP TABLE IF EXISTS colours;')\n",
    "cursor.execute('DROP TABLE IF EXISTS sizes;')\n",
    "cursor.execute('CREATE TABLE colours (colour_name TEXT);')\n",
    "cursor.execute('CREATE TABLE sizes (size_code TEXT);')\n",
    "cursor.execute(\"INSERT INTO colours VALUES ('Black'), ('Red');\")\n",
    "cursor.execute(\"INSERT INTO sizes VALUES ('S'), ('M');\")\n",
    "connection.commit()\n",
    "print(\"Created 'colours' and 'sizes' tables and inserted data.\")\n",
    "\n",
    "# Perform cross join and concatenate strings using ||\n",
    "print(\"\\nT-shirt combinations (Cross Join):\")\n",
    "display(pd.read_sql('''\n",
    "SELECT\n",
    "    colours.colour_name,\n",
    "    sizes.size_code,\n",
    "    colours.colour_name || ' - ' || sizes.size_code as t_shirt\n",
    "FROM colours\n",
    "CROSS JOIN sizes\n",
    "ORDER BY colours.colour_name, sizes.size_code DESC;\n",
    "''', connection))"
   ]
  },
  {
   "cell_type": "markdown",
   "metadata": {},
   "source": [
    "## Self join\n",
    "\n",
    "- A self join is a regular join, but **the table is joined with itself** (!) 🤯\n",
    "- It may not be immediately apparent how this could be useful, but it actually has many applications.\n",
    "- Often, tables describe entities that can have relationships with other entities *of the same type* within that table.\n",
    "- For instance, if you have a table of `employees`, each row could contain a `manager_id` column that references the `employee_id` of another employee in the same table.\n",
    "- A self join allows you to connect these related rows, for example, to list each employee alongside their manager's name.\n",
    "\n",
    "- Since self joins reference the same table twice, **table aliases are required** to distinguish between the two instances of the table.\n",
    "- You could join the `employees` table like this: `employees AS e JOIN employees AS m ON e.manager_id = m.employee_id`.\n",
    "- This way, you can clearly specify which instance (`e` for employee, `m` for manager) you are referring to in the `SELECT` list and the `ON` condition.\n",
    "- The general syntax is: `SELECT columns FROM table1 AS alias1 JOIN table1 AS alias2 ON alias1.column = alias2.column`"
   ]
  },
  {
   "cell_type": "markdown",
   "metadata": {},
   "source": [
    "## Self join\n",
    "\n",
    "- Let's see an example with a `family` table where `mother_id` refers back to `person_id`."
   ]
  },
  {
   "cell_type": "code",
   "execution_count": null,
   "metadata": {},
   "outputs": [],
   "source": [
    "cursor.execute('DROP TABLE IF EXISTS family;')\n",
    "cursor.execute('''\n",
    "CREATE TABLE family (\n",
    "    person_id INTEGER PRIMARY KEY AUTOINCREMENT,\n",
    "    name TEXT,\n",
    "    mother_id INT \n",
    ");\n",
    "''')\n",
    "\n",
    "cursor.execute('''\n",
    "INSERT INTO family (name, mother_id) VALUES\n",
    "    ('Emma', NULL), -- grandmother (id 1)\n",
    "    ('Sarah', 1),   -- Emma's daughter (id 2)\n",
    "    ('Lisa', 1),    -- Emma's daughter (id 3)\n",
    "    ('Tom', 2),     -- Sarah's son (id 4)\n",
    "    ('Alice', 2);   -- Sarah's daughter (id 5)\n",
    "''')\n",
    "connection.commit()\n",
    "print(\"Created 'family' table and inserted data.\")\n",
    "\n",
    "# Self join to find child-mother pairs\n",
    "print(\"\\nChild-Mother Pairs (Self Join):\")\n",
    "display(pd.read_sql('''\n",
    "SELECT\n",
    "    children.name as child,\n",
    "    mothers.name as mother\n",
    "FROM family AS children\n",
    "JOIN family AS mothers ON children.mother_id = mothers.person_id\n",
    "ORDER BY mothers.name, children.name;\n",
    "''', connection))"
   ]
  },
  {
   "cell_type": "markdown",
   "metadata": {},
   "source": [
    "## Self join\n",
    "\n",
    "- Let's see another example using the `players` table.\n",
    "- Here we want to compare the `goals` of every player against every other player. We use `p1.player_id < p2.player_id` to avoid duplicate pairs (e.g., Messi vs Vini Jr. and Vini Jr. vs Messi) and comparing a player to themselves."
   ]
  },
  {
   "cell_type": "code",
   "execution_count": null,
   "metadata": {},
   "outputs": [],
   "source": [
    "print(\"Comparing Player Goals (Self Join):\")\n",
    "display(pd.read_sql('''\n",
    "SELECT\n",
    "    p1.player_name,\n",
    "    p1.goals,\n",
    "    p2.player_name as compared_to,\n",
    "    p2.goals as their_goals,\n",
    "    p1.goals - p2.goals as difference\n",
    "FROM players AS p1\n",
    "JOIN players AS p2\n",
    "ON p1.player_id < p2.player_id -- Avoid duplicates and self-comparison\n",
    "ORDER BY difference DESC;\n",
    "''', connection))"
   ]
  },
  {
   "cell_type": "markdown",
   "metadata": {},
   "source": [
    "# Merge tables by row 🧩"
   ]
  },
  {
   "cell_type": "markdown",
   "metadata": {},
   "source": [
    "## Union\n",
    "\n",
    "- The `UNION` operator combines the result sets of two or more `SELECT` statements vertically (stacking rows).\n",
    "- It automatically **removes duplicate rows** from the combined results. If you want to keep duplicates, use `UNION ALL`.\n",
    "- The columns in each `SELECT` statement must be compatible: the same number of columns, and corresponding columns must have compatible data types.\n",
    "- Let's find all players who have either scored more than 7 goals OR achieved more than 3 victories. `UNION` is suitable here because we are combining two subsets of the *same* entity type (players) based on different criteria, and we want a unique list. "
   ]
  },
  {
   "cell_type": "code",
   "execution_count": null,
   "metadata": {},
   "outputs": [],
   "source": [
    "# Select players with more than 7 goals OR more than 3 victories\n",
    "print(\"UNION: Players with goals > 7 OR victories > 3 (Unique Results)\")\n",
    "display(pd.read_sql('''\n",
    "SELECT player_name, goals, victories\n",
    "FROM players\n",
    "WHERE goals > 7 \n",
    "\n",
    "UNION -- Combines results and removes duplicates\n",
    "\n",
    "SELECT player_name, goals, victories\n",
    "FROM players\n",
    "WHERE victories > 3\n",
    "\n",
    "ORDER BY player_name;\n",
    "''', connection))"
   ]
  },
  {
   "cell_type": "markdown",
   "metadata": {},
   "source": [
    "## Union all and intersect\n",
    "\n",
    "- Similar to `UNION`, `UNION ALL` also merges tables by rows (stacks results vertically).\n",
    "- Unlike `UNION`, `UNION ALL` **retains all duplicate rows**. It simply appends the results. It's generally faster than `UNION` as it doesn't need to check for duplicates."
   ]
  },
  {
   "cell_type": "code",
   "execution_count": null,
   "metadata": {},
   "outputs": [],
   "source": [
    "# Combine players with > 7 goals and players with > 3 victories\n",
    "# UNION ALL keeps all rows, including duplicates if a player meets both criteria.\n",
    "print(\"UNION ALL: Players with goals > 7 OR victories > 3 (All Results, Duplicates Kept)\")\n",
    "display(pd.read_sql('''\n",
    "SELECT player_name, goals, victories, 'High Scorer (>7)' AS category\n",
    "FROM players\n",
    "WHERE goals > 7\n",
    "\n",
    "UNION ALL\n",
    "\n",
    "SELECT player_name, goals, victories, 'Many Victories (>3)' AS category\n",
    "FROM players\n",
    "WHERE victories > 3\n",
    "\n",
    "ORDER BY player_name, category;\n",
    "''', connection))"
   ]
  },
  {
   "cell_type": "markdown",
   "metadata": {},
   "source": [
    "## Intersect\n",
    "\n",
    "- The `INTERSECT` operator returns only the rows that are **common** to the result sets of both `SELECT` statements. It finds the intersection.\n",
    "- Like `UNION`, it removes duplicates within the final result.\n",
    "- Let's find players who are both high scorers (more than 7 goals) and have achieved many victories (more than 3)."
   ]
  },
  {
   "cell_type": "code",
   "execution_count": null,
   "metadata": {},
   "outputs": [],
   "source": [
    "# Find players who are BOTH high scorers (goals > 9) AND have many victories (victories > 3)\n",
    "print(\"INTERSECT Example: Players with goals > 9 AND victories > 3\")\n",
    "display(pd.read_sql('''\n",
    "SELECT player_name\n",
    "FROM players\n",
    "WHERE goals > 9\n",
    "\n",
    "INTERSECT\n",
    "\n",
    "SELECT player_name\n",
    "FROM players\n",
    "WHERE victories > 3\n",
    "\n",
    "ORDER BY player_name;\n",
    "''', connection))"
   ]
  },
  {
   "cell_type": "markdown",
   "metadata": {},
   "source": [
    "## Except\n",
    "\n",
    "- `EXCEPT` returns the rows from the first `SELECT` statement's result set that are **not present** in the second `SELECT` statement's result set. It finds the difference.\n",
    "- Like `UNION`, it removes duplicates before returning the final result."
   ]
  },
  {
   "cell_type": "code",
   "execution_count": null,
   "metadata": {},
   "outputs": [],
   "source": [
    "# Example for EXCEPT: Find players who scored more than 5 goals\n",
    "# but did NOT achieve more than 3 victories.\n",
    "\n",
    "print(\"EXCEPT Example: Players with goals > 5 but victories <= 3\")\n",
    "display(pd.read_sql('''\n",
    "SELECT player_name \n",
    "FROM players\n",
    "WHERE goals > 5\n",
    "\n",
    "EXCEPT \n",
    "\n",
    "SELECT player_name\n",
    "FROM players\n",
    "WHERE victories > 3\n",
    "\n",
    "ORDER BY player_name;\n",
    "''', connection))"
   ]
  },
  {
   "cell_type": "markdown",
   "metadata": {},
   "source": [
    "## UPSERT (`INSERT ... ON CONFLICT`)\n",
    "\n",
    "- SQLite provides \"UPSERT\" (Update or Insert) operations using the `INSERT ... ON CONFLICT` clause.\n",
    "- This allows you to attempt an `INSERT`, and if it violates a constraint (like `UNIQUE` or `PRIMARY KEY`), you can specify an alternative action, typically a `DO UPDATE`.\n",
    "- You can specify different actions for different types of conflicts, such as `IGNORE`, `REPLACE`, or `UPDATE`.\n",
    "- Let's see a simplified example: If we try to insert a player with an existing `player_name`, we update their `goals` instead.\n",
    "- You will notice that `excluded` is a special table that refers to the row that would have been inserted if there was no conflict. **SQLite always uses this name**."
   ]
  },
  {
   "cell_type": "code",
   "execution_count": null,
   "metadata": {},
   "outputs": [],
   "source": [
    "player_data = ('Messi', 2, 1) # player_name, goals_to_add, victories_to_add\n",
    "\n",
    "sql_upsert = \"\"\" \n",
    "INSERT INTO players (player_name, goals, victories) VALUES (?, ?, ?) \n",
    "ON CONFLICT(player_name) DO UPDATE SET \n",
    "goals = goals + excluded.goals, \n",
    "victories = victories + excluded.victories;\n",
    "\"\"\"\n",
    "cursor.execute(sql_upsert, player_data)\n",
    "connection.commit() # Commit the upsert\n",
    "print(\"UPSERT operation for Messi:\")\n",
    "display(pd.read_sql('SELECT * FROM players WHERE player_name = \"Messi\"', connection))"
   ]
  },
  {
   "cell_type": "markdown",
   "metadata": {},
   "source": [
    "# Views 🔎"
   ]
  },
  {
   "cell_type": "markdown",
   "metadata": {},
   "source": [
    "## Views\n",
    "\n",
    "- A `VIEW` is a virtual table based on the result of a `SELECT` query.\n",
    "- It does not store data itself but provides a way to simplify complex queries or encapsulate frequently used queries.\n",
    "- You can create a view using the `CREATE VIEW` statement, followed by the view name and the `SELECT` query.\n",
    "- In SQLite, you can create a view using the `CREATE VIEW` statement, and you can also drop it using `DROP VIEW`."
   ]
  },
  {
   "cell_type": "code",
   "execution_count": null,
   "metadata": {},
   "outputs": [],
   "source": [
    "# Drop the view if it exists\n",
    "cursor.execute('DROP VIEW IF EXISTS player_stats;')\n",
    "\n",
    "# Create the view\n",
    "cursor.execute('''\n",
    "CREATE VIEW player_stats AS\n",
    "SELECT player_name, SUM(goals) AS total_goals, SUM(victories) AS total_victories\n",
    "FROM players\n",
    "GROUP BY player_name;\n",
    "''')\n",
    "connection.commit()\n",
    "print(\"View 'player_stats' created.\")\n",
    "\n",
    "print(\"\\nContents of player_stats view (LIMIT 4):\")\n",
    "display(pd.read_sql('SELECT * FROM player_stats LIMIT 4', connection))"
   ]
  },
  {
   "cell_type": "markdown",
   "metadata": {},
   "source": [
    "## Views\n",
    "\n",
    "- You can also use the view in a join with another table. For example, let's join the `player_stats` view with the `teams` table to see which players are in which teams.\n",
    "*(Note: The original slide example for `colour_size` view is slightly different from the `player_stats` example. Here we'll use the `player_stats` view for a join example, assuming `player_id` was part of `player_stats` or we join on `player_name` if it's unique and present in both relevant tables. For a more robust join, the view should ideally include the join key.)*"
   ]
  },
  {
   "cell_type": "code",
   "execution_count": null,
   "metadata": {},
   "outputs": [],
   "source": [
    "# To make a meaningful join with teams, player_stats view should ideally contain player_id\n",
    "# Let's redefine player_stats to include player_id for a better join example\n",
    "cursor.execute('DROP VIEW IF EXISTS player_stats_with_id;')\n",
    "cursor.execute('''\n",
    "CREATE VIEW player_stats_with_id AS\n",
    "SELECT player_id, player_name, SUM(goals) AS total_goals, SUM(victories) AS total_victories\n",
    "FROM players\n",
    "GROUP BY player_id, player_name; -- Group by id and name to keep player_id\n",
    "''')\n",
    "connection.commit()\n",
    "print(\"View 'player_stats_with_id' created.\")\n",
    "\n",
    "print(\"\\nJoining player_stats_with_id with teams:\")\n",
    "join_view_query = '''\n",
    "SELECT ps.player_name, t.team_name, ps.total_goals, ps.total_victories\n",
    "FROM player_stats_with_id ps\n",
    "LEFT JOIN teams t ON ps.player_id = t.team_id;\n",
    "'''\n",
    "display(pd.read_sql(join_view_query, connection))"
   ]
  },
  {
   "cell_type": "markdown",
   "metadata": {},
   "source": [
    "# Conclusion 📖"
   ]
  },
  {
   "cell_type": "markdown",
   "metadata": {},
   "source": [
    "## Conclusion\n",
    "\n",
    "- Today we learned about different types of joins in SQL (`INNER`, `LEFT`, `RIGHT` (emulated), `FULL OUTER` (emulated)), noting potential version requirements in SQLite for direct support.\n",
    "- We also learned about special joins: `CROSS JOIN` for combinations and `SELF JOIN` for relating rows within the same table.\n",
    "- We saw how to merge tables vertically (by row) with `UNION`, `UNION ALL`, `INTERSECT`, and `EXCEPT`.\n",
    "- We also saw the SQLite alternative to `MERGE`, the `INSERT ... ON CONFLICT` (UPSERT) clause 🚀.\n",
    "- We saw how to create and use views in SQLite, which are virtual tables based on `SELECT` queries."
   ]
  },
  {
   "cell_type": "markdown",
   "metadata": {},
   "source": [
    "# And that's all for today! 🎉"
   ]
  },
  {
   "cell_type": "markdown",
   "metadata": {},
   "source": [
    "# Thank you and have a great rest of your day! 🙏"
   ]
  },
  {
   "cell_type": "code",
   "execution_count": null,
   "metadata": {},
   "outputs": [],
   "source": [
    "# Clean up: Close the connection\n",
    "if 'connection' in locals() and connection:\n",
    "    connection.close()\n",
    "    print(\"\\nSQLite connection closed.\")"
   ]
  }
 ],
 "metadata": {
  "kernelspec": {
   "display_name": "Python 3 (ipykernel)",
   "language": "python",
   "name": "python3"
  },
  "language_info": {
   "codemirror_mode": {
    "name": "ipython",
    "version": 3
   },
   "file_extension": ".py",
   "mimetype": "text/x-python",
   "name": "python",
   "nbconvert_exporter": "python",
   "pygments_lexer": "ipython3",
   "version": "3.10.0"
  }
 },
 "nbformat": 4,
 "nbformat_minor": 5
}
