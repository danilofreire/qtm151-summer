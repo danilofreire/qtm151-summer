{
 "cells": [
  {
   "cell_type": "markdown",
   "metadata": {},
   "source": [
    "# QTM 151 - Introduction to Statistical Computing II\n",
    "## Lecture 06 - While and For Loops\n",
    "**Author: Danilo Freire (danilo.freire@emory.edu)**"
   ]
  },
  {
   "cell_type": "markdown",
   "metadata": {},
   "source": [
    "## Nice to see you all! 😊"
   ]
  },
  {
   "cell_type": "markdown",
   "metadata": {},
   "source": [
    "## Brief recap of the last class"
   ]
  },
  {
   "cell_type": "markdown",
   "metadata": {},
   "source": [
    "### Recap: conditional statements\n",
    "\n",
    "In our last lecture, we covered conditional statements:\n",
    "\n",
    "-   **`if` statement:** Executes a block of code if a condition is `True`.\n",
    "-   **`elif` statement:** Checks a new condition if previous `if` or `elif` conditions were `False`.\n",
    "-   **`else` statement:** Executes a block of code if all preceding `if` and `elif` conditions were `False`.\n",
    "\n",
    "We also looked at:\n",
    "-   **Combining Conditions:** Using logical operators `and`, `or`, `not`.\n",
    "-   **Nested `if` statements:** Placing one `if` statement inside another for more complex decision-making."
   ]
  },
  {
   "cell_type": "markdown",
   "metadata": {},
   "source": [
    "### Recap: Conditional Example\n",
    "\n",
    "Remember this kind of structure?\n",
    "\n",
    "This ability to control program flow based on conditions is fundamental, and loops will build upon this by allowing us to repeat actions."
   ]
  },
  {
   "cell_type": "code",
   "execution_count": null,
   "metadata": {},
   "outputs": [],
   "source": [
    "age = 22\n",
    "is_student = True\n",
    "has_scholarship = False\n",
    "\n",
    "# Eligible if (under 25 AND a student) OR \n",
    "# if has a scholarship\n",
    "if (age < 25 and is_student) or has_scholarship:\n",
    "    print(\"Eligible for program discount.\")\n",
    "else:\n",
    "    print(\"Not eligible for program discount.\")"
   ]
  },
  {
   "cell_type": "markdown",
   "metadata": {},
   "source": [
    "## For loops in Python 🔄🐍"
   ]
  },
  {
   "cell_type": "markdown",
   "metadata": {},
   "source": [
    "### What is a `for` loop?\n",
    "\n",
    "- A `for` loop is a way to iterate over a sequence of elements\n",
    "- It is a very useful tool to automate repetitive tasks\n",
    "- The syntax is similar to an `if` statement, including the colon `:` and the necessary indentation (4 spaces)\n",
    "- The syntax is as follows:\n",
    "  \n",
    "```\n",
    "for element in sequence:\n",
    "    do something\n",
    "```\n",
    "\n",
    "Below is an example and a visual representation of how a for loop works."
   ]
  },
  {
   "cell_type": "code",
   "execution_count": null,
   "metadata": {},
   "outputs": [],
   "source": [
    "variable = [1,2,3,4]\n",
    "\n",
    "for i in variable:\n",
    "    print(i)"
   ]
  },
  {
   "cell_type": "markdown",
   "metadata": {},
   "source": [
    "![Illustration of a for loop concept](figures/for-loops.png)"
   ]
  },
  {
   "cell_type": "markdown",
   "metadata": {},
   "source": [
    "### What can you do with a `for` loop?\n",
    "\n",
    "- You can iterate over a list of elements\n",
    "  - Numbers, strings, or any other type of object\n",
    "\n",
    "- You can also iterate over a range of numbers\n",
    "- You can even iterate over a list of lists (nested lists) 🤯\n",
    "  - This is very useful when working with dataframes or matrices\n",
    "\n",
    "Here's an example with a list of lists:"
   ]
  },
  {
   "cell_type": "code",
   "execution_count": null,
   "metadata": {},
   "outputs": [],
   "source": [
    "students_scores = [\n",
    "    [\"Alice\", 85, 90, 88],\n",
    "    [\"Bob\", 78, 82, 84],\n",
    "    [\"Charlie\", 92, 95, 93]\n",
    "]\n",
    "\n",
    "for i in students_scores:\n",
    "    print(i)"
   ]
  },
  {
   "cell_type": "markdown",
   "metadata": {},
   "source": [
    "![Another illustration of for loop usage](figures/forloop.png)"
   ]
  },
  {
   "cell_type": "markdown",
   "metadata": {},
   "source": [
    "### Some examples\n",
    "\n",
    "Let's look at a repetitive task:"
   ]
  },
  {
   "cell_type": "code",
   "execution_count": null,
   "metadata": {},
   "outputs": [],
   "source": [
    "list_ids = [\"KIA\", \"Ferrari\", \"Ford\", \"Tesla\"]\n",
    "print(\"Dear customer, we are writing about your \" + list_ids[0] + \" car.\")\n",
    "print(\"Dear customer, we are writing about your \" + list_ids[1] + \" car.\")\n",
    "print(\"Dear customer, we are writing about your \" + list_ids[2] + \" car.\")\n",
    "print(\"Dear customer, we are writing about your \" + list_ids[3] + \" car.\")"
   ]
  },
  {
   "cell_type": "markdown",
   "metadata": {},
   "source": [
    "- This is a very boring! 🥱\n",
    "\n",
    "Now, let's use a `for` loop:"
   ]
  },
  {
   "cell_type": "code",
   "execution_count": null,
   "metadata": {},
   "outputs": [],
   "source": [
    "list_ids = [\"KIA\", \"Ferrari\", \"Ford\", \"Tesla\"]\n",
    "\n",
    "for i in list_ids:\n",
    "    print(\"Dear customer, we are writing about your \" + i + \" car.\")"
   ]
  },
  {
   "cell_type": "markdown",
   "metadata": {},
   "source": [
    "- This is much better! 😎"
   ]
  },
  {
   "cell_type": "markdown",
   "metadata": {},
   "source": [
    "### You can also iterate over additional elements\n",
    "\n",
    "- This code iterates over each element in `list_ids` and three additional elements: 'a', 'b', and 'c'. \n",
    "- The `+` operator is used to concatenate `list_ids` with another list `['a', 'b', 'c']`.\n",
    "\n",
    "- For each element in this combined list, the loop assigns the element to the variable `id` and then prints it out using the `print` function."
   ]
  },
  {
   "cell_type": "code",
   "execution_count": null,
   "metadata": {},
   "outputs": [],
   "source": [
    "# list_ids is defined in a previous cell\n",
    "for id_val in list_ids + ['a', 'b', 'c']:\n",
    "    print(id_val)"
   ]
  },
  {
   "cell_type": "markdown",
   "metadata": {},
   "source": [
    "### Iterating with `range()`\n",
    "\n",
    "The `range()` function is often used with `for` loops to generate a sequence of numbers.\n",
    "\n",
    "-   `range(stop)`: Generates numbers from 0 up to (but not including) `stop`."
   ]
  },
  {
   "cell_type": "code",
   "execution_count": null,
   "metadata": {},
   "outputs": [],
   "source": [
    "for i in range(5): # Generates 0, 1, 2, 3, 4\n",
    "    print(i)"
   ]
  },
  {
   "cell_type": "markdown",
   "metadata": {},
   "source": [
    "-   `range(start, stop)`: Generates numbers from `start` up to (but not including) `stop`.\n",
    "-   `range(start, stop, step)`: Generates numbers from `start` up to (but not including) `stop`, with an increment of `step`."
   ]
  },
  {
   "cell_type": "code",
   "execution_count": null,
   "metadata": {},
   "outputs": [],
   "source": [
    "for i in range(2, 8, 2): # Generates 2, 4, 6\n",
    "    print(i)"
   ]
  },
  {
   "cell_type": "markdown",
   "metadata": {},
   "source": [
    "### Iterating over strings\n",
    "\n",
    "Strings are sequences of characters, so you can iterate over them directly:\n",
    "\n",
    "This is useful for character-by-character processing."
   ]
  },
  {
   "cell_type": "code",
   "execution_count": null,
   "metadata": {},
   "outputs": [],
   "source": [
    "course_name = \"QTM 151\"\n",
    "for char in course_name:\n",
    "    print(char)"
   ]
  },
  {
   "cell_type": "markdown",
   "metadata": {},
   "source": [
    "### Using `enumerate()`\n",
    "\n",
    "Sometimes you need both the index and the value of an item in a sequence. The `enumerate()` function provides this:\n",
    "\n",
    "Syntax: `for index, value in enumerate(sequence):`\n",
    "\n",
    "You can also specify a starting index for `enumerate()`: `enumerate(fruits, start=1)`"
   ]
  },
  {
   "cell_type": "code",
   "execution_count": null,
   "metadata": {},
   "outputs": [],
   "source": [
    "fruits = [\"apple\", \"banana\", \"cherry\"]\n",
    "for index, fruit in enumerate(fruits):\n",
    "    print(f\"Index {index}: {fruit}\")\n",
    "\n",
    "print(\"\\nStarting index at 1:\")\n",
    "for index, fruit in enumerate(fruits, start=1):\n",
    "    print(f\"Position {index}: {fruit}\")"
   ]
  },
  {
   "cell_type": "markdown",
   "metadata": {},
   "source": [
    "### Customised messages + numbering\n",
    "\n",
    "- You can also include numbers in your messages\n",
    "- Initiate `index = 1` before the loop (just to start at 1, since Python indexes start at 0)\n",
    "- Add `index = index + 1` at the end of the body"
   ]
  },
  {
   "cell_type": "code",
   "execution_count": null,
   "metadata": {},
   "outputs": [],
   "source": [
    "list_ids = [\"KIA\", \"Ferrari\", \"Ford\", \"Tesla\"]\n",
    "\n",
    "index = 1\n",
    "print('We are out of the loop, initial index:', index)\n",
    "for id_val in list_ids:\n",
    "    print(\"Dear customer, your position is \" + str(index) + \" on the waitlist\" +\n",
    "          \" and your car brand is \" + id_val )\n",
    "    index = index + 1\n",
    "    print('We are inside the loop, updated index:', index)\n",
    "print('Loop finished. Final index:', index)"
   ]
  },
  {
   "cell_type": "markdown",
   "metadata": {},
   "source": [
    "### Another example\n",
    "\n",
    "- Who can explain to me what `range(len(list_ids))` does?\n",
    "  - `len(list_ids)`: gets the length (number of items) in the `list_ids` list.\n",
    "  - `range()`: then creates a sequence of numbers from 0 up to (but not including) that length.\n",
    "  - This allows the loop to iterate over each index of the list.\n",
    "- And what does `str(i+1)` do?\n",
    "  - `i` is the current loop index, starting at 0.\n",
    "  - `i+1` adds 1 to that index so that the position number starts at 1. (Remember: Python indexes start at 0.)\n",
    "  - `str()` converts the resulting number to a string.\n",
    "  - This is done because `i` starts at 0, but we want to display position numbers starting at 1 for the customers."
   ]
  },
  {
   "cell_type": "code",
   "execution_count": null,
   "metadata": {},
   "outputs": [],
   "source": [
    "# list_ids is defined in a previous cell\n",
    "for i in range(len(list_ids)):\n",
    "    print(\"Dear customer, your position is \" + str(i+1) + \" on the waitlist\" +\n",
    "          \" and your car brand is \" + list_ids[i])"
   ]
  },
  {
   "cell_type": "markdown",
   "metadata": {},
   "source": [
    "### Saving time while coding!\n",
    "#### How to make your work easier with `for` loops\n",
    "\n",
    "- Boring 🥱 (the repetitive way)"
   ]
  },
  {
   "cell_type": "code",
   "execution_count": null,
   "metadata": {},
   "outputs": [],
   "source": [
    "import pandas as pd\n",
    "import matplotlib.pyplot as plt\n",
    "\n",
    "# Create a dummy features.csv for demonstration if it doesn't exist\n",
    "# In a real scenario, this file should be in a 'data' subdirectory\n",
    "try:\n",
    "    carfeatures = pd.read_csv(\"data/features.csv\")\n",
    "except FileNotFoundError:\n",
    "    print(\"data/features.csv not found. Using dummy data for plotting examples.\")\n",
    "    data = {'mpg': [10, 15, 20, 25, 30],\n",
    "            'acceleration': [20, 18, 16, 14, 12],\n",
    "            'weight': [4000, 3500, 3000, 2500, 2000]}\n",
    "    carfeatures = pd.DataFrame(data)\n",
    "\n",
    "list_vars = [\"acceleration\",\"weight\"]\n",
    "\n",
    "variable_name = \"acceleration\"\n",
    "plt.scatter(x = carfeatures[variable_name],\n",
    "            y = carfeatures[\"mpg\"])\n",
    "plt.ylabel(\"mpg\")\n",
    "plt.xlabel(variable_name)\n",
    "plt.title(f\"mpg vs {variable_name} (Repetitive)\")\n",
    "plt.show()\n",
    "\n",
    "variable_name = \"weight\"\n",
    "plt.scatter(x = carfeatures[variable_name], \n",
    "            y = carfeatures[\"mpg\"])\n",
    "plt.ylabel(\"mpg\")\n",
    "plt.xlabel(variable_name)\n",
    "plt.title(f\"mpg vs {variable_name} (Repetitive)\")\n",
    "plt.show()"
   ]
  },
  {
   "cell_type": "markdown",
   "metadata": {},
   "source": [
    "### Cool 😎 (using a `for` loop)"
   ]
  },
  {
   "cell_type": "code",
   "execution_count": null,
   "metadata": {},
   "outputs": [],
   "source": [
    "# carfeatures and list_vars should be defined from the cell above\n",
    "# Ensure pandas and matplotlib.pyplot are imported\n",
    "\n",
    "for variable_name in list_vars:\n",
    "    plt.scatter(x = carfeatures[variable_name],\n",
    "                  y = carfeatures[\"mpg\"])\n",
    "    plt.ylabel(\"mpg\")\n",
    "    plt.xlabel(variable_name)\n",
    "    plt.title(f\"mpg vs {variable_name} (Cool)\")\n",
    "    plt.show()"
   ]
  },
  {
   "cell_type": "markdown",
   "metadata": {},
   "source": [
    "### Even cooler! 🤩 (adding indexed titles)"
   ]
  },
  {
   "cell_type": "code",
   "execution_count": null,
   "metadata": {},
   "outputs": [],
   "source": [
    "# carfeatures and list_vars should be defined\n",
    "\n",
    "index = 1\n",
    "for variable_name in list_vars:\n",
    "    plt.scatter(x= carfeatures[variable_name], y = carfeatures[\"mpg\"])\n",
    "    plt.ylabel(\"mpg\")\n",
    "    plt.xlabel(variable_name)\n",
    "    plt.title(\"Figure \" + str(index) + \": mpg vs \" + variable_name)\n",
    "    plt.show()\n",
    "    index = index + 1"
   ]
  },
  {
   "cell_type": "markdown",
   "metadata": {},
   "source": [
    "### Solving many equations at once\n",
    "\n",
    "- Solve the equation $y = x^2 + 2x$ for $x = 1,2,4,5,6,7,8,9,10$"
   ]
  },
  {
   "cell_type": "code",
   "execution_count": null,
   "metadata": {},
   "outputs": [],
   "source": [
    "# Ensure matplotlib.pyplot is imported as plt\n",
    "\n",
    "# Create a list of x-values\n",
    "list_x = [1,2,4,5,6,7,8,9,10]\n",
    "# Create a list of y-values to fill in later.\n",
    "list_y = [None] * len(list_x)\n",
    "\n",
    "# Create an index \n",
    "idx = 0 # Using idx to avoid conflict with variable 'index' used before\n",
    "for x_val in list_x: # Renamed x to x_val to avoid confusion if x was used globally\n",
    "    # Using list_x[idx] for calculation as per the slide's logic\n",
    "    # A more direct way would be: list_y[idx] = x_val**2 + 2*x_val\n",
    "    list_y[idx] = list_x[idx]**2 + 2*list_x[idx]\n",
    "    idx = idx + 1\n",
    "\n",
    "# Display results visually\n",
    "print(f\"Calculated y values: {list_y}\")\n",
    "plt.scatter(list_x, list_y)\n",
    "plt.xlabel(\"X-axis\")\n",
    "plt.ylabel(\"Y-axis\")\n",
    "plt.title(\"Scatter plot of $Y = X^2 + 2X$\")\n",
    "plt.grid(True)\n",
    "plt.show()"
   ]
  },
  {
   "cell_type": "markdown",
   "metadata": {},
   "source": [
    "### Math equations using `append`\n",
    "\n",
    "This is often a more Pythonic way to build a list in a loop."
   ]
  },
  {
   "cell_type": "code",
   "execution_count": null,
   "metadata": {},
   "outputs": [],
   "source": [
    "# Ensure matplotlib.pyplot is imported as plt\n",
    "\n",
    "# Create a list of x-values\n",
    "list_x = [1,2,4,5,6,7,8,9,10]\n",
    "# Start an empty list of y-values\n",
    "list_y_append = [] # Using a new name to avoid overwriting previous list_y\n",
    "\n",
    "for x in list_x:\n",
    "    y = x**2 + 2*x\n",
    "    list_y_append.append(y)\n",
    "\n",
    "# Display results visually\n",
    "print(f\"Calculated y values (using append): {list_y_append}\")\n",
    "plt.scatter(list_x, list_y_append)\n",
    "plt.xlabel(\"X-axis\")\n",
    "plt.ylabel(\"Y-axis\")\n",
    "plt.title(\"Scatter plot of $Y = X^2 + 2X$ (with append)\")\n",
    "plt.grid(True)\n",
    "plt.show()"
   ]
  },
  {
   "cell_type": "markdown",
   "metadata": {},
   "source": [
    "### Try it yourself! 🧠\n",
    "\n",
    "- There are two datasets in the `data` folder:\n",
    "  - `features.csv`\n",
    "  - `worldbank_wdi_2019.csv`\n",
    "- Create a new object called `list_datasets` and assign it a list with the paths to the two dataset names (e.g., `\"data/features.csv\"`).\n",
    "- Run a for loop over this list:\n",
    "  - Read each of the datasets using `pd.read_csv()`\n",
    "  - Print a table of descriptive statistics for each dataset using the `.describe()` method.\n",
    "\n",
    "*Hint: You will need `import pandas as pd`.*"
   ]
  },
  {
   "cell_type": "code",
   "execution_count": null,
   "metadata": {},
   "outputs": [],
   "source": [
    "import pandas as pd\n",
    "\n",
    "# Create a list of dataset paths\n",
    "list_datasets = [\"data/features.csv\", \"data/worldbank_wdi_2019.csv\"]\n",
    "\n",
    "# Student: Add your code below to loop through the datasets,\n",
    "# read them, and print their descriptive statistics.\n",
    "\n",
    "# Your code here:"
   ]
  },
  {
   "cell_type": "markdown",
   "metadata": {},
   "source": [
    "## While loops in Python ⏳🐍"
   ]
  },
  {
   "cell_type": "markdown",
   "metadata": {},
   "source": [
    "### What is a `while` loop?\n",
    "\n",
    "- A `while` loop is used to iterate over a block of code as long as the test expression (condition) is `True`\n",
    "- We use `while` loops when we don't know the number of times to iterate beforehand, or when the iteration depends on a condition being met\n",
    "- Syntax:\n",
    "```\n",
    "while test_expression:\n",
    "    Body of while loop\n",
    "    (must include logic to eventually make test_expression False)\n",
    "```\n",
    "\n",
    "![Illustration of a while loop concept](figures/while.png)"
   ]
  },
  {
   "cell_type": "markdown",
   "metadata": {},
   "source": [
    "### When to Use `while` vs `for`\n",
    "\n",
    "-   **`for` loop:**\n",
    "    -   Use when you know the number of iterations or you are iterating over a known sequence (list, string, range, etc.).\n",
    "    -   Example: \"Process each item in this list.\"\n",
    "\n",
    "-   **`while` loop:**\n",
    "    -   Use when the number of iterations is not known in advance and depends on a condition becoming `False`.\n",
    "    -   Example: \"Keep doing this until a certain condition is met (e.g., user enters 'quit', or a calculation converges).\"\n",
    "    -   Requires careful management of the condition to avoid infinite loops."
   ]
  },
  {
   "cell_type": "markdown",
   "metadata": {},
   "source": [
    "### `while` loop: simple counter example\n",
    "\n",
    "This `while` loop acts like `for i in range(5):`\n",
    "\n",
    "If `count = count + 1` is forgotten, it creates an infinite loop!"
   ]
  },
  {
   "cell_type": "code",
   "execution_count": null,
   "metadata": {},
   "outputs": [],
   "source": [
    "count = 0  # 1. Initialise a counter variable\n",
    "while count < 5:  # 2. Set the condition\n",
    "    print(f\"Count is: {count}\")\n",
    "    count = count + 1  # Update the counter (SERIOUSLY! 😂)\n",
    "print(\"Loop finished.\")"
   ]
  },
  {
   "cell_type": "markdown",
   "metadata": {},
   "source": [
    "### `while` loop: user input validation\n",
    "\n",
    "`while` loops are great for repeatedly asking for user input until it's valid.\n",
    "\n",
    "(This code is best run in an interactive Python session like a Jupyter notebook cell. It will prompt you for input below.)"
   ]
  },
  {
   "cell_type": "code",
   "execution_count": null,
   "metadata": {},
   "outputs": [],
   "source": [
    "# Example: Get a positive number from the user\n",
    "number = -1 # Initialise to a value that fails the condition\n",
    "while number <= 0:\n",
    "    try:\n",
    "        user_input = input(\"Please enter a positive number: \")\n",
    "        number = float(user_input) # Try to convert to float\n",
    "        if number <= 0:\n",
    "            print(\"That's not a positive number. Try again.\")\n",
    "    except ValueError:\n",
    "        print(\"Invalid input. Please enter a number.\")\n",
    "print(f\"You entered a valid positive number: {number}\")"
   ]
  },
  {
   "cell_type": "markdown",
   "metadata": {},
   "source": [
    "### Caution: Infinite Loops!\n",
    "\n",
    "A common pitfall with `while` loops is creating an **infinite loop**!\n",
    "- This happens if the condition in the `while` statement never becomes `False`\n",
    "- **Cause:** Often due to forgetting to update the variable(s) involved in the condition within the loop\n",
    "\n",
    "Example of an infinite loop (DO NOT RUN THIS CELL AS IS unless you comment out the loop or know how to interrupt the kernel 😅):"
   ]
  },
  {
   "cell_type": "code",
   "execution_count": null,
   "metadata": {},
   "outputs": [],
   "source": [
    "# count = 0\n",
    "# while count < 5:\n",
    "#     print(\"Still looping...\")\n",
    "#     # Missing count = count + 1  <-- This line being absent would cause an infinite loop\n",
    "print(\"Above code block is commented out to prevent an infinite loop.\")\n",
    "print(\"To see it in (non)action, uncomment and run, then interrupt the kernel.\")"
   ]
  },
  {
   "cell_type": "markdown",
   "metadata": {},
   "source": [
    "If you accidentally run an infinite loop in a Jupyter notebook or Python script, you usually need to interrupt the kernel (e.g., by pressing `I,I` (I twice) in command mode in Jupyter, or using the \"Kernel > Interrupt\" menu option, or `Ctrl+C` in a terminal)."
   ]
  },
  {
   "cell_type": "markdown",
   "metadata": {},
   "source": [
    "### Try it yourself!\n",
    "\n",
    "- You have the following list of sports: `list_sports = [\"tennis\",\"golf\",\"golf\",\"tennis\",\"golf\",\"golf\"]`\n",
    "- Write a `while` loop to find the **second** occurrence of \"tennis\" in the list.\n",
    "- Your loop should stop once the second \"tennis\" is found and processed.\n",
    "- You can use `candidate_list.append()` to store the found \"tennis\" occurrences.\n",
    "- Use `num_candidates` to count how many times \"tennis\" has been found.\n",
    "- You'll also need an `index` to iterate through `list_sports`.\n",
    "\n",
    "You can start with the following code:"
   ]
  },
  {
   "cell_type": "code",
   "execution_count": null,
   "metadata": {},
   "outputs": [],
   "source": [
    "list_sports = [\"tennis\",\"golf\",\"golf\",\"tennis\",\"golf\",\"golf\"]\n",
    "candidate_list = []\n",
    "num_candidates = 0\n",
    "index = 0\n",
    "\n",
    "# Student: Add your while loop code below.\n",
    "# The loop should continue as long as 'index' is within the bounds of 'list_sports' \n",
    "# AND 'num_candidates' is less than 2.\n",
    "# Inside the loop, if list_sports[index] is \"tennis\", append it to candidate_list \n",
    "# and increment num_candidates.\n",
    "# Don't forget to increment 'index' in each iteration to move through the list!\n",
    "\n",
    "# Your code here:"
   ]
  },
  {
   "cell_type": "markdown",
   "metadata": {},
   "source": [
    "## Loop control statements 🚦"
   ]
  },
  {
   "cell_type": "markdown",
   "metadata": {},
   "source": [
    "### Introduction to loop control\n",
    "\n",
    "Python provides statements to control the flow of execution within loops:\n",
    "\n",
    "-   **`break`**: Terminates the current loop prematurely and transfers control to the statement immediately following the loop.\n",
    "-   **`continue`**: Skips the rest of the code inside the current iteration of the loop and proceeds to the next iteration.\n",
    "-   **`else` clause in loops**: An optional block that executes if the loop completes all its iterations without encountering a `break` statement.\n",
    "\n",
    "![Illustration of break statement concept](figures/break.png)"
   ]
  },
  {
   "cell_type": "markdown",
   "metadata": {},
   "source": [
    "### The `break` statement\n",
    "\n",
    "- The `break` statement is used to exit a `for` or `while` loop immediately, regardless of whether the loop's condition is still true or if there are more items to iterate over.\n",
    "\n",
    "Example: Find the first non-integer element in a list and stop the loop."
   ]
  },
  {
   "cell_type": "code",
   "execution_count": null,
   "metadata": {},
   "outputs": [],
   "source": [
    "list_mixed = [1, 2, \"text_message\", 5, 10.5]\n",
    "print(f\"Original list: {list_mixed}\")\n",
    "\n",
    "for value in list_mixed:\n",
    "    if not isinstance(value, int): # Check if value is NOT an integer\n",
    "        print(f\"Stopped: Found a non-integer element: '{value}' (type: {type(value).__name__})\")\n",
    "        break # Exit the loop\n",
    "    print(f\"Processing integer: {value}\")\n",
    "print(\"Loop finished or broken.\")"
   ]
  },
  {
   "cell_type": "markdown",
   "metadata": {},
   "source": [
    "### The `continue` statement\n",
    "\n",
    "- The `continue` statement is used to skip the remaining code inside the current iteration of a loop and move to the next iteration.\n",
    "\n",
    "Example: Print only integers from a list and skip non-integer elements."
   ]
  },
  {
   "cell_type": "code",
   "execution_count": null,
   "metadata": {},
   "outputs": [],
   "source": [
    "list_mixed = [1, 2, \"text_message\", 5, 10.5, \"another_string\", 7]\n",
    "print(f\"Original list: {list_mixed}\\nPrinting only integers:\")\n",
    "\n",
    "for value in list_mixed:\n",
    "    if not isinstance(value, int):\n",
    "        print(f\"  Skipping non-integer: '{value}' (type: {type(value).__name__})\")\n",
    "        continue # Skip to the next iteration\n",
    "    print(f\"Integer found: {value}\")\n",
    "print(\"Loop finished processing all elements.\")"
   ]
  },
  {
   "cell_type": "markdown",
   "metadata": {},
   "source": [
    "### Loops with an `else` clause\n",
    "\n",
    "- Both `for` and `while` loops can have an optional `else` clause.\n",
    "- The `else` block is executed **if and only if** the loop terminates normally (i.e., not by a `break` statement).\n",
    "\n",
    "Example with `for` and `else`: Searching for an item."
   ]
  },
  {
   "cell_type": "code",
   "execution_count": null,
   "metadata": {},
   "outputs": [],
   "source": [
    "my_numbers = [1, 3, 5, 7, 9]\n",
    "search_for = 6\n",
    "\n",
    "print(f\"Searching for {search_for} in {my_numbers}\")\n",
    "for num in my_numbers:\n",
    "    if num == search_for:\n",
    "        print(f\"Found {search_for} in the list.\")\n",
    "        break\n",
    "else: # Executed if the loop completes without a break\n",
    "    print(f\"{search_for} was not found in the list.\")\n",
    "\n",
    "print(\"---\")\n",
    "search_for = 5 # Try again with a number that is in the list\n",
    "print(f\"Searching for {search_for} in {my_numbers}\")\n",
    "for num in my_numbers:\n",
    "    if num == search_for:\n",
    "        print(f\"Found {search_for} in the list.\")\n",
    "        break\n",
    "else:\n",
    "    print(f\"{search_for} was not found in the list.\")"
   ]
  },
  {
   "cell_type": "markdown",
   "metadata": {},
   "source": [
    "## List comprehensions ⚡️"
   ]
  },
  {
   "cell_type": "markdown",
   "metadata": {},
   "source": [
    "### What are list comprehensions?\n",
    "\n",
    "- List comprehensions provide a concise and readable way to create lists.\n",
    "- They often achieve the same result as a `for` loop (and sometimes an `if` condition) but in a single line of code.\n",
    "- **Basic Syntax:**\n",
    "  `new_list = [expression for item in iterable]`\n",
    "\n",
    "Advantages:\n",
    "-   More compact and often easier to read for simple list generations.\n",
    "-   Can be more efficient than using a `for` loop with `append()`."
   ]
  },
  {
   "cell_type": "markdown",
   "metadata": {},
   "source": [
    "### List comprehension examples"
   ]
  },
  {
   "cell_type": "markdown",
   "metadata": {},
   "source": [
    "**Example 1: Customised Messages**"
   ]
  },
  {
   "cell_type": "code",
   "execution_count": null,
   "metadata": {},
   "outputs": [],
   "source": [
    "id_list = [\"KIA\", \"Ferrari\", \"Ford\", \"Tesla\"]\n",
    "message_list = [\"Your car model is: \" + car_id for car_id in id_list]\n",
    "print(message_list)"
   ]
  },
  {
   "cell_type": "markdown",
   "metadata": {},
   "source": [
    "**Example 2: Math operations**"
   ]
  },
  {
   "cell_type": "code",
   "execution_count": null,
   "metadata": {},
   "outputs": [],
   "source": [
    "x_list_lc = [1, 2, 3, 4, 5, 6, 7]\n",
    "x_sqr_list = [x**2 for x in x_list_lc]\n",
    "print(f\"Original list: {x_list_lc}\")\n",
    "print(f\"Squared list:  {x_sqr_list}\")"
   ]
  },
  {
   "cell_type": "markdown",
   "metadata": {},
   "source": [
    "### List comprehensions with conditionals\n",
    "\n",
    "You can add an `if` condition to filter items during list creation.\n",
    "\n",
    "-   **Syntax with `if`:**\n",
    "    `new_list = [expression for item in iterable if condition]`\n",
    "\n",
    "Example: Create a list of squares of only the even numbers from 0 to 9."
   ]
  },
  {
   "cell_type": "code",
   "execution_count": null,
   "metadata": {},
   "outputs": [],
   "source": [
    "squares_of_evens = [x**2 for x in range(10) if x % 2 == 0]\n",
    "print(f\"Squares of even numbers from 0-9: {squares_of_evens}\")\n",
    "\n",
    "# Equivalent for loop (for comparison):\n",
    "squares_of_evens_loop = []\n",
    "for x in range(10):\n",
    "    if x % 2 == 0:\n",
    "        squares_of_evens_loop.append(x**2)\n",
    "print(f\"Equivalent using a for loop: {squares_of_evens_loop}\")"
   ]
  },
  {
   "cell_type": "markdown",
   "metadata": {},
   "source": [
    "### Try it yourself! 🧠\n",
    "\n",
    "You have a list of names:\n",
    "`names = [\"Alice\", \"Bob\", \"Charlie\", \"David\", \"Eve\", \"Fiona\", \"George\"]`\n",
    "\n",
    "1.  Using a list comprehension, create a new list called `short_names` that contains only the names from the `names` list that have 5 or fewer characters.\n",
    "2.  Using a list comprehension, create a new list called `uppercase_long_names` that contains the uppercase versions of names from the `names` list that have more than 5 characters."
   ]
  },
  {
   "cell_type": "code",
   "execution_count": null,
   "metadata": {},
   "outputs": [],
   "source": [
    "names = [\"Alice\", \"Bob\", \"Charlie\", \"David\", \"Eve\", \"Fiona\", \"George\"]\n",
    "print(f\"Original names: {names}\")\n",
    "\n",
    "# 1. Names with 5 or fewer characters\n",
    "# Student: Replace [] with your list comprehension for short_names\n",
    "short_names = [] # Your list comprehension here\n",
    "print(f\"Short names (<= 5 chars): {short_names}\")\n",
    "\n",
    "# 2. Uppercase versions of names longer than 5 characters\n",
    "# Student: Replace [] with your list comprehension for uppercase_long_names\n",
    "uppercase_long_names = [] # Your list comprehension here\n",
    "print(f\"Uppercase long names (> 5 chars): {uppercase_long_names}\")"
   ]
  },
  {
   "cell_type": "markdown",
   "metadata": {},
   "source": [
    "## And that's all for today! 🎉"
   ]
  },
  {
   "cell_type": "markdown",
   "metadata": {},
   "source": [
    "## Thank you for your attention! 🙏🏽😊"
   ]
  }
 ],
 "metadata": {
  "kernelspec": {
   "display_name": "Python 3",
   "language": "python",
   "name": "python3"
  },
  "language_info": {
   "codemirror_mode": {
    "name": "ipython",
    "version": 3
   },
   "file_extension": ".py",
   "mimetype": "text/x-python",
   "name": "python",
   "nbconvert_exporter": "python",
   "pygments_lexer": "ipython3",
   "version": "3.9.7"
  }
 },
 "nbformat": 4,
 "nbformat_minor": 5
}
