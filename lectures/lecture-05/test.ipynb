{
 "cells": [
  {
   "cell_type": "code",
   "execution_count": 1,
   "id": "667c5e5e",
   "metadata": {},
   "outputs": [],
   "source": [
    "import numpy as np\n",
    "import pandas as pd"
   ]
  },
  {
   "cell_type": "code",
   "execution_count": 3,
   "id": "085c2a0b",
   "metadata": {},
   "outputs": [],
   "source": [
    "vec_a = np.array([1, 2, 3, 4, 5])"
   ]
  },
  {
   "cell_type": "code",
   "execution_count": null,
   "id": "bd61f4f8",
   "metadata": {},
   "outputs": [
    {
     "ename": "NameError",
     "evalue": "name 'i' is not defined",
     "output_type": "error",
     "traceback": [
      "\u001b[31m---------------------------------------------------------------------------\u001b[39m",
      "\u001b[31mNameError\u001b[39m                                 Traceback (most recent call last)",
      "\u001b[36mCell\u001b[39m\u001b[36m \u001b[39m\u001b[32mIn[4]\u001b[39m\u001b[32m, line 1\u001b[39m\n\u001b[32m----> \u001b[39m\u001b[32m1\u001b[39m \u001b[38;5;28;01mif\u001b[39;00m i > \u001b[32m3\u001b[39m:\n\u001b[32m      2\u001b[39m     i ** \u001b[32m2\u001b[39m\n",
      "\u001b[31mNameError\u001b[39m: name 'i' is not defined"
     ]
    }
   ],
   "source": [
    "if "
   ]
  },
  {
   "cell_type": "code",
   "execution_count": 18,
   "id": "fd3fde3a",
   "metadata": {},
   "outputs": [
    {
     "name": "stdout",
     "output_type": "stream",
     "text": [
      "more than 5\n"
     ]
    }
   ],
   "source": [
    "my_list = 10\n",
    "\n",
    "if my_list > 5:\n",
    "    print(\"more than 5\")\n",
    "else: \n",
    "    print(\"low\")"
   ]
  },
  {
   "cell_type": "code",
   "execution_count": 9,
   "id": "dfa8cc7d",
   "metadata": {},
   "outputs": [
    {
     "name": "stdout",
     "output_type": "stream",
     "text": [
      "Your name is Danilo!\n"
     ]
    }
   ],
   "source": [
    "your = \"Danilo\"\n",
    "\n",
    "if your != \"Danilo\":\n",
    "    print(\"Your name is not Danilo!\")\n",
    "else: \n",
    "    print(\"Your name is Danilo!\")"
   ]
  },
  {
   "cell_type": "code",
   "execution_count": 28,
   "id": "8ffd1ee9",
   "metadata": {},
   "outputs": [
    {
     "name": "stdout",
     "output_type": "stream",
     "text": [
      "the number is zero\n"
     ]
    }
   ],
   "source": [
    "number = 0\n",
    "\n",
    "if number > 0:\n",
    "    print(\"the number is positive\")\n",
    "elif number == 0:\n",
    "    print(\"the number is zero\")\n",
    "else:\n",
    "    print(\"the number is negative\")"
   ]
  },
  {
   "cell_type": "code",
   "execution_count": 33,
   "id": "46971dc8",
   "metadata": {},
   "outputs": [
    {
     "name": "stdout",
     "output_type": "stream",
     "text": [
      "The number is positive.\n",
      "This line will still always execute.\n"
     ]
    }
   ],
   "source": [
    "# 1. Define a variable and assign a number to it.\n",
    "number = 10 # Try changing this to 0 or a positive number later\n",
    "\n",
    "# 2. Use an if statement to check the condition.\n",
    "if number > 0:\n",
    "  # 3. This block executes if the condition is true.\n",
    "  print(\"The number is positive.\")\n",
    "# 4. Use an else statement for the alternative.\n",
    "else:\n",
    "  # 5. This block executes if the condition (number > 0) is false.\n",
    "  print(\"The number is not positive (it's zero or negative).\")\n",
    "\n",
    "print(\"This line will still always execute.\")"
   ]
  },
  {
   "cell_type": "code",
   "execution_count": 36,
   "id": "c9c1feeb",
   "metadata": {},
   "outputs": [
    {
     "name": "stdout",
     "output_type": "stream",
     "text": [
      "even\n"
     ]
    }
   ],
   "source": [
    "number = 4\n",
    "\n",
    "if number > 0:\n",
    "    if number % 2 == 0:\n",
    "        print(\"even\")\n",
    "    else: \n",
    "        print(\"odd\")\n",
    "else: \n",
    "    print(\"number is negative or zero\") "
   ]
  }
 ],
 "metadata": {
  "kernelspec": {
   "display_name": "base",
   "language": "python",
   "name": "python3"
  },
  "language_info": {
   "codemirror_mode": {
    "name": "ipython",
    "version": 3
   },
   "file_extension": ".py",
   "mimetype": "text/x-python",
   "name": "python",
   "nbconvert_exporter": "python",
   "pygments_lexer": "ipython3",
   "version": "3.13.2"
  }
 },
 "nbformat": 4,
 "nbformat_minor": 5
}
