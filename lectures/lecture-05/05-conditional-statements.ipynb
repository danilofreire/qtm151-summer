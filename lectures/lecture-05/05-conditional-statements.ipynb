{
 "cells": [
  {
   "cell_type": "markdown",
   "metadata": {},
   "source": [
    "# QTM 151 - Introduction to Statistical Computing II\n",
    "## Lecture 05 - Conditional Statements\n",
    "**Author:** Danilo Freire (danilo.freire@emory.edu, Emory University)"
   ]
  },
  {
   "cell_type": "markdown",
   "metadata": {},
   "source": [
    "# Hello again! 😊"
   ]
  },
  {
   "cell_type": "markdown",
   "metadata": {},
   "source": [
    "# Today's class 📚"
   ]
  },
  {
   "cell_type": "markdown",
   "metadata": {},
   "source": [
    "## Today's class\n",
    "\n",
    "Today we will:\n",
    "\n",
    "- Understand how to use [conditional statements in Python](https://www.w3schools.com/python/python_conditions.asp)\n",
    "- Explore the `if`, `elif`, and `else` statements\n",
    "- Practice writing conditional statements in Python\n",
    "- Learn how to combine conditions using logical operators\n",
    "- Understand how to use nested `if` statements\n",
    "- Learn more about lists and how to create them\n",
    "\n",
    "![](figures/example.png)\n",
    "\n",
    "**Let's get started!** 🚀"
   ]
  },
  {
   "cell_type": "markdown",
   "metadata": {},
   "source": [
    "# Flow control: conditional statements 🐍"
   ]
  },
  {
   "cell_type": "markdown",
   "metadata": {},
   "source": [
    "## Flow control: conditional statements\n",
    "### If, elif, else\n",
    "\n",
    "- Conditional statements are used to make decisions in programming\n",
    "- The `if` statement is used to execute a block of code if a condition is `True`\n",
    "- The `elif` statement is used to execute a block of code if the first condition is `False` and the second condition is `True`\n",
    "- The `else` statement is used to execute a block of code if all other conditions are `False`\n",
    "- We use this a lot in data cleaning or data analysis to filter out data!\n",
    "\n",
    "![](figures/if.png)"
   ]
  },
  {
   "cell_type": "markdown",
   "metadata": {},
   "source": [
    "## If statements\n",
    "\n",
    "- Test expression\n",
    "  - We type \"if\" followed by a logical condition and the \":\" symbol.\n",
    "  - The \":\" says: run the following command \n",
    "- Body of expression\n",
    "  - The \"body\" of the \"if\" statement needs to [indented with four spaces](https://www.python.org/dev/peps/pep-0008/#indentation)\n",
    "  - You can indent text by pressing the \"tab\" button in your keyboard.\n",
    "\n",
    "- If the condition is true, a message will appear.\n",
    "- If the condition is false, then nothing happens\n",
    "\n",
    "The `if` statement syntax is as follows:\n",
    "```python\n",
    "if condition:\n",
    "    Body\n",
    "```\n",
    "\n",
    "Another example:"
   ]
  },
  {
   "cell_type": "code",
   "execution_count": null,
   "metadata": {},
   "outputs": [],
   "source": [
    "# We start by defining a string\n",
    "any_questions = \"yes\"\n",
    "\n",
    "if any_questions == \"yes\":\n",
    "    print(\"Need to give more explanations\")"
   ]
  },
  {
   "cell_type": "markdown",
   "metadata": {},
   "source": [
    "## If/else statements\n",
    "### When you have two possible outcomes\n",
    "\n",
    "- The `else` statement is used to execute a block of code if the condition is `False`\n",
    "- The `else` statement is always used in conjunction with the `if` statement\n",
    "- The `else` statement syntax is as follows:\n",
    "\n",
    "```python\n",
    "if condition:\n",
    "    Body\n",
    "else:\n",
    "    Body\n",
    "```\n",
    "\n",
    "- For example, let's say you want to know whether someone can vote in the US\n",
    "  - First, the person needs to be a national\n",
    "  - Second, the person needs to be at least 18 years old"
   ]
  },
  {
   "cell_type": "code",
   "execution_count": null,
   "metadata": {},
   "outputs": [],
   "source": [
    "age = 22\n",
    "national = False\n",
    "\n",
    "if national & (age >= 18):\n",
    "    print(\"This person can vote in the US\")\n",
    "else:\n",
    "    print(\"This person cannot vote in the US\")"
   ]
  },
  {
   "cell_type": "markdown",
   "metadata": {},
   "source": [
    "## Another example"
   ]
  },
  {
   "cell_type": "code",
   "execution_count": null,
   "metadata": {},
   "outputs": [],
   "source": [
    "# Here we want to change the colour of the histogram \n",
    "# based on a conditional statement\n",
    "import numpy as np\n",
    "import matplotlib.pyplot as plt\n",
    "\n",
    "is_graph_red = False\n",
    "how_many_classes = np.array([7,1,2,3,3,3,4,5,6])\n",
    "\n",
    "if is_graph_red:\n",
    "    plt.hist(x = how_many_classes, color=\"red\")\n",
    "    plt.title(\"Count of students in each category\")\n",
    "    plt.xlabel(\"How many classes are you taking?\")\n",
    "    plt.show() \n",
    "else:\n",
    "    plt.hist(x = how_many_classes, color=\"purple\")\n",
    "    plt.title(\"Count of students in each category\")\n",
    "    plt.xlabel(\"How many classes are you taking?\")\n",
    "    plt.show()"
   ]
  },
  {
   "cell_type": "markdown",
   "metadata": {},
   "source": [
    "The histogram will be red if `is_graph_red` is `True`, and purple otherwise."
   ]
  },
  {
   "cell_type": "markdown",
   "metadata": {},
   "source": [
    "## Try it out! 🚀 {#sec:question04}\n",
    "\n",
    "What happens if ... ? Try the following:\n",
    "<br>\n",
    "\n",
    "- Rerun the above code but change the value of `is_graph_red`.\n",
    "- What happens if you set a non-boolean value of `is_graph_red`?\n",
    "- Don't include `:`\n",
    "- Don't indent the body of the `if`"
   ]
  },
  {
   "cell_type": "code",
   "execution_count": null,
   "metadata": {},
   "outputs": [],
   "source": [
    "# Your code here. Refer to the instructions above.\n",
    "# For example, to test the first point:\n",
    "# import numpy as np\n",
    "# import matplotlib.pyplot as plt\n",
    "\n",
    "# is_graph_red = True # Changed value\n",
    "# how_many_classes = np.array([7,1,2,3,3,3,4,5,6])\n",
    "\n",
    "# if is_graph_red:\n",
    "#     plt.hist(x = how_many_classes, color=\"red\")\n",
    "#     plt.title(\"Count of students in each category\")\n",
    "#     plt.xlabel(\"How many classes are you taking?\")\n",
    "#     plt.show() \n",
    "# else:\n",
    "#     plt.hist(x = how_many_classes, color=\"purple\")\n",
    "#     plt.title(\"Count of students in each category\")\n",
    "#     plt.xlabel(\"How many classes are you taking?\")\n",
    "#     plt.show()"
   ]
  },
  {
   "cell_type": "markdown",
   "metadata": {},
   "source": [
    "## If/elif/else statements\n",
    "\n",
    "- The last conditional statement is the `elif` statement\n",
    "- The `elif` statement is used to execute a block of code if the first condition is `False` and the second condition is `True`\n",
    "- It is just like another `if` statement, but it is used when you have more than two possible outcomes\n",
    "- The `elif` statement syntax is as follows:\n",
    "\n",
    "```python\n",
    "if condition:\n",
    "    Body\n",
    "elif condition:\n",
    "    Body\n",
    "else:\n",
    "    Body\n",
    "```\n",
    "\n",
    "![](figures/elif.png)"
   ]
  },
  {
   "cell_type": "markdown",
   "metadata": {},
   "source": [
    "## Example"
   ]
  },
  {
   "cell_type": "code",
   "execution_count": null,
   "metadata": {},
   "outputs": [],
   "source": [
    "years_in_program = 1\n",
    "\n",
    "if years_in_program == 1:\n",
    "    print(\"This student is a freshman\")\n",
    "elif years_in_program == 2:\n",
    "    print(\"This student is a sophomore\")\n",
    "elif years_in_program == 3:\n",
    "    print(\"This student is a junior\")\n",
    "else:\n",
    "    print(\"This student is a senior\")"
   ]
  },
  {
   "cell_type": "markdown",
   "metadata": {},
   "source": [
    "# Combining conditions and logical operators 🤓"
   ]
  },
  {
   "cell_type": "markdown",
   "metadata": {},
   "source": [
    "## Combining conditions and logical operators\n",
    "\n",
    "- You can combine conditions using logical operators too!\n",
    "- Remember what we learned about logical operators?\n",
    "- The logical operators are:\n",
    "  - `&` (and)\n",
    "  - `|` (or)\n",
    "  - `~` (not) (Note: for boolean operations, `not` keyword is preferred over `~` which is bitwise NOT)\n",
    "  - `==` (equal)\n",
    "  - `!=` (not equal)\n",
    "  - `>` (greater than), `<` (less than), etc\n",
    "\n",
    "- For example, let's say you want to know whether someone is a freshman or a sophomore"
   ]
  },
  {
   "cell_type": "code",
   "execution_count": null,
   "metadata": {},
   "outputs": [],
   "source": [
    "years_in_program = 1\n",
    "if years_in_program == 1 or years_in_program == 2:\n",
    "    print(\"This student is a freshman or a sophomore\")\n",
    "else:\n",
    "    print(\"This student is not a freshman or a sophomore\")"
   ]
  },
  {
   "cell_type": "markdown",
   "metadata": {},
   "source": [
    "## Combining conditions and logical operators\n",
    "\n",
    "- You can combine **several conditions at once**\n",
    "- It is good practice to use parentheses to group conditions, so that the code is easier to read\n",
    "- For example, let's say you want to know if a student is eligible for a program discount\n",
    "- The student is eligible if:\n",
    "  - They are under 25 years old and a student\n",
    "  - Or they have a scholarship"
   ]
  },
  {
   "cell_type": "code",
   "execution_count": null,
   "metadata": {},
   "outputs": [],
   "source": [
    "age = 22\n",
    "is_student = True\n",
    "has_scholarship = False\n",
    "\n",
    "# Eligible if (under 25 AND a student) OR \n",
    "# if has a scholarship\n",
    "if (age < 25 and is_student) or has_scholarship:\n",
    "    print(\"Eligible for program discount.\")\n",
    "else:\n",
    "    print(\"Not eligible for program discount.\")"
   ]
  },
  {
   "cell_type": "markdown",
   "metadata": {},
   "source": [
    "# Nested if statements 🪆"
   ]
  },
  {
   "cell_type": "markdown",
   "metadata": {},
   "source": [
    "## Nested `if` statements\n",
    "\n",
    "### When one condition depends on another\n",
    "\n",
    "- An `if` statement can be placed inside another `if` (or `elif`/`else`) statement. This is called nesting.\n",
    "- Used for more granular decision-making where one check depends on the outcome of a previous one.\n",
    "- **Caution:** Nesting too deeply (more than 2-3 levels) can make code hard to read and debug.\n",
    "\n",
    "- Syntax example:\n",
    "\n",
    "```python\n",
    "if condition1:\n",
    "    # Outer if body\n",
    "    print(\"Condition 1 is True\")\n",
    "    if condition2:\n",
    "        # Inner if body \n",
    "        # Executes if condition1 AND condition2 are True\n",
    "        print(\"Condition 2 is also True\")\n",
    "    else:\n",
    "        # Inner else body\n",
    "        # Executes if condition1 is True BUT condition2 is False\n",
    "        print(\"Condition 2 is False\")\n",
    "else:\n",
    "    # Outer else body\n",
    "    print(\"Condition 1 is False\")\n",
    "```\n",
    "\n",
    "The path is like a tree: 1. Check `condition1` (outer `if`). 2. If `True`, check `condition2` (inner `if`). 3. If `False`, go to the inner `else`. 4. If `condition1` is `False`, go to the outer `else`."
   ]
  },
  {
   "cell_type": "markdown",
   "metadata": {},
   "source": [
    "## Nested `if` example: ticket pricing\n",
    "\n",
    "**Scenario:** Ticket price depends on age group, and then on the day of the week for adults."
   ]
  },
  {
   "cell_type": "code",
   "execution_count": null,
   "metadata": {},
   "outputs": [],
   "source": [
    "age = 30\n",
    "day = \"Saturday\" # Try \"Monday\"\n",
    "price = 0\n",
    "category = \"\"\n",
    "\n",
    "if age < 18: # Child\n",
    "    price = 10\n",
    "    category = \"Child\"\n",
    "elif age >= 18 and age < 65: # Adult\n",
    "    category = \"Adult\"\n",
    "    if day == \"Saturday\" or day == \"Sunday\":\n",
    "        price = 20 # Weekend adult price\n",
    "    else:\n",
    "        price = 15 # Weekday adult price\n",
    "else: # Senior\n",
    "    price = 12\n",
    "    category = \"Senior\"\n",
    "\n",
    "print(f\"Category: {category}, Day: {day}, Price: ${price}\")"
   ]
  },
  {
   "cell_type": "markdown",
   "metadata": {},
   "source": [
    "## Try it yourself! 🧠 {#sec:exercise05}\n",
    "\n",
    "Modify the ticket pricing example:\n",
    "\n",
    "- Add a \"student\" category: if `age` is between 18 and 25 (inclusive) AND an assumed variable `is_student = True`, their price is always $13. This should take precedence over the standard adult pricing."
   ]
  },
  {
   "cell_type": "code",
   "execution_count": null,
   "metadata": {},
   "outputs": [],
   "source": [
    "# Your code here. Refer to the instructions above.\n",
    "# Remember to define age, day, and is_student before your conditional logic.\n",
    "# For example:\n",
    "# age = 20\n",
    "# day = \"Monday\"\n",
    "# is_student = True\n",
    "# price = 0\n",
    "# category = \"\""
   ]
  },
  {
   "cell_type": "markdown",
   "metadata": {},
   "source": [
    "# Conditional expressions (ternary operator) ✨"
   ]
  },
  {
   "cell_type": "markdown",
   "metadata": {},
   "source": [
    "## Conditional expressions (ternary operator)\n",
    "\n",
    "### A concise way to assign based on condition\n",
    "\n",
    "- Python offers a more compact way to write simple `if/else` statements that assign a value to a variable or return a value. This is known as a conditional expression or a \"ternary operator\".\n",
    "- It's a one-liner!\n",
    "  - **Syntax:** `value_if_true if condition else value_if_false`\n",
    "  - This expression evaluates the `condition`:\n",
    "      - If `True`, the whole expression evaluates to `value_if_true`.\n",
    "      - If `False`, the whole expression evaluates to `value_if_false`."
   ]
  },
  {
   "cell_type": "markdown",
   "metadata": {},
   "source": [
    "## Conditional expression examples\n",
    "\n",
    "**Standard `if/else` for assignment:**"
   ]
  },
  {
   "cell_type": "code",
   "execution_count": null,
   "metadata": {},
   "outputs": [],
   "source": [
    "age = 20\n",
    "status = \"\"\n",
    "if age >= 18:\n",
    "    status = \"Adult\"\n",
    "else:\n",
    "    status = \"Minor\"\n",
    "print(f\"Status (standard if/else): {status}\")"
   ]
  },
  {
   "cell_type": "markdown",
   "metadata": {},
   "source": [
    "**Using Conditional Expression:**"
   ]
  },
  {
   "cell_type": "code",
   "execution_count": null,
   "metadata": {},
   "outputs": [],
   "source": [
    "age = 20 # Same age\n",
    "status_ternary = \"Adult\" if age >= 18 else \"Minor\"\n",
    "print(f\"Status (ternary operator): {status_ternary}\")"
   ]
  },
  {
   "cell_type": "markdown",
   "metadata": {},
   "source": [
    "**Another Example (Setting a discount):**"
   ]
  },
  {
   "cell_type": "code",
   "execution_count": null,
   "metadata": {},
   "outputs": [],
   "source": [
    "is_member = True\n",
    "# is_member = False # Try this\n",
    "base_price = 100\n",
    "\n",
    "discount_rate = 0.10 if is_member else 0.0\n",
    "final_price = base_price * (1 - discount_rate)\n",
    "\n",
    "print(f\"Is member: {is_member}\")\n",
    "print(f\"Discount rate: {discount_rate*100}%\")\n",
    "print(f\"Final price: ${final_price}\")"
   ]
  },
  {
   "cell_type": "markdown",
   "metadata": {},
   "source": [
    "## Pitfall: Order of `elif` Statements\n",
    "\n",
    "### Specificity Matters\n",
    "\n",
    "  - Conditions in an `if...elif...else` chain are evaluated in order from top to bottom\n",
    "  - The first condition that evaluates to `True` will have its block of code executed, and the rest of the chain is skipped\n",
    "  - Therefore, you should generally place **more specific conditions before more general ones**\n",
    "\n",
    "**Problematic Order (Grading):**"
   ]
  },
  {
   "cell_type": "code",
   "execution_count": null,
   "metadata": {},
   "outputs": [],
   "source": [
    "score = 95\n",
    "grade = \"\"\n",
    "# This is problematic because score >= 60 is true for 95\n",
    "if score >= 60: \n",
    "    grade = \"D\" \n",
    "elif score >= 70:\n",
    "    grade = \"C\"\n",
    "elif score >= 80:\n",
    "    grade = \"B\"\n",
    "elif score >= 90:\n",
    "    grade = \"A\" # This will never be reached if score is >= 60\n",
    "else:\n",
    "    grade = \"F\"\n",
    "print(f\"Score: {score}, Problematic Grade: {grade}\")"
   ]
  },
  {
   "cell_type": "markdown",
   "metadata": {},
   "source": [
    "**Correct Order (Grading):**"
   ]
  },
  {
   "cell_type": "code",
   "execution_count": null,
   "metadata": {},
   "outputs": [],
   "source": [
    "score = 95 # Same score\n",
    "grade = \"\"\n",
    "# More specific conditions first\n",
    "if score >= 90:\n",
    "    grade = \"A\"\n",
    "elif score >= 80:\n",
    "    grade = \"B\"\n",
    "elif score >= 70:\n",
    "    grade = \"C\"\n",
    "elif score >= 60:\n",
    "    grade = \"D\"\n",
    "else:\n",
    "    grade = \"F\"\n",
    "print(f\"Score: {score}, Correct Grade: {grade}\")"
   ]
  },
  {
   "cell_type": "markdown",
   "metadata": {},
   "source": [
    "# A bit more about lists in Python 📝"
   ]
  },
  {
   "cell_type": "markdown",
   "metadata": {},
   "source": [
    "## Lists with blank elements\n",
    "### How to create an empty list?\n",
    "\n",
    "- You can create an empty list using the `None` object\n",
    "- `None` is a special object in Python that represents the absence of a value\n",
    "- The type of None is NoneType. It is the only instance of this type\n",
    "- `None` is often used to represent missing values or, in our case today, placeholders\n",
    "- Please note that `None` is not the same as `0`, `False`, or an empty string `''`\n",
    "- You should also not use quotes with `None`, as **it is not a string**\n",
    "- Let's see how to create an empty list using `None`:\n",
    "\n",
    "You can read more about `None` at <https://realpython.com/null-in-python/>."
   ]
  },
  {
   "cell_type": "code",
   "execution_count": null,
   "metadata": {},
   "outputs": [],
   "source": [
    "# Simply type \"None\"\n",
    "list_answers = [None,None,None]\n",
    "print(list_answers)"
   ]
  },
  {
   "cell_type": "markdown",
   "metadata": {},
   "source": [
    "## Assigning or replacing values to lists\n",
    "\n",
    "- You can assign or replace values in a list using the index of the element\n",
    "- The index of a list starts at 0\n",
    "- We use the following syntax:"
   ]
  },
  {
   "cell_type": "code",
   "execution_count": null,
   "metadata": {},
   "outputs": [],
   "source": [
    "# What's the name of your hometown?\n",
    "list_answers[0] = \"Nashville\"\n",
    "\n",
    "print(list_answers)"
   ]
  },
  {
   "cell_type": "markdown",
   "metadata": {},
   "source": [
    "## Appending values to lists\n",
    "### The `list.append()` method\n",
    "\n",
    "- You can add elements to a list using the `list.append()` command\n",
    "- This command adds the element to **the end of the list**\n",
    "- You can only add **one element at a time**"
   ]
  },
  {
   "cell_type": "code",
   "execution_count": null,
   "metadata": {},
   "outputs": [],
   "source": [
    "# We can start an empty list with []\n",
    "# Use the command \"new_list.append(item)\" with the function \"append()\"\n",
    "# and an arbitrary value of \"item\"\n",
    "\n",
    "new_list = []\n",
    "new_list.append(\"Nashville\")\n",
    "new_list.append(\"Bogota\")\n",
    "# new_list.append() # This line would cause an error as append expects one argument\n",
    "\n",
    "print(new_list)"
   ]
  },
  {
   "cell_type": "markdown",
   "metadata": {},
   "source": [
    "## Extending lists\n",
    "### The `list.extend()` method\n",
    "\n",
    "- You can also add multiple elements to a list using the `list.extend()` command\n",
    "- Here you can add **multiple elements at once**"
   ]
  },
  {
   "cell_type": "code",
   "execution_count": null,
   "metadata": {},
   "outputs": [],
   "source": [
    "my_list = [\"Nashville\", \"Bogota\"]\n",
    "my_list.extend([\"Atlanta\", \"São Paulo\", \"Rio de Janeiro\"])\n",
    "print(my_list)"
   ]
  },
  {
   "cell_type": "markdown",
   "metadata": {},
   "source": [
    "# Lists with repetition 🔄"
   ]
  },
  {
   "cell_type": "markdown",
   "metadata": {},
   "source": [
    "## Lists with repeated values\n",
    "\n",
    "- You can create a list with repeated values using the `*` operator\n",
    "- The syntax is very simple and is as follows:\n",
    "  - `list = [value] * n`"
   ]
  },
  {
   "cell_type": "code",
   "execution_count": null,
   "metadata": {},
   "outputs": [],
   "source": [
    "# Check our previous list\n",
    "# list_answers was [\"Nashville\", None, None] from a previous cell\n",
    "print(list_answers) "
   ]
  },
  {
   "cell_type": "markdown",
   "metadata": {},
   "source": [
    "- Now, let's create a list with repeated values\n",
    "  - Repeat a single value 30 times\n",
    "  - Repeat a list 4 times\n",
    "  - Repeat 8 null values"
   ]
  },
  {
   "cell_type": "code",
   "execution_count": null,
   "metadata": {},
   "outputs": [],
   "source": [
    "# Repeat a single value 30 times\n",
    "list_two_rep = [7] * 30\n",
    "print(list_two_rep)"
   ]
  },
  {
   "cell_type": "code",
   "execution_count": null,
   "metadata": {},
   "outputs": [],
   "source": [
    "# Repeat a list 4 times\n",
    "list_answers_rep = list_answers * 4 \n",
    "print(list_answers_rep)"
   ]
  },
  {
   "cell_type": "code",
   "execution_count": null,
   "metadata": {},
   "outputs": [],
   "source": [
    "# Repeat 8 null values\n",
    "list_none_rep = [None] * 8 \n",
    "print(list_none_rep)"
   ]
  },
  {
   "cell_type": "markdown",
   "metadata": {},
   "source": [
    "## Common pitfalls with lists\n",
    "\n",
    "- A common mistake is to confuse lists and `np.array` objects when doing operations\n",
    "- Lists are not arrays, and you cannot perform operations like addition or multiplication (in an element-wise mathematical sense)\n",
    "- You can only concatenate lists using the `+` operator"
   ]
  },
  {
   "cell_type": "code",
   "execution_count": null,
   "metadata": {},
   "outputs": [],
   "source": [
    "# When you multipy a list times a number you repeat the list\n",
    "list_a = [1,2,3]\n",
    "print(list_a * 4)"
   ]
  },
  {
   "cell_type": "code",
   "execution_count": null,
   "metadata": {},
   "outputs": [],
   "source": [
    "# When you add two lists, you concatenate them\n",
    "list_b = [4,5,6]\n",
    "print(list_a + list_b)"
   ]
  },
  {
   "cell_type": "code",
   "execution_count": null,
   "metadata": {},
   "outputs": [],
   "source": [
    "# When you multipy an array times a number, you multiply each element\n",
    "import numpy as np\n",
    "\n",
    "vec_a = np.array(list_a)\n",
    "print(vec_a * 4)"
   ]
  },
  {
   "cell_type": "markdown",
   "metadata": {},
   "source": [
    "- Is that clear? 🤓"
   ]
  },
  {
   "cell_type": "markdown",
   "metadata": {},
   "source": [
    "## Counting the length of a list\n",
    "\n",
    "- You can count the length of a list using the `len()` function"
   ]
  },
  {
   "cell_type": "code",
   "execution_count": null,
   "metadata": {},
   "outputs": [],
   "source": [
    "# Count the length of the list\n",
    "# list_answers was [\"Nashville\", None, None]\n",
    "print(len(list_answers))"
   ]
  },
  {
   "cell_type": "code",
   "execution_count": null,
   "metadata": {},
   "outputs": [],
   "source": [
    "# list_two_rep was [7] * 30\n",
    "print(len(list_two_rep))"
   ]
  },
  {
   "cell_type": "code",
   "execution_count": null,
   "metadata": {},
   "outputs": [],
   "source": [
    "# list_answers_rep was list_answers * 4\n",
    "print(len(list_answers_rep))"
   ]
  },
  {
   "cell_type": "markdown",
   "metadata": {},
   "source": [
    "## Try it yourself! 😊 {#sec:lists}\n",
    "\n",
    "- Create an empty list called \"list_personal\"\n",
    "- Add two more values using \".append\"\n",
    "- Find the total length of the list\n",
    "- Change the last value to \"Last element\" using the index"
   ]
  },
  {
   "cell_type": "code",
   "execution_count": null,
   "metadata": {},
   "outputs": [],
   "source": [
    "# Your code here. Refer to the instructions above."
   ]
  },
  {
   "cell_type": "markdown",
   "metadata": {},
   "source": [
    "# And that's it for today! 🎉"
   ]
  },
  {
   "cell_type": "markdown",
   "metadata": {},
   "source": [
    "# Questions? 🤔"
   ]
  },
  {
   "cell_type": "markdown",
   "metadata": {},
   "source": [
    "## Try this at home! 🏠\n",
    "\n",
    "- Practice writing conditional statements in Python\n",
    "\n",
    "- Create a variable called \"points\" with a value between 0 and 100\n",
    "- Write a flow with \"if\", \"elif\" and \"else\" to assign the letter grade\n",
    "- In the body, store the output in a new variable called \"letter_grade\"\n",
    "- Print the letter grade at the end\n",
    "\n",
    "![](figures/grading_scale.png)\n",
    "\n",
    "**Important:** Check that it works by trying different values of \"points\"!"
   ]
  },
  {
   "cell_type": "code",
   "execution_count": null,
   "metadata": {},
   "outputs": [],
   "source": [
    "# Your code here for the \"Try this at home!\" exercise."
   ]
  },
  {
   "cell_type": "markdown",
   "metadata": {},
   "source": [
    "# Thank you very much and see you next time! 🙏"
   ]
  }
 ],
 "metadata": {
  "kernelspec": {
   "display_name": "Python 3 (ipykernel)",
   "language": "python",
   "name": "python3"
  },
  "language_info": {
   "codemirror_mode": {
    "name": "ipython",
    "version": 3
   },
   "file_extension": ".py",
   "mimetype": "text/x-python",
   "name": "python",
   "nbconvert_exporter": "python",
   "pygments_lexer": "ipython3",
   "version": "3.x.x"
  }
 },
 "nbformat": 4,
 "nbformat_minor": 5
}
