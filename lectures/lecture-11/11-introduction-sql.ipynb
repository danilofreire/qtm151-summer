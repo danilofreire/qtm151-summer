{
 "cells": [
  {
   "cell_type": "markdown",
   "metadata": {},
   "source": [
    "# QTM 151 - Introduction to Statistical Computing II\n",
    "## Lecture 11 - Introduction to SQL\n",
    "**Author:** Danilo Freire (danilo.freire@emory.edu, Emory University)"
   ]
  },
  {
   "cell_type": "markdown",
   "metadata": {},
   "source": [
    "# Hey, there! 😊 <br> I hope you're all doing well!"
   ]
  },
  {
   "cell_type": "markdown",
   "metadata": {},
   "source": [
    "# Today's lecture 📚"
   ]
  },
  {
   "cell_type": "markdown",
   "metadata": {},
   "source": [
    "## Today's agenda\n",
    "### SQL essentials\n",
    "\n",
    "- **Introduction to SQL**: We will start by learning the fundamentals of SQL, focusing on [SQLite](https://www.sqlite.org/index.html)\n",
    "- **Setup**: You will learn how to:\n",
    "  - Install and load the SQLite3 Editor in VSCode\n",
    "  - Create a database\n",
    "  - Create a table\n",
    "  - Add and query rows\n",
    "  - View and modify the table schema\n",
    "  - Import and export data\n",
    "\n",
    "![](figures/Sql_data_base_with_logo.png)\n",
    "\n",
    "![](figures/whats-a-relational-database.jpg)"
   ]
  },
  {
   "cell_type": "markdown",
   "metadata": {},
   "source": [
    "# Structured Query Language (SQL)"
   ]
  },
  {
   "cell_type": "markdown",
   "metadata": {},
   "source": [
    "## SQL: A relational database management system (RDBMS)\n",
    "\n",
    "- [SQL](https://en.wikipedia.org/wiki/SQL) stands for **Structured Query Language** and it is used to interact with [relational databases](https://en.wikipedia.org/wiki/Relational_database)\n",
    "- What is a **relational database**?\n",
    "  - A database that stores data in tables and allows you to define relationships between tables\n",
    "  - The most common type of database\n",
    "  - Examples: PostgreSQL, MySQL, SQLite, Oracle, SQL Server\n",
    "- Here we will focus on [SQLite](https://www.sqlite.org/index.html) \n",
    "- Why? It is open-source, powerful, and widely used in industry: phones, browsers, TVs, operating systems, and even cars use it!\n",
    "- It has several advanced features too, such as [full-text search](https://www.sqlite.org/fts5.html) and [window functions](https://www.sqlite.org/windowfunctions.html)\n",
    "\n",
    "![](figures/sqlite.jpg)\n",
    "![](figures/stack-overflow-survey.png)"
   ]
  },
  {
   "cell_type": "markdown",
   "metadata": {},
   "source": [
    "# Let's get started! 🤓"
   ]
  },
  {
   "cell_type": "markdown",
   "metadata": {},
   "source": [
    "## What is SQLite?\n",
    "\n",
    "- SQLite is a serverless database, which means it does not require a server to run\n",
    "- It is **a single file** that you can use to store your data\n",
    "- This has several advantages, such as:\n",
    "  - Easy to install and use\n",
    "  - Lightweight and fast\n",
    "  - Perfect for small projects\n",
    "- SQLite has some cons too, such as: \n",
    "  - Not being easy to scale \n",
    "  - Not allowing multiple users to write the database at the same time (although [some workarounds exist](https://fly.io/docs/litefs))\n",
    "  - Poor handling of time-series data. So far, [TimescaleDB for Postgres](https://www.timescale.com/) is the best option for this\n",
    "  - But SQLite also has [lots of extensions](https://github.com/nalgeon/sqlean) to help you with many tasks (more on that later)\n",
    "\n",
    "- Some people argue that SQLite is not a real database because it does not have a server, or that storing the database in a single file is not suitable for large projects\n",
    "- **Both arguments are false**:\n",
    "  - You can use [LiteFS](https://fly.io/docs/litefs) to scale SQLite and allow multiple users to write the database at the same time\n",
    "  - SQLite is capable of handling [databases that are an Exabyte in size](https://sqlite.org/hctree/doc/hctree/doc/hctree/index.html) (that's one million Terabytes, or one billion Gigabytes 🤯)\n",
    "  - I'm sure that this is more than enough for pretty much any project you will ever work on 😅\n",
    "- And to be honest, the difference between different SQL databases is not that big\n",
    "- [If you learn one of them, you can easily learn the others](https://www.postgresql.org/docs/current/sql-commands.html)"
   ]
  },
  {
   "cell_type": "markdown",
   "metadata": {},
   "source": [
    "## Installing SQLite\n",
    "### macOS and Linux\n",
    "\n",
    "- If you use MacOS or Linux, you probably already have SQLite installed\n",
    "- To check, open a terminal and type `sqlite3` \n",
    "  - Then type `.quit` to exit the SQLite prompt!\n",
    "- If you see the SQLite prompt, you are good to go! 😊\n",
    "- In case you don't have SQLite installed, you can download it from the [SQLite website](https://www.sqlite.org/download.html) or using [Homebrew](https://brew.sh/) (recommended)\n",
    "- To install [Homebrew](https://brew.sh/), paste the following command in your terminal\n",
    "\n",
    "```sh\n",
    "/bin/bash -c \"$(curl -fsSL [https://raw.githubusercontent.com/Homebrew/install/HEAD/install.sh](https://raw.githubusercontent.com/Homebrew/install/HEAD/install.sh))\"\n",
    "```\n",
    "\n",
    "- Then install SQLite and verify the installation with the following commands\n",
    "\n",
    "```sh\n",
    "brew install sqlite3\n",
    "sqlite3 --version\n",
    "```"
   ]
  },
  {
   "cell_type": "markdown",
   "metadata": {},
   "source": [
    "## Installing SQLite\n",
    "### Windows\n",
    "\n",
    "- Windows users can download the SQLite precompiled binaries from the [SQLite website](https://www.sqlite.org/download.html). Download the files that have the `sqlite3` DLL and the command-line shell (`sqlite-dll...` and `sqlite-tools...`)\n",
    "- Then follow these steps:\n",
    "  - Create a folder `C:\\sqlite` and unzip the files in this folder, which will give you `sqlite3.def`, `sqlite3.dll` and `sqlite3.exe` files \n",
    "  - Double click the `sqlite3` file to open the software, and you will see the SQLite prompt\n",
    "\n",
    "```\n",
    "C:\\>sqlite3\n",
    "SQLite version 3.7.15.2 2013-01-09 11:53:05\n",
    "Enter \".help\" for instructions\n",
    "Enter SQL statements terminated with a \";\"\n",
    "sqlite>\n",
    "```\n",
    "\n",
    "- If you want to use SQLite in the command line, you can add the folder to your PATH variable\n",
    "- Search and click on `Edit the system environment variables`\n",
    "- Click on `Environment Variables...`\n",
    "- Set `C:\\sqlite` to `Path` in both or either User variables and/or System variables, then you can use SQLite on terminal (command prompt)\n",
    "- [More about this here](https://stackoverflow.com/questions/7330565/how-to-install-sqlite-on-windows)"
   ]
  },
  {
   "cell_type": "markdown",
   "metadata": {},
   "source": [
    "## Installing SQLite3 Editor in VSCode\n",
    "\n",
    "- To use SQLite in VSCode, you need to install the [SQLite3 Editor](https://marketplace.visualstudio.com/items?itemName=yy0931.vscode-sqlite3-editor) extension (click on the link to go to the extension page)\n",
    "- Or you can search for `SQLite3 Editor` in the extensions tab in VSCode\n",
    "- Click on `Install` to install the extension\n",
    "- As we will see later, this extension allows you to connect to your SQLite database and run SQL commands directly in VSCode, and even edit files without having to write any SQL queries (!)\n",
    "- You can use it to create tables, export data to CSV and JSON formats, run queries in the command line, and compare versions using `git diff`\n",
    "- It is a very useful extension and I highly recommend it! 😊\n",
    "- We will use this extensions today to interact with our SQLite database\n",
    "\n",
    "![](figures/vscode-sqlite.png)\n",
    "[Download it here](https://marketplace.visualstudio.com/items?itemName=yy0931.vscode-sqlite3-editor) or search for it in the extensions tab in VSCode"
   ]
  },
  {
   "cell_type": "markdown",
   "metadata": {},
   "source": [
    "# Any issues with the installation? 🤔"
   ]
  },
  {
   "cell_type": "markdown",
   "metadata": {},
   "source": [
    "# Let's create our first SQL table! 🚀"
   ]
  },
  {
   "cell_type": "markdown",
   "metadata": {},
   "source": [
    "## Creating a database with SQLite3 Editor\n",
    "\n",
    "- It is very easy to create a [SQLite database file](https://www.sqlite.org/onefile.html) using the extension\n",
    "- Simply create a file ending in `.sqlite` or `.db` and open it with the SQLite3 Editor\n",
    "- Here I will create a file called `example.db` and open it with the extension\n",
    "\n",
    "```sh\n",
    "touch example.db\n",
    "```\n",
    "\n",
    "- Then just click on the file (or right-click and select `Open to the Side` -- same thing)\n",
    "- You will see a new tab with the SQLite3 Editor\n",
    "\n",
    "![](figures/sqlite-editor.png)"
   ]
  },
  {
   "cell_type": "markdown",
   "metadata": {},
   "source": [
    "## Creating a table with SQLite3 Editor\n",
    "\n",
    "- Now that you have opened the file with the extension, you will see the following screen (right)\n",
    "- You will see that there is no table in the database yet\n",
    "- Most of the time, the data come from other sources, such as APIs, JSON or CSV files\n",
    "- But in small projects, it is common to create a database to store the data\n",
    "- So let's create one right now! 😉\n",
    "- We will create a table with some information about [Formula 1](https://en.wikipedia.org/wiki/Formula_One) drivers\n",
    "- **System commands are in upper case** and **user-defined names are in lower case**\n",
    "\n",
    "![](figures/create-table.png)"
   ]
  },
  {
   "cell_type": "markdown",
   "metadata": {},
   "source": [
    "## Creating a table with SQLite3 Editor\n",
    "\n",
    "- Now let's create our table\n",
    "- We won't write any code yet, just add the values to the editor\n",
    "- We will create four columns in the table: `driver_id`, `driver_name`, `nationality`, and `victories`:\n",
    "  - `driver_id` is an `integer`, `not null`, and `primary key` (select these options in the editor)\n",
    "  - `driver_name` is a `text` variable\n",
    "  - `nationality` is a `text` variable too\n",
    "  - `victories` is an `integer`\n",
    "- Then click on `commit` to save the changes\n",
    "\n",
    "![](figures/add-columns.png)\n",
    "\n",
    "- This is equivalent of the following SQL code (as you can see in the editor):\n",
    "  \n",
    "```sql\n",
    "CREATE TABLE drivers (\n",
    "    driver_id INTEGER NOT NULL PRIMARY KEY,\n",
    "    driver_name TEXT,\n",
    "    nationality TEXT,\n",
    "    victories INTEGER\n",
    ");\n",
    "```"
   ]
  },
  {
   "cell_type": "markdown",
   "metadata": {},
   "source": [
    "## Creating a table with SQLite3 Editor\n",
    "\n",
    "![](figures/view-table.png)"
   ]
  },
  {
   "cell_type": "markdown",
   "metadata": {},
   "source": [
    "## Database structure and data types in SQLite\n",
    "\n",
    "### Database structure\n",
    "\n",
    "- SQL works best with tabular data, so the main object in SQL is the **table** (rows and columns)\n",
    "- SQLite (and most SQL databases) are **strongly typed**, that is, each column has a specific data type\n",
    "- The five core data types in SQLite: \n",
    "  - `TEXT`: Stores string values of any length using UTF-8 encoding\n",
    "  - `INTEGER`: Holds whole numbers (positive or negative)\n",
    "  - `NUMERIC`: Stores decimal numbers as floating-point values (SQLite often uses REAL for this)\n",
    "  - `BLOB`: Contains binary data preserved as input\n",
    "  - `NULL`: Represents missing or undefined data\n",
    "- SQLite also has **other data types** (often affinities to the core types), such as `REAL`, `BOOLEAN`, `DATE`, `TIME`, and `DATETIME`\n",
    "\n",
    "### Primary and foreign keys\n",
    "\n",
    "- The `PRIMARY KEY` constraint is used to uniquely identify each row in a table\n",
    "- It cannot contain `NULL` values and are usually integers\n",
    "- If you don't want to enter the numbers manually, you can use the `AUTOINCREMENT` keyword (though SQLite usually auto-increments integer primary keys by default if not specified otherwise, `AUTOINCREMENT` has specific behavior for ensuring ROWIDs are never reused).\n",
    "  - Example: `driver_id INTEGER PRIMARY KEY AUTOINCREMENT`\n",
    "- The `FOREIGN KEY` constraint is used to link two tables together\n",
    "  - It is a field in one table that refers to the `PRIMARY KEY` in another table\n",
    "- We can also use `ROWID` to uniquely identify each row in a table, **but it is not recommended** for general use as a primary means of relating data.\n",
    "  - It is a hidden column that is automatically created, but deleting and reinserting a row can change the ROWID (unless `WITHOUT ROWID` is specified for the table), and relying on it directly is less portable to other SQL databases."
   ]
  },
  {
   "cell_type": "markdown",
   "metadata": {},
   "source": [
    "## Example of tables with primary and foreign keys\n",
    "\n",
    "- Imagine that we have three tables, `customers`, `products`, and `orders`\n",
    "- The `customers` table will have a primary key `customer_id`\n",
    "- The `products` table will have a primary key `product_id`\n",
    "- And the `orders` table will have a primary key `order_id`\n",
    "- The `orders` table will also have two foreign keys: `customer_id` and `product_id`\n",
    "- We will see more about this in the next classes\n",
    "\n",
    "**Table: customers**\n",
    "\n",
    "| customer_id (PK) | first_name | last_name | email                |\n",
    "|------------------|------------|-----------|----------------------|\n",
    "| 1                | John       | Doe       | john.doe@email.com   |\n",
    "| 2                | Jane       | Smith     | jane.smith@email.com |\n",
    "| 3                | Bob        | Johnson   | bob.j@email.com      |\n",
    "\n",
    "**Table: products**\n",
    "\n",
    "| product_id (PK) | product_name   | price |\n",
    "|-----------------|----------------|-------|\n",
    "| 101             | Laptop         | 999.99|\n",
    "| 102             | Smartphone     | 599.99|\n",
    "| 103             | Wireless Mouse | 29.99 |\n",
    "\n",
    "**Table: orders**\n",
    "\n",
    "| order_id (PK) | customer_id (FK) | product_id (FK) | quantity | total_price |\n",
    "|---------------|------------------|-----------------|----------|-------------|\n",
    "| 1             | 1                | 101             | 1        | 999.99      |\n",
    "| 2             | 2                | 102             | 2        | 1199.98     |\n",
    "| 3             | 3                | 103             | 3        | 89.97       |"
   ]
  },
  {
   "cell_type": "markdown",
   "metadata": {},
   "source": [
    "## Add rows to table using the editor\n",
    "\n",
    "![](figures/add-rows.png)"
   ]
  },
  {
   "cell_type": "markdown",
   "metadata": {},
   "source": [
    "## Adding rows to the table using SQL commands\n",
    "\n",
    "- We can add rows to a table by using the `INSERT INTO` command\n",
    "- This command adds rows with `VALUES` to the bottom of the table\n",
    "- In SQL, different commands need to be separated by a semicolon (`;`)\n",
    "- You write **system commands in capital letters** to easily distinguish column names from variables and values\n",
    "- Let's add some information about the drivers\n",
    "- Click on `Query Editor` and paste the following code:\n",
    "\n",
    "```sql\n",
    "INSERT INTO drivers VALUES (2, 'Michael Schumacher', 'German', 53);\n",
    "INSERT INTO drivers VALUES (3, 'Sebastian Vettel', 'German', 91);\n",
    "INSERT INTO drivers VALUES (4, 'Fernando Alonso', 'Spanish', 32);\n",
    "```\n",
    "\n",
    "Or more efficiently:\n",
    "\n",
    "```sql\n",
    "INSERT INTO drivers (driver_id, driver_name, nationality, victories) VALUES\n",
    "(2, 'Michael Schumacher', 'German', 53),\n",
    "(3, 'Sebastian Vettel', 'German', 91),\n",
    "(4, 'Fernando Alonso', 'Spanish', 32);\n",
    "```\n",
    "\n",
    "- Now click on ` ▶️️ Execute` ️to run the code"
   ]
  },
  {
   "cell_type": "markdown",
   "metadata": {},
   "source": [
    "## Adding rows to the table\n",
    "\n",
    "![](figures/added-values.png)"
   ]
  },
  {
   "cell_type": "markdown",
   "metadata": {},
   "source": [
    "## Querying the table\n",
    "\n",
    "- The editor already shows all the rows in the table, but we can also query the table using the `SELECT` command\n",
    "\n",
    "```sql\n",
    "SELECT * FROM drivers;\n",
    "```\n",
    "\n",
    "- This command selects all columns (`*`) from the `drivers` table\n",
    "- `SELECT` is probably the most used command in SQL and is used to extract data from a database\n",
    "- If you are running SQL in the command line, you need to type `SELECT` to see the results\n",
    "\n",
    "![](figures/select-all.png)"
   ]
  },
  {
   "cell_type": "markdown",
   "metadata": {},
   "source": [
    "## Exercise 01 {#sec:exercise01}\n",
    "\n",
    "- Click on `Query Editor` (in VS Code SQLite3 Editor) and create a table called `students` with the following columns:\n",
    "  - `student_id` (integer not null primary key)\n",
    "  - `student_name` (text)\n",
    "  - `major` (text)\n",
    "  - `gpa` (numeric)\n",
    "\n",
    "- Add the following rows to the table:\n",
    "  - `student_id`: 1, `student_name`: 'John Doe', `major`: 'Computer Science', `gpa`: 3.5\n",
    "  - `student_id`: 2, `student_name`: 'Jane Doe', `major`: 'Mathematics', `gpa`: 3.8\n",
    "\n",
    "- Query the table to see the results\n",
    "\n",
    "- If the table already exists on your database, you can drop it with the following command:\n",
    "\n",
    "```sql\n",
    "DROP TABLE IF EXISTS students; -- Added IF EXISTS for safety\n",
    "```\n",
    "\n",
    "*(Provide the SQL commands in the cell below)*"
   ]
  },
  {
   "cell_type": "code",
   "execution_count": null,
   "metadata": {},
   "outputs": [],
   "source": [
    "-- Your SQL code here for Exercise 01\n",
    "-- Example structure:\n",
    "-- DROP TABLE IF EXISTS students;\n",
    "\n",
    "-- CREATE TABLE students (\n",
    "--    ...\n",
    "-- );\n",
    "\n",
    "-- INSERT INTO students (student_id, student_name, major, gpa) VALUES\n",
    "-- (..., ..., ..., ...),\n",
    "-- (..., ..., ..., ...);\n",
    "\n",
    "-- SELECT * FROM students;"
   ],
   "language": "sql"
  },
  {
   "cell_type": "markdown",
   "metadata": {},
   "source": [
    "# Table Schemas 📄"
   ]
  },
  {
   "cell_type": "markdown",
   "metadata": {},
   "source": [
    "## What is a table schema?\n",
    "\n",
    "- The [table schema](https://en.wikipedia.org/wiki/Database_schema) is the structure of a table in a database\n",
    "- It defines the columns, data types, constraints, and relationships between tables\n",
    "- It is defined when the table is created but can be modified later\n",
    "- The schema is important because it ensures that the data is stored correctly and efficiently\n",
    "- Usually, there is no need to change the schema frequently, but it is possible to do so if needed\n",
    "- You can view it with the `PRAGMA table_info()` command\n",
    "\n",
    "- The `PRAGMA table_info()` command returns one row for each column in the table\n",
    "- The columns are:\n",
    "  - `cid`: Column ID\n",
    "  - `name`: Column name\n",
    "  - `type`: Data type\n",
    "  - `notnull`: 1 if the column cannot contain `NULL` values, 0 otherwise\n",
    "  - `dflt_value`: Default value for the column\n",
    "  - `pk`: 1 if the column is part of the primary key, 0 otherwise\n",
    "\n",
    "![](figures/table-info.png)"
   ]
  },
  {
   "cell_type": "markdown",
   "metadata": {},
   "source": [
    "## Creating and modifying table schemas\n",
    "\n",
    "- To create a table, use the `CREATE TABLE` command, as we saw before\n",
    "- It is a good idea to use the `IF NOT EXISTS` clause to avoid errors if the table already exists\n",
    "  - Example: `CREATE TABLE IF NOT EXISTS table_name (column1_name data_type, ...);`\n",
    "- Add a column: `ALTER TABLE table_name ADD COLUMN column_name data_type;`\n",
    "- Drop a column: `ALTER TABLE table_name DROP COLUMN column_name;` (Note: SQLite's `DROP COLUMN` support is relatively recent, older versions might not support it directly or require workarounds)\n",
    "- Rename a column: `ALTER TABLE table_name RENAME COLUMN old_name TO new_name;`\n",
    "\n",
    "- To delete a table, use the `DROP TABLE` command\n",
    "  - Example: `DROP TABLE table_name;`\n",
    "  - Be careful with this command, as it will delete all the data in the table!\n",
    "- To delete a row, use the `DELETE FROM` command\n",
    "  - Example: `DELETE FROM table_name WHERE condition;`\n",
    "  - This command deletes all rows that satisfy the condition\n",
    "- If you don't specify a condition, it will delete all rows in the table"
   ]
  },
  {
   "cell_type": "markdown",
   "metadata": {},
   "source": [
    "## Some examples with the `students` table\n",
    "\n",
    "*(Assuming the `students` table from Exercise 01 was created)*\n",
    "\n",
    "- Add a column: `ALTER TABLE students ADD COLUMN age INTEGER;`\n",
    "\n",
    "![](figures/add-column.png)\n",
    "\n",
    "- Drop a column: `ALTER TABLE students DROP COLUMN major;`\n",
    "\n",
    "![](figures/drop-column.png)\n",
    "\n",
    "- Rename a column: `ALTER TABLE students RENAME COLUMN gpa TO grade;`\n",
    "\n",
    "![](figures/rename-column.png)\n",
    "\n",
    "- Delete a row with `student_id = 2`: `DELETE FROM students WHERE student_id = 2;`\n",
    "\n",
    "![](figures/delete-row.png)"
   ]
  },
  {
   "cell_type": "markdown",
   "metadata": {},
   "source": [
    "# Table Operations 📊"
   ]
  },
  {
   "cell_type": "markdown",
   "metadata": {},
   "source": [
    "## Extracting columns from table\n",
    "\n",
    "### SELECT extracts certain columns\n",
    "- The `SELECT` command is used to extract certain columns from a table\n",
    "\n",
    "```sql\n",
    "SELECT driver_id, nationality FROM drivers;\n",
    "```\n",
    "\n",
    "![](figures/select-columns.png)\n",
    "\n",
    "### Subsetting rows\n",
    "\n",
    "- The `WHERE` command evaluates logical conditions to subset rows\n",
    "\n",
    "```sql\n",
    "SELECT * FROM drivers\n",
    "WHERE nationality = 'German';\n",
    "```\n",
    "\n",
    "![](figures/where-german.png)"
   ]
  },
  {
   "cell_type": "markdown",
   "metadata": {},
   "source": [
    "## AND and OR conditions\n",
    "\n",
    "### OR conditions\n",
    "- Evaluate OR conditions\n",
    "\n",
    "```sql\n",
    "SELECT * FROM drivers\n",
    "WHERE (nationality = 'Spanish') OR (nationality = 'German');\n",
    "```\n",
    "\n",
    "![](figures/or-conditions.png)\n",
    "\n",
    "### AND conditions\n",
    "- Evaluate AND conditions\n",
    "\n",
    "```sql\n",
    "SELECT * FROM drivers\n",
    "WHERE (nationality = 'German') AND (driver_id = 3);\n",
    "```\n",
    "\n",
    "![](figures/and-conditions.png)"
   ]
  },
  {
   "cell_type": "markdown",
   "metadata": {},
   "source": [
    "## Data description\n",
    "\n",
    "### Aggregate\n",
    "\n",
    "- To compute aggregate statistics use a statistic function, such as `SUM()` or `AVG()`\n",
    "- The `AS` is an alias which assigns a name to the aggregate statistic\n",
    "  \n",
    "```sql\n",
    "SELECT SUM(victories) AS sum_victories,\n",
    "       COUNT(*) AS num_rows,\n",
    "       AVG(victories) AS mean_victories,\n",
    "       MIN(victories) AS min_victories,\n",
    "       MAX(victories) AS max_victories\n",
    "FROM drivers;\n",
    "```\n",
    "\n",
    "![](figures/aggregate.png)\n",
    "\n",
    "### Sort\n",
    "\n",
    "- Use `ORDER BY` to sort the data\n",
    "- Order in ascending order of victories with `ASC` (`DESC` for descending)\n",
    "\n",
    "```sql\n",
    "SELECT driver_name, victories FROM drivers\n",
    "ORDER BY victories ASC;\n",
    "```\n",
    "\n",
    "![](figures/order-asc.png)"
   ]
  },
  {
   "cell_type": "markdown",
   "metadata": {},
   "source": [
    "## Exercise 02 {#sec:exercise02}\n",
    "\n",
    "- List drivers who are either 'German' or 'British' and have victories greater than 50\n",
    "- List all drivers with victories greater than the average victories \n",
    "  - Hint: you will have to run another `SELECT` command to get the average victories (a subquery)\n",
    "  - Aggregate functions are not allowed in the `WHERE` clause. [See the reason why here](https://stackoverflow.com/questions/42470849/why-are-aggregate-functions-not-allowed-in-where-clause). [More about subqueries here.](https://mode.com/sql-tutorial/sql-sub-queries)\n",
    "  - We will see another way to do this soon (with `HAVING`)\n",
    "\n",
    "*(Provide the SQL commands in the cell below)*"
   ]
  },
  {
   "cell_type": "code",
   "execution_count": null,
   "metadata": {},
   "outputs": [],
   "source": [
    "-- Your SQL code here for Exercise 02\n",
    "\n",
    "-- Query 1: German or British drivers with > 50 victories\n",
    "-- SELECT ...\n",
    "-- FROM ...\n",
    "-- WHERE (... OR ...) AND ...;\n",
    "\n",
    "-- Query 2: Drivers with victories > average victories\n",
    "-- SELECT ...\n",
    "-- FROM ...\n",
    "-- WHERE victories > (SELECT AVG(victories) FROM drivers);"
   ],
   "language": "sql"
  },
  {
   "cell_type": "markdown",
   "metadata": {},
   "source": [
    "## Groupby + Aggregate\n",
    "\n",
    "### Groupby\n",
    "\n",
    "- Use `GROUP BY` to group data by a column\n",
    "\n",
    "```sql\n",
    "SELECT nationality,\n",
    "       SUM(victories) AS sum_victories,\n",
    "       AVG(victories) AS mean_victories,\n",
    "       MIN(victories) AS min_victories,\n",
    "       MAX(victories) AS max_victories\n",
    "FROM drivers\n",
    "GROUP BY nationality;\n",
    "```\n",
    "\n",
    "![](figures/groupby.png)\n",
    "\n",
    "### Round\n",
    "\n",
    "- Use `ROUND()` to round the values\n",
    "- The first argument is the value to be rounded and the second is the number of decimal places\n",
    "- In this example, the results will be the same as the previous one (except for mean_victories being rounded)\n",
    "\n",
    "```sql\n",
    "SELECT nationality,\n",
    "       SUM(victories) AS sum_victories,\n",
    "       ROUND(AVG(victories), 1) AS mean_victories,\n",
    "       MIN(victories) AS min_victories,\n",
    "       MAX(victories) AS max_victories\n",
    "FROM drivers\n",
    "GROUP BY nationality;\n",
    "```\n",
    "\n",
    "![](figures/round.png)"
   ]
  },
  {
   "cell_type": "markdown",
   "metadata": {},
   "source": [
    "## Filtering after aggregating with HAVING\n",
    "\n",
    "- Use `HAVING` to filter variables **after aggregating**\n",
    "- This differs from `WHERE`, which is used to filter variables **before aggregating**\n",
    "\n",
    "```sql\n",
    "SELECT nationality,\n",
    "       SUM(victories) AS sum_victories,\n",
    "       ROUND(AVG(victories), 1) AS mean_victories,\n",
    "       MIN(victories) AS min_victories,\n",
    "       MAX(victories) AS max_victories\n",
    "FROM drivers\n",
    "GROUP BY nationality\n",
    "HAVING SUM(victories) > 50;\n",
    "```\n",
    "\n",
    "- `HAVING` must be used after `GROUP BY` and before `ORDER BY`\n",
    "- Why? Because `HAVING` is used to filter the results of the `GROUP BY` clause\n",
    "- **So please remember**: `WHERE` is used before aggregating and `HAVING` is used after aggregating!\n",
    "\n",
    "![](figures/having.png)"
   ]
  },
  {
   "cell_type": "markdown",
   "metadata": {},
   "source": [
    "## Python vs. SQL\n",
    "\n",
    "- Here are some equivalences between Python and SQL commands\n",
    "\n",
    "| SQL Command         | Pandas Equivalent                                                                                      |\n",
    "|--------------------|--------------------------------------------------------------------------------------------------------|\n",
    "| `SELECT`           | `df[['column1', 'column2']]`                                                                           |\n",
    "| `INSERT INTO`      | `df.loc[new_index] = new_row` or `pd.concat([df, new_row_df], ignore_index=True)` (for DataFrame)      |\n",
    "| `WHERE`            | `df[df['column'] == value]`                                                                            |\n",
    "| `GROUP BY`         | `df.groupby('column')`                                                                                 |\n",
    "| `HAVING`           | `df.groupby('column').filter(lambda x: condition)`                                                     |\n",
    "| `ROUND()`          | `df['column'].round(decimals)`                                                                         |\n",
    "| Aggregate Functions | `df.groupby('column').agg({'col1': 'sum', 'col2': 'mean', 'col3': 'min', 'col4': 'max'})`             |\n",
    "\n",
    "<br>\n",
    "\n",
    "**SQL**\n",
    "```sql\n",
    "SELECT nationality,\n",
    "       SUM(victories) AS sum_victories\n",
    "FROM drivers\n",
    "GROUP BY nationality\n",
    "HAVING SUM(victories) > 10;\n",
    "```\n",
    "\n",
    "**Python (Pandas)**\n",
    "```python\n",
    "# import pandas as pd\n",
    "# Assuming 'drivers' is a pandas DataFrame\n",
    "# result = (\n",
    "#     drivers.groupby('nationality')\n",
    "#     .agg(sum_victories=('victories', 'sum'))\n",
    "#     .reset_index()\n",
    "# )\n",
    "# result = result[result['sum_victories'] > 10]\n",
    "```"
   ]
  },
  {
   "cell_type": "markdown",
   "metadata": {},
   "source": [
    "## Importing and exporting data \n",
    "\n",
    "- The SQLite3 Editor allows you to easily import and export data to many formats, including CSV and JSON\n",
    "- Just click on `Other Tools` and then `Export / Import`\n",
    "- If you want to export an XLXS file, you can choose between exporting one or all tables\n",
    "- Importing is just as easy: select the file and the table you want to import the data from\n",
    "- You can also do this with SQLite commands:\n",
    "  - Export to CSV: `sqlite3 example.db .mode csv .output example.csv \"SELECT * FROM drivers;\"` (Note: Command line usage)\n",
    "  - [More about exporting data here](https://www.sqlitetutorial.net/sqlite-export-csv/)\n",
    "  - Import from CSV: `sqlite3 example.db .mode csv .import example.csv drivers` (Note: Command line usage, table `drivers` must exist or be created, and `.import` has specific behaviors regarding headers and data types.)\n",
    "  - [More about importing data here](https://www.sqlitetutorial.net/sqlite-import-csv/)\n",
    "\n",
    "![](figures/export-import.png)"
   ]
  },
  {
   "cell_type": "markdown",
   "metadata": {},
   "source": [
    "## Do you want to learn more? 🤓 \n",
    "\n",
    "- Here is a list of resources to help you learn more about SQL:\n",
    "  - [Overview of the SQLite3 Extension](https://marketplace.visualstudio.com/items?itemName=yy0931.vscode-sqlite3-editor): Worth reading to understand all the features of the extension\n",
    "  - [SQLean](https://github.com/nalgeon/sqlean): SQLite extensions. MacOS users should install the [sqlean.py](https://antonz.org/sqlean-py/) Python package, as sqlite3 is compiled without extension support\n",
    "  - [SQLBolt](https://sqlbolt.com/): Interactive SQL tutorials\n",
    "  - [W3Schools](https://www.w3schools.com/sql/): SQL tutorials\n",
    "  - [Kaggle](https://www.kaggle.com/learn/intro-to-sql): SQL course\n",
    "  - [Mode Analytics](https://mode.com/sql-tutorial/): SQL tutorial\n",
    "  - [SQLZoo](https://sqlzoo.net/): Interactive SQL tutorials\n",
    "  - [SQL for Data Science](https://www.datacamp.com/courses/sql-for-data-science): DataCamp course\n",
    "  - [SQL for Data Science](https://www.coursera.org/learn/sql-for-data-science): Coursera course\n",
    "\n",
    "- Or just come to our next class! 😊"
   ]
  },
  {
   "cell_type": "markdown",
   "metadata": {},
   "source": [
    "# And that's it for today! 🚀"
   ]
  },
  {
   "cell_type": "markdown",
   "metadata": {},
   "source": [
    "# See you next time! 😊"
   ]
  }
 ],
 "metadata": {
  "kernelspec": {
   "display_name": "Python 3 (ipykernel)",
   "language": "python",
   "name": "python3"
  },
  "language_info": {
   "codemirror_mode": {
    "name": "ipython",
    "version": 3
   },
   "file_extension": ".py",
   "mimetype": "text/x-python",
   "name": "python",
   "nbconvert_exporter": "python",
   "pygments_lexer": "ipython3",
   "version": "3.10.0"
  }
 },
 "nbformat": 4,
 "nbformat_minor": 5
}
