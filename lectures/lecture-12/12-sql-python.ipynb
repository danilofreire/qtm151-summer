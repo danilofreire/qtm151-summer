{
 "cells": [
  {
   "cell_type": "markdown",
   "metadata": {},
   "source": [
    "# QTM 151 - Introduction to Statistical Computing II\n",
    "## Lecture 12 - SQLite in Python\n",
    "**Author:** Danilo Freire (danilo.freire@emory.edu, Emory University)"
   ]
  },
  {
   "cell_type": "markdown",
   "metadata": {},
   "source": [
    "# Hello! Great to see you again! 😊"
   ]
  },
  {
   "cell_type": "markdown",
   "metadata": {},
   "source": [
    "# Lecture overview 📚"
   ]
  },
  {
   "cell_type": "markdown",
   "metadata": {},
   "source": [
    "## Lecture overview\n",
    "\n",
    "### Last time we learned: \n",
    "\n",
    "- What are relational databases and why they are still important in data science \n",
    "- How to create databases, tables, and insert data using basic SQL commands \n",
    "- How to perform queries with `SELECT`, `WHERE` and `ORDER BY` \n",
    "- Group data with `GROUP BY` and filter groups with `HAVING` \n",
    "- Statistics with `COUNT`, `SUM`, `AVG`, `MIN`, and `MAX` \n",
    "- That was a nice revision! 🤓 \n",
    "- SQLite is generally easier to set up as it's often file-based or in-memory\n",
    "\n",
    "### Today we will learn: \n",
    "\n",
    "- How to connect SQLite with Python\n",
    "- We will use the built-in `sqlite3` library together with `pandas` \n",
    "- Other SQL commands, such as `LIKE`, `IN`, `BETWEEN`, `CASE`, window functions, and string functions like `SUBSTR` and `LENGTH` \n",
    "- How to fill missing data with `COALESCE` \n",
    "- How to use database cursors and fetch results (`fetchall`, `fetchone`) \n",
    "- If time allows, we will also see how to pivot tables using `CASE`\n",
    "- Let's get started! 🚀"
   ]
  },
  {
   "cell_type": "markdown",
   "metadata": {},
   "source": [
    "# Connecting SQLite with Python 🐍"
   ]
  },
  {
   "cell_type": "markdown",
   "metadata": {},
   "source": [
    "## Connecting and Creating a Cursor\n",
    "\n",
    "- To interact with an SQLite database from Python, we first need to establish a connection and then create a cursor.\n",
    "- The **connection** links our script to the database file.\n",
    "- The **cursor** is like a handle we use to send SQL commands and manage results."
   ]
  },
  {
   "cell_type": "code",
   "execution_count": null,
   "metadata": {},
   "outputs": [],
   "source": [
    "import sqlite3\n",
    "\n",
    "db_file = 'lecture12.db' # Database filename\n",
    "\n",
    "# 1. Connect to the database (creates file if needed)\n",
    "conn = sqlite3.connect(db_file) \n",
    "\n",
    "# 2. Create a cursor object to execute commands\n",
    "cur = conn.cursor()"
   ]
  },
  {
   "cell_type": "markdown",
   "metadata": {},
   "source": [
    "# Executing SQL in Python"
   ]
  },
  {
   "cell_type": "markdown",
   "metadata": {},
   "source": [
    "## Creating Tables\n",
    "\n",
    "- We define the structure of our data using `CREATE TABLE`.\n",
    "- Use `cursor.execute()` to run the command and `conn.commit()` to **save** the change."
   ]
  },
  {
   "cell_type": "code",
   "execution_count": null,
   "metadata": {},
   "outputs": [],
   "source": [
    "# Use triple quotes for multi-line SQL\n",
    "# Drop table if exist \n",
    "sql_drop = '''\n",
    "DROP TABLE IF EXISTS drivers; \n",
    "'''\n",
    "\n",
    "# Execute the SQL command\n",
    "cur.execute(sql_drop)\n",
    "\n",
    "# Create a new table named 'drivers'\n",
    "sql_create = '''\n",
    "CREATE TABLE drivers (\n",
    "    driver_id INTEGER PRIMARY KEY AUTOINCREMENT,\n",
    "    driver_name TEXT,\n",
    "    team TEXT,\n",
    "    nationality TEXT,\n",
    "    victories INTEGER\n",
    ");\n",
    "'''\n",
    "# Execute the SQL command\n",
    "cur.execute(sql_create)\n",
    "\n",
    "# Commit the transaction to save the table\n",
    "conn.commit() \n",
    "\n",
    "# Check if the table was created\n",
    "cur.execute(\"SELECT name FROM sqlite_master WHERE type='table' AND name='drivers';\")\n",
    "print(cur.fetchall()) # Should show [('drivers',)] if successful"
   ]
  },
  {
   "cell_type": "markdown",
   "metadata": {},
   "source": [
    "## Inserting Data\n",
    "\n",
    "- Once the table exists, we populate it using `INSERT INTO`.\n",
    "- Again, `cursor.execute()` runs the command, and `conn.commit()` **makes the insertions permanent**."
   ]
  },
  {
   "cell_type": "code",
   "execution_count": null,
   "metadata": {},
   "outputs": [],
   "source": [
    "# Insert a few rows\n",
    "cur.execute(\"INSERT INTO drivers (driver_name, team, nationality, victories) VALUES ('Lewis Hamilton', 'Mercedes', 'British', 103);\")\n",
    "cur.execute(\"INSERT INTO drivers (driver_name, team, nationality, victories) VALUES ('Max Verstappen', 'Red Bull Racing', 'Dutch', 55);\")\n",
    "cur.execute(\"INSERT INTO drivers (driver_name, team, nationality, victories) VALUES ('Fernando Alonso', 'Aston Martin', NULL, NULL);\")\n",
    "cur.execute(\"INSERT INTO drivers (driver_name, team, nationality) VALUES ('Charles Leclerc', 'Ferrari', 'Monégasque');\") \n",
    "\n",
    "# Commit the insertions\n",
    "conn.commit()"
   ]
  },
  {
   "cell_type": "markdown",
   "metadata": {},
   "source": [
    "## Fetching All Results (`fetchall`) and One Result (`fetchone`)\n",
    "\n",
    "- After a `SELECT` query, `fetchall()` retrieves **all results at once** into a list of tuples.\n",
    "- Useful if you need the full dataset immediately, but can use more memory for large results."
   ]
  },
  {
   "cell_type": "code",
   "execution_count": null,
   "metadata": {},
   "outputs": [],
   "source": [
    "cur.execute('SELECT driver_id, driver_name, team FROM drivers') \n",
    "all_rows = cur.fetchall() # Get the list of tuples\n",
    "\n",
    "# Print the fetched data\n",
    "for row in all_rows:\n",
    "    print(row)"
   ]
  },
  {
   "cell_type": "markdown",
   "metadata": {},
   "source": [
    "- `fetchone()` retrieves rows **one by one**. Each call gets the next available row.\n",
    "- Returns `None` when no more rows are left. Good for processing sequentially or just getting the top item."
   ]
  },
  {
   "cell_type": "code",
   "execution_count": null,
   "metadata": {},
   "outputs": [],
   "source": [
    "cur.execute('SELECT driver_id, driver_name FROM drivers ORDER BY driver_id')\n",
    "\n",
    "row1 = cur.fetchone()\n",
    "print(\"First row:\", row1) \n",
    "\n",
    "row2 = cur.fetchone()\n",
    "print(\"Second row:\", row2)"
   ]
  },
  {
   "cell_type": "markdown",
   "metadata": {},
   "source": [
    "## Iterating Over the Cursor\n",
    "\n",
    "- A more \"Pythonic\" and **memory-efficient** way to process results row-by-row is to iterate directly over the cursor."
   ]
  },
  {
   "cell_type": "code",
   "execution_count": null,
   "metadata": {},
   "outputs": [],
   "source": [
    "# Execute the query\n",
    "query = \"SELECT driver_name, team FROM drivers WHERE driver_name LIKE 'M%'\"\n",
    "\n",
    "# Loop directly over the cursor object after execute\n",
    "print(\"\\nDrivers starting with 'M' (iterating cursor):\")\n",
    "for row_tuple in cur.execute(query):\n",
    "    print(row_tuple)"
   ]
  },
  {
   "cell_type": "markdown",
   "metadata": {},
   "source": [
    "# Filtering Data"
   ]
  },
  {
   "cell_type": "markdown",
   "metadata": {},
   "source": [
    "## `IN` and `BETWEEN` Operators\n",
    "\n",
    "- Use `IN` to check if a column's value matches **any value in a specified list**."
   ]
  },
  {
   "cell_type": "code",
   "execution_count": null,
   "metadata": {},
   "outputs": [],
   "source": [
    "query_in = \"SELECT driver_name, team FROM drivers WHERE team IN ('Ferrari', 'Mercedes')\" \n",
    "cur.execute(query_in)\n",
    "print(\"Drivers in Ferrari or Mercedes:\")\n",
    "for row in cur.fetchall():\n",
    "    print(row)"
   ]
  },
  {
   "cell_type": "markdown",
   "metadata": {},
   "source": [
    "- `NOT IN` works similarly to exclude values in the list."
   ]
  },
  {
   "cell_type": "code",
   "execution_count": null,
   "metadata": {},
   "outputs": [],
   "source": [
    "query_not_in = \"SELECT driver_name, team FROM drivers WHERE team NOT IN ('Ferrari', 'Mercedes')\" \n",
    "cur.execute(query_not_in)\n",
    "print(\"\\nDrivers NOT in Ferrari or Mercedes:\")\n",
    "for row in cur.fetchall():\n",
    "    print(row)"
   ]
  },
  {
   "cell_type": "markdown",
   "metadata": {},
   "source": [
    "- `BETWEEN` checks if a value is within a specified range. **Inclusive** of the endpoints."
   ]
  },
  {
   "cell_type": "code",
   "execution_count": null,
   "metadata": {},
   "outputs": [],
   "source": [
    "query_between = \"SELECT driver_name, victories FROM drivers WHERE victories BETWEEN 10 AND 60\" \n",
    "cur.execute(query_between)\n",
    "print(\"\\nDrivers with victories between 10 and 60:\")\n",
    "for row in cur.fetchall():\n",
    "    print(row)"
   ]
  },
  {
   "cell_type": "markdown",
   "metadata": {},
   "source": [
    "- `NOT BETWEEN` excludes values within the specified range."
   ]
  },
  {
   "cell_type": "markdown",
   "metadata": {},
   "source": [
    "## `LIKE` Operator: Basic Patterns\n",
    "\n",
    "- `LIKE` enables simple pattern matching in text strings.\n",
    "  - **`%`**: Matches any sequence (including none) of characters.\n",
    "  - **`_`**: Matches exactly one character."
   ]
  },
  {
   "cell_type": "code",
   "execution_count": null,
   "metadata": {},
   "outputs": [],
   "source": [
    "# Starts with 'L'\n",
    "print(\"\\nDrivers whose names start with 'L':\")\n",
    "cur.execute(\"SELECT driver_name FROM drivers WHERE driver_name LIKE 'L%'\")\n",
    "for row in cur.fetchall(): print(row)"
   ]
  },
  {
   "cell_type": "code",
   "execution_count": null,
   "metadata": {},
   "outputs": [],
   "source": [
    "# Ends with 'Racing'\n",
    "print(\"\\nTeams ending with 'Racing':\")\n",
    "cur.execute(\"SELECT team FROM drivers WHERE team LIKE '%Racing'\")\n",
    "for row in cur.fetchall(): print(row)"
   ]
  },
  {
   "cell_type": "code",
   "execution_count": null,
   "metadata": {},
   "outputs": [],
   "source": [
    "# 'o' as the second letter\n",
    "print(\"\\nDrivers with 'o' as the second letter:\")\n",
    "cur.execute(\"SELECT driver_name FROM drivers WHERE driver_name LIKE '_o%'\")\n",
    "for row in cur.fetchall(): print(row)"
   ]
  },
  {
   "cell_type": "markdown",
   "metadata": {},
   "source": [
    "## `LIKE` Operator: Case Sensitivity and `NOT LIKE`\n",
    "\n",
    "- SQLite `LIKE` is case-insensitive for ASCII by default. Use `LOWER()`/`UPPER()` for **reliable, explicit case handling**."
   ]
  },
  {
   "cell_type": "code",
   "execution_count": null,
   "metadata": {},
   "outputs": [],
   "source": [
    "# Case-insensitive search for names starting with 'l'\n",
    "print(\"\\nDrivers starting with 'l' (using LOWER()):\")\n",
    "cur.execute(\"SELECT driver_name FROM drivers WHERE LOWER(driver_name) LIKE 'l%'\")\n",
    "for row in cur.fetchall(): print(row)"
   ]
  },
  {
   "cell_type": "markdown",
   "metadata": {},
   "source": [
    "- You can also use `COLLATE NOCASE` to make a specific comparison case-insensitive. **This is a more general (and recommended) approach.**"
   ]
  },
  {
   "cell_type": "code",
   "execution_count": null,
   "metadata": {},
   "outputs": [],
   "source": [
    "# Case-insensitive search for names starting with 'l' using COLLATE\n",
    "print(\"\\nDrivers starting with 'l' (using COLLATE NOCASE):\")\n",
    "cur.execute(\"SELECT driver_name FROM drivers WHERE driver_name LIKE 'l%' COLLATE NOCASE\")\n",
    "for row in cur.fetchall(): print(row)"
   ]
  },
  {
   "cell_type": "markdown",
   "metadata": {},
   "source": [
    "- Use `NOT LIKE` to find strings that **do not match** the pattern."
   ]
  },
  {
   "cell_type": "markdown",
   "metadata": {},
   "source": [
    "## Try it yourself! 🤓 {#sec:exercise01}\n",
    "\n",
    "- Practice time! Use `cur.execute()` and fetching/looping.\n",
    "- Find all drivers whose names start with 'M'.\n",
    "- Find drivers whose nationality has exactly 7 characters (**`LENGTH()`** function might be useful).\n",
    "- List drivers whose names start with 'L' **or** 'M'.\n",
    "- Find drivers with 1 to 10 victories (**`BETWEEN`**)."
   ]
  },
  {
   "cell_type": "code",
   "execution_count": null,
   "metadata": {},
   "outputs": [],
   "source": [
    "# Your SQL queries here, executed via cur.execute()\n",
    "\n",
    "# Example for the first one:\n",
    "# print(\"\\n--- Drivers starting with M ---\")\n",
    "# cur.execute(\"SELECT driver_name FROM drivers WHERE driver_name LIKE 'M%'\")\n",
    "# for row in cur.fetchall():\n",
    "#     print(row)\n",
    "\n",
    "# print(\"\\n--- Nationalities with 7 chars ---\")\n",
    "# # Your code here\n",
    "\n",
    "# print(\"\\n--- Drivers starting with L or M ---\")\n",
    "# # Your code here\n",
    "\n",
    "# print(\"\\n--- Drivers with 1-10 wins ---\")\n",
    "# # Your code here"
   ]
  },
  {
   "cell_type": "markdown",
   "metadata": {},
   "source": [
    "# Handling Missing Data"
   ]
  },
  {
   "cell_type": "markdown",
   "metadata": {},
   "source": [
    "## Finding NULLs (`IS NULL`)  and `COALESCE`\n",
    "\n",
    "- SQL represents missing values as `NULL`. Use `IS NULL` to find them. **`IS NOT NULL` finds rows with values**."
   ]
  },
  {
   "cell_type": "code",
   "execution_count": null,
   "metadata": {},
   "outputs": [],
   "source": [
    "print(\"\\nDrivers with NULL victories:\")\n",
    "cur.execute(\"SELECT driver_name, victories FROM drivers WHERE victories IS NULL\")\n",
    "for row in cur.fetchall(): print(row)"
   ]
  },
  {
   "cell_type": "markdown",
   "metadata": {},
   "source": [
    "- `COALESCE(value1, value2, ...)` is useful for replacing `NULL`s with a default value. It returns the **first non-NULL expression** in its arguments."
   ]
  },
  {
   "cell_type": "code",
   "execution_count": null,
   "metadata": {},
   "outputs": [],
   "source": [
    "# If 'victories' is NULL, display 0 instead.\n",
    "print(\"\\nVictories (filled NULLs with 0):\")\n",
    "cur.execute(\"SELECT driver_name, COALESCE(victories, 0) AS victories_filled FROM drivers\")\n",
    "for row in cur.fetchall(): print(row)"
   ]
  },
  {
   "cell_type": "markdown",
   "metadata": {},
   "source": [
    "## `COALESCE` with Subqueries\n",
    "\n",
    "- The default value in `COALESCE` can be dynamic, calculated by a **subquery**."
   ]
  },
  {
   "cell_type": "code",
   "execution_count": null,
   "metadata": {},
   "outputs": [],
   "source": [
    "query_coalesce_sub = '''\n",
    "SELECT \n",
    "  driver_name,\n",
    "  COALESCE(victories, \n",
    "    -- Subquery calculates average victories from non-NULL rows\n",
    "    (SELECT CAST(AVG(victories) AS INTEGER) \n",
    "     FROM drivers \n",
    "     WHERE victories IS NOT NULL) \n",
    "  ) AS victories_imputed\n",
    "FROM drivers; \n",
    "''' \n",
    "print(\"\\nVictories (imputed NULLs with overall average):\")\n",
    "cur.execute(query_coalesce_sub)\n",
    "for row in cur.fetchall(): print(row)"
   ]
  },
  {
   "cell_type": "markdown",
   "metadata": {},
   "source": [
    "- Here, `NULL` victories are replaced by the average of non-NULL victories."
   ]
  },
  {
   "cell_type": "markdown",
   "metadata": {},
   "source": [
    "# Window Functions"
   ]
  },
  {
   "cell_type": "markdown",
   "metadata": {},
   "source": [
    "## Introduction to Window Functions\n",
    "\n",
    "- Window functions compute values across a set of rows (a \"window\") related to the current row, without collapsing them like `GROUP BY`.\n",
    "- Essential for ranking, running totals, moving averages, etc.\n",
    "- Basic syntax involves the **`OVER()`** clause.\n",
    "- **Requires SQLite version 3.25.0 or newer**."
   ]
  },
  {
   "cell_type": "code",
   "execution_count": null,
   "metadata": {},
   "outputs": [],
   "source": [
    "# Add more data for better examples\n",
    "more_drivers_data = [\n",
    "    ('Valtteri Bottas', 'Mercedes', 'Finnish', 10),\n",
    "    ('Sergio Perez', 'Red Bull Racing', 'Mexican', 5),\n",
    "    ('Lando Norris', 'McLaren', 'British', 2),\n",
    "    ('Esteban Ocon', 'Alpine', 'French', 1) \n",
    "]\n",
    "# Check if data already exists to avoid duplicates \n",
    "cur.execute(\"SELECT COUNT(*) FROM drivers WHERE driver_name = 'Valtteri Bottas'\")\n",
    "if cur.fetchone()[0] == 0:\n",
    "    cur.executemany('INSERT INTO drivers (driver_name, team, nationality, victories) VALUES (?, ?, ?, ?)', more_drivers_data)\n",
    "    conn.commit()\n",
    "    print(f\"Added {len(more_drivers_data)} more drivers.\")\n",
    "else:\n",
    "    print(\"Additional drivers already exist.\")\n",
    "\n",
    "\n",
    "# Check SQLite Version\n",
    "cur.execute(\"SELECT sqlite_version();\")\n",
    "print(f\"SQLite Version: {cur.fetchone()[0]}\")"
   ]
  },
  {
   "cell_type": "markdown",
   "metadata": {},
   "source": [
    "## Window Functions: `AVG` and `RANK`\n",
    "\n",
    "- Let's see common window functions in action:\n",
    "- `AVG(...) OVER ()`: Average over the entire query result.\n",
    "- `AVG(...) OVER (PARTITION BY col)`: Average within groups (partitions) defined by `col`.\n",
    "- `RANK() OVER (ORDER BY col)`: Assigns rank based on `col` (**gaps possible for ties**)."
   ]
  },
  {
   "cell_type": "code",
   "execution_count": null,
   "metadata": {},
   "outputs": [],
   "source": [
    "query_window_avg_rank = '''\n",
    "SELECT \n",
    "    driver_name, team, victories,\n",
    "    ROUND(AVG(victories) OVER (), 2) AS avg_overall, \n",
    "    ROUND(AVG(victories) OVER (PARTITION BY team), 2) AS avg_team, \n",
    "    RANK() OVER (ORDER BY victories DESC) AS rank_overall \n",
    "FROM drivers\n",
    "WHERE victories IS NOT NULL \n",
    "ORDER BY rank_overall; \n",
    "'''\n",
    "print(\"\\nWindow function results (AVG, RANK):\")\n",
    "cur.execute(query_window_avg_rank)\n",
    "for row in cur.fetchall(): print(row)"
   ]
  },
  {
   "cell_type": "markdown",
   "metadata": {},
   "source": [
    "## Window Functions vs. `GROUP BY`\n",
    "\n",
    "- A key difference: `GROUP BY` **reduces** the number of rows to one per group. Window functions **maintain** all original rows and add new columns based on the window calculation."
   ]
  },
  {
   "cell_type": "code",
   "execution_count": null,
   "metadata": {},
   "outputs": [],
   "source": [
    "# GROUP BY example (summarizes)\n",
    "cur.execute(\"SELECT team, ROUND(AVG(victories), 2) FROM drivers WHERE victories IS NOT NULL GROUP BY team\")\n",
    "print(\"--- GROUP BY Output (Collapsed) ---\")\n",
    "for row in cur.fetchall(): print(row)\n",
    "\n",
    "# Window Function example (adds detail to each row)\n",
    "cur.execute('''\n",
    "    SELECT driver_name, team, victories, \n",
    "           ROUND(AVG(victories) OVER (PARTITION BY team), 2) as avg_in_team\n",
    "    FROM drivers \n",
    "    WHERE victories IS NOT NULL ORDER BY team, victories DESC\n",
    "''')\n",
    "print(\"\\n--- Window Function Output (All Rows) ---\")\n",
    "for row in cur.fetchall(): print(row)"
   ]
  },
  {
   "cell_type": "markdown",
   "metadata": {},
   "source": [
    "## Try it yourself! 🤓 {#sec:exercise02}\n",
    "\n",
    "- Use a window function:\n",
    "- Select `driver_name`, `nationality`, `victories`.\n",
    "- Add `rank_nationality`: rank drivers by `victories` **within** each `nationality`. (**`PARTITION BY`** needed).\n",
    "- Exclude `NULL` victories.\n",
    "- Order by `nationality`, then `rank_nationality`.\n",
    "- Use `cur.execute()` and fetching/looping."
   ]
  },
  {
   "cell_type": "code",
   "execution_count": null,
   "metadata": {},
   "outputs": [],
   "source": [
    "# Your SQL query here for Exercise 02\n",
    "query_rank_nationality_exercise = '''\n",
    "SELECT \n",
    "    driver_name, \n",
    "    nationality, \n",
    "    victories,\n",
    "    RANK() OVER (PARTITION BY nationality ORDER BY victories DESC) AS rank_nationality\n",
    "FROM drivers\n",
    "WHERE victories IS NOT NULL \n",
    "ORDER BY nationality, rank_nationality; \n",
    "'''\n",
    "\n",
    "# print(\"\\n--- Drivers ranked by victories within nationality (Exercise) ---\")\n",
    "# cur.execute(query_rank_nationality_exercise)\n",
    "# for row in cur.fetchall(): \n",
    "#     print(row)"
   ]
  },
  {
   "cell_type": "markdown",
   "metadata": {},
   "source": [
    "# String Manipulation"
   ]
  },
  {
   "cell_type": "markdown",
   "metadata": {},
   "source": [
    "## Basic String Functions\n",
    "\n",
    "- SQLite provides standard functions for text processing.\n",
    "- `LENGTH(str)`, `UPPER(str)`, `LOWER(str)`.\n",
    "- `SUBSTR(str, start, length)` extracts a portion of the string (**start is 1-indexed**)."
   ]
  },
  {
   "cell_type": "code",
   "execution_count": null,
   "metadata": {},
   "outputs": [],
   "source": [
    "query_str1 = '''\n",
    "SELECT driver_name, \n",
    "    LENGTH(driver_name) AS len,\n",
    "    UPPER(driver_name) AS upper,\n",
    "    LOWER(driver_name) AS lower,\n",
    "    SUBSTR(driver_name, 1, 4) AS first_four -- Get first 4 characters\n",
    "FROM drivers LIMIT 4;\n",
    "'''\n",
    "print(\"\\nString function examples (Part 1):\")\n",
    "cur.execute(query_str1)\n",
    "for row in cur.fetchall(): print(row)"
   ]
  },
  {
   "cell_type": "markdown",
   "metadata": {},
   "source": [
    "## More String Functions\n",
    "\n",
    "- `TRIM(str)` removes leading/trailing whitespace.\n",
    "- `REPLACE(str, find, replace)` substitutes text.\n",
    "- `INSTR(str, find)` finds the starting position of `find` within `str` (**0 if not found**).\n",
    "- The **`||`** operator concatenates (joins) strings."
   ]
  },
  {
   "cell_type": "code",
   "execution_count": null,
   "metadata": {},
   "outputs": [],
   "source": [
    "query_str2 = '''\n",
    "SELECT driver_name, \n",
    "    REPLACE(driver_name, ' ', '_') AS replaced_space,\n",
    "    INSTR(LOWER(driver_name), 'a') AS first_a_pos, \n",
    "    'Driver: ' || driver_name AS labelled_name -- Concatenation\n",
    "FROM drivers LIMIT 4;\n",
    "'''\n",
    "print(\"\\nString function examples (Part 2):\")\n",
    "cur.execute(query_str2)\n",
    "for row in cur.fetchall(): print(row)"
   ]
  },
  {
   "cell_type": "markdown",
   "metadata": {},
   "source": [
    "# Conditional Logic: CASE"
   ]
  },
  {
   "cell_type": "markdown",
   "metadata": {},
   "source": [
    "## Basic `CASE` Statement\n",
    "\n",
    "- The `CASE` statement is SQL's way of implementing **if-then-else logic** within a query.\n",
    "- `CASE WHEN condition THEN result ELSE default_result END`"
   ]
  },
  {
   "cell_type": "code",
   "execution_count": null,
   "metadata": {},
   "outputs": [],
   "source": [
    "query_case1 = '''\n",
    "SELECT driver_name, victories,\n",
    "    CASE \n",
    "        WHEN victories > 50 THEN 'Legend' \n",
    "        ELSE 'Great Driver (or N/A)'      \n",
    "    END AS category \n",
    "FROM drivers;\n",
    "'''\n",
    "print(\"\\nCASE statement example (Basic):\")\n",
    "cur.execute(query_case1)\n",
    "for row in cur.fetchall(): print(row)"
   ]
  },
  {
   "cell_type": "markdown",
   "metadata": {},
   "source": [
    "## `CASE` with Multiple Conditions\n",
    "\n",
    "- You can chain multiple `WHEN` clauses. The **first condition that evaluates to true** determines the result for that row. The optional `ELSE` handles cases where no `WHEN` is true."
   ]
  },
  {
   "cell_type": "code",
   "execution_count": null,
   "metadata": {},
   "outputs": [],
   "source": [
    "query_case2 = '''\n",
    "SELECT driver_name, victories,\n",
    "    CASE \n",
    "        WHEN victories > 100 THEN 'All-Time Great'\n",
    "        WHEN victories > 50 THEN 'Legend'\n",
    "        WHEN victories >= 10 THEN 'Race Winner'\n",
    "        WHEN victories > 0 THEN 'Podium Potential'\n",
    "        ELSE 'Data Missing or Zero Wins' \n",
    "    END AS status\n",
    "FROM drivers ORDER BY victories DESC NULLS LAST;\n",
    "'''\n",
    "print(\"\\nCASE statement example (Multiple Conditions):\")\n",
    "cur.execute(query_case2)\n",
    "for row in cur.fetchall(): print(row)"
   ]
  },
  {
   "cell_type": "markdown",
   "metadata": {},
   "source": [
    "## `CASE` for Conditional NULL Handling\n",
    "\n",
    "- `CASE` offers more nuanced control over handling `NULL`s compared to just `COALESCE`, allowing checks on **other columns**."
   ]
  },
  {
   "cell_type": "code",
   "execution_count": null,
   "metadata": {},
   "outputs": [],
   "source": [
    "query_case_null = '''\n",
    "SELECT driver_name, \n",
    "    -- Fill nationality based on name if NULL\n",
    "    CASE \n",
    "        WHEN nationality IS NULL AND driver_name = 'Fernando Alonso' THEN 'Spanish'\n",
    "        WHEN nationality IS NULL THEN 'Unknown' \n",
    "        ELSE nationality\n",
    "    END AS nationality_filled,\n",
    "    -- Fill victories based on team if NULL\n",
    "    CASE \n",
    "        WHEN victories IS NULL AND team = 'Aston Martin' THEN 32 -- Educated guess! \n",
    "        WHEN victories IS NULL THEN 0 \n",
    "        ELSE victories\n",
    "    END AS victories_filled\n",
    "FROM drivers WHERE driver_name LIKE 'F%' OR driver_name LIKE 'L%'; -- Limit output\n",
    "'''\n",
    "print(\"\\nCASE statement for conditional NULL handling:\")\n",
    "cur.execute(query_case_null)\n",
    "for row in cur.fetchall(): print(row)"
   ]
  },
  {
   "cell_type": "markdown",
   "metadata": {},
   "source": [
    "## Try it yourself! 🤓 {#sec:exercise03}\n",
    "\n",
    "- Use `CASE` to create `driver_level`:\n",
    "  - 'Beginner' if victories < 10 (and not NULL)\n",
    "  - 'Intermediate' if 10 <= victories <= 50\n",
    "  - 'Expert' if victories > 50\n",
    "  - 'Unknown' if victories is NULL (**Handle NULL first!**)\n",
    "- Select `driver_name`, `victories`, `driver_level`.\n",
    "- Use `cur.execute()` and fetching/looping."
   ]
  },
  {
   "cell_type": "code",
   "execution_count": null,
   "metadata": {},
   "outputs": [],
   "source": [
    "# Your SQL query here for Exercise 03\n",
    "query_driver_level_exercise = '''\n",
    "SELECT \n",
    "    driver_name, \n",
    "    victories,\n",
    "    CASE \n",
    "        WHEN victories IS NULL THEN 'Unknown' \n",
    "        WHEN victories > 50 THEN 'Expert'\n",
    "        WHEN victories >= 10 THEN 'Intermediate' -- Corrected from 'BETWEEN 10 AND 50' to cover exactly 10 and 50\n",
    "        WHEN victories < 10 THEN 'Beginner' -- This will catch >0 and <10\n",
    "        ELSE 'Other' -- Should not be reached if NULL is handled first\n",
    "    END AS driver_level\n",
    "FROM drivers\n",
    "ORDER BY victories DESC NULLS LAST; \n",
    "'''\n",
    "\n",
    "# print(\"\\n--- Driver classification using CASE (Exercise) ---\")\n",
    "# cur.execute(query_driver_level_exercise)\n",
    "# for row in cur.fetchall(): \n",
    "#     print(row)"
   ]
  },
  {
   "cell_type": "markdown",
   "metadata": {},
   "source": [
    "# Using SQL with `pandas` 🐼"
   ]
  },
  {
   "cell_type": "markdown",
   "metadata": {},
   "source": [
    "## Reading Data with `pandas.read_sql`\n",
    "\n",
    "- Reading data using loops and `fetchall()` works, but `pandas` makes it much easier for analysis.\n",
    "- **`pandas.read_sql()`** executes a `SELECT` query and loads the results directly into a DataFrame."
   ]
  },
  {
   "cell_type": "code",
   "execution_count": null,
   "metadata": {},
   "outputs": [],
   "source": [
    "import pandas as pd # Import pandas\n",
    "\n",
    "# Pass the SQL query and the connection object\n",
    "df = pd.read_sql('SELECT * FROM drivers', conn) \n",
    "print(\"DataFrame loaded from SQL:\")\n",
    "display(df) "
   ]
  },
  {
   "cell_type": "markdown",
   "metadata": {},
   "source": [
    "- This combines execution and fetching into one step, returning a structured table."
   ]
  },
  {
   "cell_type": "markdown",
   "metadata": {},
   "source": [
    "## `read_sql` with Any `SELECT` Query\n",
    "\n",
    "- You can use complex `SELECT` statements, including joins, filtering, ordering, etc., within `read_sql`."
   ]
  },
  {
   "cell_type": "code",
   "execution_count": null,
   "metadata": {},
   "outputs": [],
   "source": [
    "query_pd = \"\"\"\n",
    "SELECT driver_name, team, victories \n",
    "FROM drivers \n",
    "WHERE victories > 5 OR victories IS NULL\n",
    "ORDER BY team\n",
    "\"\"\"\n",
    "df_filtered_ordered = pd.read_sql(query_pd, conn)\n",
    "print(\"\\nFiltered and ordered DataFrame from SQL:\")\n",
    "display(df_filtered_ordered)"
   ]
  },
  {
   "cell_type": "markdown",
   "metadata": {},
   "source": [
    "- `pandas` handles retrieving all the data specified by your SQL query."
   ]
  },
  {
   "cell_type": "markdown",
   "metadata": {},
   "source": [
    "## Manipulating DataFrames from SQL\n",
    "\n",
    "- Once loaded, the DataFrame behaves like any other `pandas` DataFrame. Apply all your data manipulation skills!"
   ]
  },
  {
   "cell_type": "code",
   "execution_count": null,
   "metadata": {},
   "outputs": [],
   "source": [
    "# df was loaded previously\n",
    "if 'df' in locals() and not df.empty:\n",
    "    avg_vic_pd = df.groupby('team')['victories'].mean().dropna()\n",
    "    print(\"\\nAverage victories by team (Pandas):\")\n",
    "    print(avg_vic_pd)\n",
    "else:\n",
    "    print(\"DataFrame 'df' not available.\")"
   ]
  },
  {
   "cell_type": "code",
   "execution_count": null,
   "metadata": {},
   "outputs": [],
   "source": [
    "# Example using pandas .query() method for filtering\n",
    "if 'df' in locals() and not df.empty:\n",
    "    print(\"\\nPandas query on DataFrame:\")\n",
    "    display(df.query('victories > 50 and nationality == \"British\"'))\n",
    "else:\n",
    "    print(\"DataFrame 'df' not available.\")"
   ]
  },
  {
   "cell_type": "markdown",
   "metadata": {},
   "source": [
    "## Writing DataFrames to SQL (`to_sql`)\n",
    "\n",
    "- The reverse is also easy: `DataFrame.to_sql()` writes the DataFrame's contents into a database table."
   ]
  },
  {
   "cell_type": "code",
   "execution_count": null,
   "metadata": {},
   "outputs": [],
   "source": [
    "# Example: Create a DataFrame with British drivers\n",
    "if 'df' in locals() and not df.empty:\n",
    "    df_british = df[df['nationality'] == 'British'].copy()\n",
    "\n",
    "    # Write to a new table named 'british_drivers'\n",
    "    # index=False: [Important!] Prevents pandas index from becoming a DB column.\n",
    "    df_british.to_sql('british_drivers', conn, if_exists='replace', index=False)\n",
    "    print(\"\\n'british_drivers' table created/replaced in DB.\")\n",
    "\n",
    "    # Verify by reading it back using pandas\n",
    "    print(\"\\nContents of 'british_drivers' table from DB:\")\n",
    "    display(pd.read_sql('SELECT * FROM british_drivers', conn))\n",
    "else:\n",
    "    print(\"DataFrame 'df' not available to create 'british_drivers'.\")"
   ]
  },
  {
   "cell_type": "markdown",
   "metadata": {},
   "source": [
    "## Try it yourself! 🤓 {#sec:exercise04}\n",
    "\n",
    "- 1. Create `employees` table (`employee_id` INTEGER PRIMARY KEY AUTOINCREMENT, `employee_name` TEXT, `department` TEXT, `salary` INTEGER) using `cursor.execute()`.\n",
    "- 2. Insert data for Alice (HR, 50k), Bob (IT, 60k), Charlie (HR, 70k), David (IT, 80k) using `cursor.executemany()` or multiple `cursor.execute()` calls. Commit the changes.\n",
    "- 3. Read the full `employees` table into a pandas DataFrame called `df_employees` using **`pd.read_sql()`**. Print `df_employees`.\n",
    "- 4. Using **`df_employees`**, calculate and print the average salary per department."
   ]
  },
  {
   "cell_type": "code",
   "execution_count": null,
   "metadata": {},
   "outputs": [],
   "source": [
    "# Your code here for Exercise 04\n",
    "\n",
    "# import pandas as pd\n",
    "# import sqlite3\n",
    "\n",
    "# db_file_ex4 = 'exercise04.db' # Use a new db file or the existing lecture12.db\n",
    "# conn_ex4 = sqlite3.connect(db_file_ex4)\n",
    "# cur_ex4 = conn_ex4.cursor()\n",
    "\n",
    "# 1. Create employees table\n",
    "# cur_ex4.execute('DROP TABLE IF EXISTS employees;') \n",
    "# cur_ex4.execute('''\n",
    "# CREATE TABLE employees (\n",
    "#     employee_id INTEGER PRIMARY KEY AUTOINCREMENT,\n",
    "#     employee_name TEXT, \n",
    "#     department TEXT, \n",
    "#     salary INTEGER\n",
    "# );''')\n",
    "\n",
    "# 2. Insert data\n",
    "# employee_data = [\n",
    "#     ('Alice', 'HR', 50000), ('Bob', 'IT', 60000),\n",
    "#     ('Charlie', 'HR', 70000), ('David', 'IT', 80000)\n",
    "# ]\n",
    "# cur_ex4.executemany('INSERT INTO employees (employee_name, department, salary) VALUES (?, ?, ?)', employee_data)\n",
    "# conn_ex4.commit()\n",
    "# print(\"Employees table created and populated.\")\n",
    "\n",
    "# 3. Read data with pandas\n",
    "# df_employees = pd.read_sql('SELECT * FROM employees', conn_ex4)\n",
    "# print(\"\\n--- Employees DataFrame ---\")\n",
    "# display(df_employees)\n",
    "\n",
    "# 4. Compute average salary by department using pandas\n",
    "# if not df_employees.empty:\n",
    "#     avg_salary_dept = df_employees.groupby('department')['salary'].mean()\n",
    "#     print(\"\\n--- Average salary by department (pandas) ---\")\n",
    "#     print(avg_salary_dept)\n",
    "\n",
    "# conn_ex4.close() # Close the connection for this exercise"
   ]
  },
  {
   "cell_type": "markdown",
   "metadata": {},
   "source": [
    "# Pivot tables in SQL 📄"
   ]
  },
  {
   "cell_type": "markdown",
   "metadata": {},
   "source": [
    "## Pivot Setup: Student Scores\n",
    "\n",
    "- Pivoting reshapes data from \"long\" to \"wide\" format. SQLite lacks a dedicated `PIVOT` command, so we use conditional aggregation.\n",
    "- Let's set up the `student_scores` data first."
   ]
  },
  {
   "cell_type": "code",
   "execution_count": null,
   "metadata": {},
   "outputs": [],
   "source": [
    "# Create and populate student_scores table\n",
    "cur.execute('DROP TABLE IF EXISTS student_scores;')\n",
    "cur.execute('CREATE TABLE student_scores (student_name TEXT, subject TEXT, score INTEGER, term TEXT);')\n",
    "scores_data = [\n",
    "    ('Alice', 'Maths', 90, 'Q1'), ('Alice', 'Maths', 80, 'Q2'), ('Alice', 'Science', 80, 'Q1'), ('Alice', 'Science', 75, 'Q2'),\n",
    "    ('Bob', 'Maths', 80, 'Q1'), ('Bob', 'Maths', 100, 'Q2'), ('Bob', 'Science', 80, 'Q1'), ('Bob', 'Science', 70, 'Q2'),\n",
    "    ('Charles', 'Maths', 70, 'Q1'), ('Charles', 'Maths', 75, 'Q2'), ('Charles', 'Science', 90, 'Q1'), ('Charles', 'Science', 85, 'Q2')\n",
    "]\n",
    "cur.executemany('INSERT INTO student_scores VALUES (?, ?, ?, ?)', scores_data)\n",
    "conn.commit()\n",
    "print(\"Created and populated student_scores.\")\n",
    "\n",
    "# Display raw data using pandas\n",
    "print(\"\\nRaw student_scores data:\")\n",
    "display(pd.read_sql('SELECT * FROM student_scores ORDER BY student_name, term, subject', conn))"
   ]
  },
  {
   "cell_type": "markdown",
   "metadata": {},
   "source": [
    "## Pivoting with `CASE` and `GROUP BY`\n",
    "\n",
    "- The technique involves using an aggregate function (`AVG`, `SUM`, etc.) around a `CASE` statement for each desired new column. **`GROUP BY`** ensures one row per student."
   ]
  },
  {
   "cell_type": "code",
   "execution_count": null,
   "metadata": {},
   "outputs": [],
   "source": [
    "pivot_query = '''\n",
    "SELECT \n",
    "    student_name,\n",
    "    -- Avg Maths: Only average score WHEN subject is Maths\n",
    "    AVG(CASE WHEN subject = 'Maths' THEN score END) as Avg_Maths, \n",
    "    -- Avg Science: Only average score WHEN subject is Science\n",
    "    AVG(CASE WHEN subject = 'Science' THEN score END) as Avg_Science\n",
    "FROM student_scores\n",
    "GROUP BY student_name \n",
    "ORDER BY student_name;\n",
    "'''\n",
    "# Display the pivoted result using pandas\n",
    "df_pivot = pd.read_sql(pivot_query, conn)\n",
    "print(\"\\nPivoted student scores (Average by subject):\")\n",
    "display(df_pivot)"
   ]
  },
  {
   "cell_type": "markdown",
   "metadata": {},
   "source": [
    "- **`AVG` ignores NULLs**, which are produced by the `CASE` statement when the subject doesn't match."
   ]
  },
  {
   "cell_type": "markdown",
   "metadata": {},
   "source": [
    "# Conclusion 📚"
   ]
  },
  {
   "cell_type": "markdown",
   "metadata": {},
   "source": [
    "## Conclusion\n",
    "\n",
    "- `sqlite3` provides the basic tools to interact with SQLite from Python.\n",
    "- Key steps: `connect()`, `cursor()`, `execute()`, **`commit()`**.\n",
    "- Fetch results using `fetchone()`, `fetchall()`, or by iterating the cursor.\n",
    "- Common SQL commands work as expected.\n",
    "- Window functions require **modern SQLite versions**.\n",
    "- Use `CASE` + `GROUP BY` for pivoting.\n",
    "- **`pandas.read_sql()`** greatly simplifies loading data for analysis.\n",
    "- `df.to_sql()` saves DataFrames back to the database.\n",
    "\n",
    "![](figures/pandasql5.jpg)\n",
    "Source: [Susan Ibach (2020)](https://susanibach.wordpress.com/2020/01/07/pandas-for-sql-lovers-select-from-table/)"
   ]
  },
  {
   "cell_type": "markdown",
   "metadata": {},
   "source": [
    "# And that's all for today! 🚀"
   ]
  },
  {
   "cell_type": "markdown",
   "metadata": {},
   "source": [
    "# Have a great day! 😊"
   ]
  },
  {
   "cell_type": "code",
   "execution_count": null,
   "metadata": {},
   "outputs": [],
   "source": [
    "# Clean up: Close the connection\n",
    "if 'conn' in locals() and conn:\n",
    "    conn.close()\n",
    "    print(\"\\nSQLite connection closed.\")"
   ]
  }
 ],
 "metadata": {
  "kernelspec": {
   "display_name": "Python 3 (ipykernel)",
   "language": "python",
   "name": "python3"
  },
  "language_info": {
   "codemirror_mode": {
    "name": "ipython",
    "version": 3
   },
   "file_extension": ".py",
   "mimetype": "text/x-python",
   "name": "python",
   "nbconvert_exporter": "python",
   "pygments_lexer": "ipython3",
   "version": "3.10.0"
  }
 },
 "nbformat": 4,
 "nbformat_minor": 5
}
