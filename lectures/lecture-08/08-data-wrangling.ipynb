{
 "cells": [
  {
   "cell_type": "markdown",
   "metadata": {},
   "source": [
    "# QTM 151 - Introduction to Statistical Computing II\n",
    "## Lecture 08 - Data Wrangling with Pandas\n",
    "**Author:** Danilo Freire (danilo.freire@emory.edu, Emory University)"
   ]
  },
  {
   "cell_type": "markdown",
   "metadata": {},
   "source": [
    "# Hello again! 🥳"
   ]
  },
  {
   "cell_type": "markdown",
   "metadata": {},
   "source": [
    "# Recap of last class 📚"
   ]
  },
  {
   "cell_type": "markdown",
   "metadata": {},
   "source": [
    "## In our last class, we learned\n",
    "\n",
    "- How to write functions with `def` and `return`\n",
    "- What **parameters, arguments, and return values** are\n",
    "- How to combine functions with `if` statements\n",
    "- How to use [lambda](https://realpython.com/python-lambda/) to create quick, throwaway functions\n",
    "\n",
    "![](figures/functions.webp)\n",
    "![](figures/lambda.jpg)"
   ]
  },
  {
   "cell_type": "markdown",
   "metadata": {},
   "source": [
    "## Today's plan 📅\n",
    "\n",
    "- Introduction to `pandas`, the main library for data manipulation in Python\n",
    "- Learn how to apply functions to many variables at once\n",
    "- How to use the `apply` and `map` functions\n",
    "- Learn how to recode and replace variables in a dataset\n",
    "- Specifically focus on replacing `NaN` values (\"Not a Number\" - missing data)\n",
    "- Cover how to convert variables from one type to another\n",
    "- Learn how to create new variables based on existing ones\n",
    "- Finally, we will learn about `.py` files and how to import them as modules\n",
    "\n",
    "![](figures/pandas.png)"
   ]
  },
  {
   "cell_type": "markdown",
   "metadata": {},
   "source": [
    "# Operations over many variables using Pandas 🐼"
   ]
  },
  {
   "cell_type": "markdown",
   "metadata": {},
   "source": [
    "## Pandas 🐼\n",
    "\n",
    "- `pandas` is the main library for **data manipulation** in Python 🐼\n",
    "- We will use it a lot in this course (and in your life as a data scientist!)\n",
    "- It is built on top of `numpy` and `matplotlib`, and has [a gazillion functions to work with data](https://pandas.pydata.org/docs/reference/index.html) 😁\n",
    "- If you use `R` already, think about it as the `dplyr` of Python\n",
    "  - A list of [equivalences between `dplyr` and `pandas`](https://pandas.pydata.org/docs/getting_started/comparison/comparison_with_r.html)\n",
    "- We will learn more about it in the next classes"
   ]
  },
  {
   "cell_type": "markdown",
   "metadata": {},
   "source": [
    "## Applying functions to a dataset\n",
    "\n",
    "- The `apply` function is used to **apply a function to a dataset**\n",
    "  - (This course is full of surprises, isn't it? 😄)\n",
    "- It is a **method of a pandas DataFrame**\n",
    "- It can be used with built-in functions, custom functions, or lambda functions\n",
    "  - `df.apply(function)`\n",
    "- You can apply functions to rows or columns\n",
    "  - `df.apply(function, axis=0)` applies the function to each column (default)\n",
    "  - `df.apply(function, axis=1)` applies the function to each row"
   ]
  },
  {
   "cell_type": "markdown",
   "metadata": {},
   "source": [
    "## Applying functions to a dataset"
   ]
  },
  {
   "cell_type": "code",
   "execution_count": 1,
   "metadata": {},
   "outputs": [
    {
     "name": "stdout",
     "output_type": "stream",
     "text": [
      "          A         B         C\n",
      "0  1.000000  2.000000  2.645751\n",
      "1  1.414214  2.236068  2.828427\n",
      "2  1.732051  2.449490  3.000000\n"
     ]
    }
   ],
   "source": [
    "import numpy as np\n",
    "import pandas as pd\n",
    "\n",
    "df = pd.DataFrame({\n",
    "    'A': [1, 2, 3],\n",
    "    'B': [4, 5, 6],\n",
    "    'C': [7, 8, 9]\n",
    "})\n",
    "\n",
    "print(df.apply(np.sqrt))"
   ]
  },
  {
   "cell_type": "code",
   "execution_count": 2,
   "metadata": {},
   "outputs": [
    {
     "name": "stdout",
     "output_type": "stream",
     "text": [
      "0    12\n",
      "1    15\n",
      "2    18\n",
      "dtype: int64\n"
     ]
    }
   ],
   "source": [
    "print(df.apply(np.sum, axis=1))"
   ]
  },
  {
   "cell_type": "code",
   "execution_count": 3,
   "metadata": {},
   "outputs": [
    {
     "name": "stdout",
     "output_type": "stream",
     "text": [
      "   A   B   C\n",
      "0  1  16  49\n",
      "1  4  25  64\n",
      "2  9  36  81\n"
     ]
    }
   ],
   "source": [
    "print(df.apply(lambda x: x**2))"
   ]
  },
  {
   "cell_type": "markdown",
   "metadata": {},
   "source": [
    "## Applying functions to a dataset\n",
    "\n",
    "- Let's do a quick exercise"
   ]
  },
  {
   "cell_type": "code",
   "execution_count": 4,
   "metadata": {},
   "outputs": [
    {
     "data": {
      "application/vnd.microsoft.datawrangler.viewer.v0+json": {
       "columns": [
        {
         "name": "index",
         "rawType": "int64",
         "type": "integer"
        },
        {
         "name": "age",
         "rawType": "int64",
         "type": "integer"
        },
        {
         "name": "num_underage_siblings",
         "rawType": "int64",
         "type": "integer"
        },
        {
         "name": "num_adult_siblings",
         "rawType": "int64",
         "type": "integer"
        }
       ],
       "ref": "488e3aa7-3885-4e76-b523-e19581f65cb5",
       "rows": [
        [
         "0",
         "18",
         "0",
         "1"
        ],
        [
         "1",
         "29",
         "0",
         "0"
        ],
        [
         "2",
         "15",
         "1",
         "0"
        ],
        [
         "3",
         "32",
         "1",
         "1"
        ],
        [
         "4",
         "6",
         "0",
         "0"
        ]
       ],
       "shape": {
        "columns": 3,
        "rows": 5
       }
      },
      "text/html": [
       "<div>\n",
       "<style scoped>\n",
       "    .dataframe tbody tr th:only-of-type {\n",
       "        vertical-align: middle;\n",
       "    }\n",
       "\n",
       "    .dataframe tbody tr th {\n",
       "        vertical-align: top;\n",
       "    }\n",
       "\n",
       "    .dataframe thead th {\n",
       "        text-align: right;\n",
       "    }\n",
       "</style>\n",
       "<table border=\"1\" class=\"dataframe\">\n",
       "  <thead>\n",
       "    <tr style=\"text-align: right;\">\n",
       "      <th></th>\n",
       "      <th>age</th>\n",
       "      <th>num_underage_siblings</th>\n",
       "      <th>num_adult_siblings</th>\n",
       "    </tr>\n",
       "  </thead>\n",
       "  <tbody>\n",
       "    <tr>\n",
       "      <th>0</th>\n",
       "      <td>18</td>\n",
       "      <td>0</td>\n",
       "      <td>1</td>\n",
       "    </tr>\n",
       "    <tr>\n",
       "      <th>1</th>\n",
       "      <td>29</td>\n",
       "      <td>0</td>\n",
       "      <td>0</td>\n",
       "    </tr>\n",
       "    <tr>\n",
       "      <th>2</th>\n",
       "      <td>15</td>\n",
       "      <td>1</td>\n",
       "      <td>0</td>\n",
       "    </tr>\n",
       "    <tr>\n",
       "      <th>3</th>\n",
       "      <td>32</td>\n",
       "      <td>1</td>\n",
       "      <td>1</td>\n",
       "    </tr>\n",
       "    <tr>\n",
       "      <th>4</th>\n",
       "      <td>6</td>\n",
       "      <td>0</td>\n",
       "      <td>0</td>\n",
       "    </tr>\n",
       "  </tbody>\n",
       "</table>\n",
       "</div>"
      ],
      "text/plain": [
       "   age  num_underage_siblings  num_adult_siblings\n",
       "0   18                      0                   1\n",
       "1   29                      0                   0\n",
       "2   15                      1                   0\n",
       "3   32                      1                   1\n",
       "4    6                      0                   0"
      ]
     },
     "metadata": {},
     "output_type": "display_data"
    }
   ],
   "source": [
    "# Create an empty DataFrame\n",
    "data = pd.DataFrame()\n",
    "\n",
    "# Add variables\n",
    "data[\"age\"] = [18,29,15,32,6]\n",
    "data[\"num_underage_siblings\"] = [0,0,1,1,0]\n",
    "data[\"num_adult_siblings\"] = [1,0,0,1,0]\n",
    "\n",
    "from IPython.display import display # To match Quarto's display output\n",
    "display(data)"
   ]
  },
  {
   "cell_type": "markdown",
   "metadata": {},
   "source": [
    "## Applying functions to a dataset\n",
    "\n",
    "- Now let's define some functions"
   ]
  },
  {
   "cell_type": "code",
   "execution_count": 5,
   "metadata": {},
   "outputs": [],
   "source": [
    "# The first two functions return True/False depending on age constraints\n",
    "# The third function returns the sum of two numbers\n",
    "# The fourth function returns a string with the age bracket\n",
    "\n",
    "fn_iseligible_vote = lambda age: age >= 18\n",
    "\n",
    "fn_istwenties = lambda age: (age >= 20) & (age < 30)\n",
    "\n",
    "fn_sum = lambda x,y: x + y\n",
    "\n",
    "def fn_agebracket(age):\n",
    "    if (age >= 18):\n",
    "        status = \"Adult\"\n",
    "    elif (age >= 10) & (age < 18):\n",
    "        status = \"Adolescent\"\n",
    "    else:\n",
    "        status = \"Child\"\n",
    "    return(status)"
   ]
  },
  {
   "cell_type": "markdown",
   "metadata": {},
   "source": [
    "## Applying functions to a dataset\n",
    "\n",
    "- Now let's apply the functions to the `data[\"age\"]` column"
   ]
  },
  {
   "cell_type": "code",
   "execution_count": 6,
   "metadata": {},
   "outputs": [
    {
     "data": {
      "application/vnd.microsoft.datawrangler.viewer.v0+json": {
       "columns": [
        {
         "name": "index",
         "rawType": "int64",
         "type": "integer"
        },
        {
         "name": "age",
         "rawType": "int64",
         "type": "integer"
        },
        {
         "name": "num_underage_siblings",
         "rawType": "int64",
         "type": "integer"
        },
        {
         "name": "num_adult_siblings",
         "rawType": "int64",
         "type": "integer"
        },
        {
         "name": "can_vote",
         "rawType": "bool",
         "type": "boolean"
        },
        {
         "name": "in_twenties",
         "rawType": "bool",
         "type": "boolean"
        },
        {
         "name": "age_bracket",
         "rawType": "object",
         "type": "string"
        }
       ],
       "ref": "742228ec-8960-4990-9f7e-5c9e4d53a0c6",
       "rows": [
        [
         "0",
         "18",
         "0",
         "1",
         "True",
         "False",
         "Adult"
        ],
        [
         "1",
         "29",
         "0",
         "0",
         "True",
         "True",
         "Adult"
        ],
        [
         "2",
         "15",
         "1",
         "0",
         "False",
         "False",
         "Adolescent"
        ],
        [
         "3",
         "32",
         "1",
         "1",
         "True",
         "False",
         "Adult"
        ],
        [
         "4",
         "6",
         "0",
         "0",
         "False",
         "False",
         "Child"
        ]
       ],
       "shape": {
        "columns": 6,
        "rows": 5
       }
      },
      "text/html": [
       "<div>\n",
       "<style scoped>\n",
       "    .dataframe tbody tr th:only-of-type {\n",
       "        vertical-align: middle;\n",
       "    }\n",
       "\n",
       "    .dataframe tbody tr th {\n",
       "        vertical-align: top;\n",
       "    }\n",
       "\n",
       "    .dataframe thead th {\n",
       "        text-align: right;\n",
       "    }\n",
       "</style>\n",
       "<table border=\"1\" class=\"dataframe\">\n",
       "  <thead>\n",
       "    <tr style=\"text-align: right;\">\n",
       "      <th></th>\n",
       "      <th>age</th>\n",
       "      <th>num_underage_siblings</th>\n",
       "      <th>num_adult_siblings</th>\n",
       "      <th>can_vote</th>\n",
       "      <th>in_twenties</th>\n",
       "      <th>age_bracket</th>\n",
       "    </tr>\n",
       "  </thead>\n",
       "  <tbody>\n",
       "    <tr>\n",
       "      <th>0</th>\n",
       "      <td>18</td>\n",
       "      <td>0</td>\n",
       "      <td>1</td>\n",
       "      <td>True</td>\n",
       "      <td>False</td>\n",
       "      <td>Adult</td>\n",
       "    </tr>\n",
       "    <tr>\n",
       "      <th>1</th>\n",
       "      <td>29</td>\n",
       "      <td>0</td>\n",
       "      <td>0</td>\n",
       "      <td>True</td>\n",
       "      <td>True</td>\n",
       "      <td>Adult</td>\n",
       "    </tr>\n",
       "    <tr>\n",
       "      <th>2</th>\n",
       "      <td>15</td>\n",
       "      <td>1</td>\n",
       "      <td>0</td>\n",
       "      <td>False</td>\n",
       "      <td>False</td>\n",
       "      <td>Adolescent</td>\n",
       "    </tr>\n",
       "    <tr>\n",
       "      <th>3</th>\n",
       "      <td>32</td>\n",
       "      <td>1</td>\n",
       "      <td>1</td>\n",
       "      <td>True</td>\n",
       "      <td>False</td>\n",
       "      <td>Adult</td>\n",
       "    </tr>\n",
       "    <tr>\n",
       "      <th>4</th>\n",
       "      <td>6</td>\n",
       "      <td>0</td>\n",
       "      <td>0</td>\n",
       "      <td>False</td>\n",
       "      <td>False</td>\n",
       "      <td>Child</td>\n",
       "    </tr>\n",
       "  </tbody>\n",
       "</table>\n",
       "</div>"
      ],
      "text/plain": [
       "   age  num_underage_siblings  num_adult_siblings  can_vote  in_twenties  \\\n",
       "0   18                      0                   1      True        False   \n",
       "1   29                      0                   0      True         True   \n",
       "2   15                      1                   0     False        False   \n",
       "3   32                      1                   1      True        False   \n",
       "4    6                      0                   0     False        False   \n",
       "\n",
       "  age_bracket  \n",
       "0       Adult  \n",
       "1       Adult  \n",
       "2  Adolescent  \n",
       "3       Adult  \n",
       "4       Child  "
      ]
     },
     "metadata": {},
     "output_type": "display_data"
    }
   ],
   "source": [
    "data[\"can_vote\"]    = data[\"age\"].apply(fn_iseligible_vote)\n",
    "data[\"in_twenties\"] = data[\"age\"].apply(fn_istwenties)\n",
    "data[\"age_bracket\"] = data[\"age\"].apply(fn_agebracket)\n",
    "\n",
    "display(data)"
   ]
  },
  {
   "cell_type": "markdown",
   "metadata": {},
   "source": [
    "## Creating a new variable\n",
    "\n",
    "- You can also create a new variable using the `apply` function"
   ]
  },
  {
   "cell_type": "code",
   "execution_count": 7,
   "metadata": {},
   "outputs": [
    {
     "data": {
      "application/vnd.microsoft.datawrangler.viewer.v0+json": {
       "columns": [
        {
         "name": "index",
         "rawType": "int64",
         "type": "integer"
        },
        {
         "name": "age",
         "rawType": "int64",
         "type": "integer"
        },
        {
         "name": "num_underage_siblings",
         "rawType": "int64",
         "type": "integer"
        },
        {
         "name": "num_adult_siblings",
         "rawType": "int64",
         "type": "integer"
        },
        {
         "name": "can_vote",
         "rawType": "bool",
         "type": "boolean"
        },
        {
         "name": "in_twenties",
         "rawType": "bool",
         "type": "boolean"
        },
        {
         "name": "age_bracket",
         "rawType": "object",
         "type": "string"
        },
        {
         "name": "new_var",
         "rawType": "bool",
         "type": "boolean"
        }
       ],
       "ref": "eea8b875-0bce-4c96-9671-2ad29555a343",
       "rows": [
        [
         "0",
         "18",
         "0",
         "1",
         "True",
         "False",
         "Adult",
         "True"
        ],
        [
         "1",
         "29",
         "0",
         "0",
         "True",
         "True",
         "Adult",
         "True"
        ],
        [
         "2",
         "15",
         "1",
         "0",
         "False",
         "False",
         "Adolescent",
         "False"
        ],
        [
         "3",
         "32",
         "1",
         "1",
         "True",
         "False",
         "Adult",
         "True"
        ],
        [
         "4",
         "6",
         "0",
         "0",
         "False",
         "False",
         "Child",
         "False"
        ]
       ],
       "shape": {
        "columns": 7,
        "rows": 5
       }
      },
      "text/html": [
       "<div>\n",
       "<style scoped>\n",
       "    .dataframe tbody tr th:only-of-type {\n",
       "        vertical-align: middle;\n",
       "    }\n",
       "\n",
       "    .dataframe tbody tr th {\n",
       "        vertical-align: top;\n",
       "    }\n",
       "\n",
       "    .dataframe thead th {\n",
       "        text-align: right;\n",
       "    }\n",
       "</style>\n",
       "<table border=\"1\" class=\"dataframe\">\n",
       "  <thead>\n",
       "    <tr style=\"text-align: right;\">\n",
       "      <th></th>\n",
       "      <th>age</th>\n",
       "      <th>num_underage_siblings</th>\n",
       "      <th>num_adult_siblings</th>\n",
       "      <th>can_vote</th>\n",
       "      <th>in_twenties</th>\n",
       "      <th>age_bracket</th>\n",
       "      <th>new_var</th>\n",
       "    </tr>\n",
       "  </thead>\n",
       "  <tbody>\n",
       "    <tr>\n",
       "      <th>0</th>\n",
       "      <td>18</td>\n",
       "      <td>0</td>\n",
       "      <td>1</td>\n",
       "      <td>True</td>\n",
       "      <td>False</td>\n",
       "      <td>Adult</td>\n",
       "      <td>True</td>\n",
       "    </tr>\n",
       "    <tr>\n",
       "      <th>1</th>\n",
       "      <td>29</td>\n",
       "      <td>0</td>\n",
       "      <td>0</td>\n",
       "      <td>True</td>\n",
       "      <td>True</td>\n",
       "      <td>Adult</td>\n",
       "      <td>True</td>\n",
       "    </tr>\n",
       "    <tr>\n",
       "      <th>2</th>\n",
       "      <td>15</td>\n",
       "      <td>1</td>\n",
       "      <td>0</td>\n",
       "      <td>False</td>\n",
       "      <td>False</td>\n",
       "      <td>Adolescent</td>\n",
       "      <td>False</td>\n",
       "    </tr>\n",
       "    <tr>\n",
       "      <th>3</th>\n",
       "      <td>32</td>\n",
       "      <td>1</td>\n",
       "      <td>1</td>\n",
       "      <td>True</td>\n",
       "      <td>False</td>\n",
       "      <td>Adult</td>\n",
       "      <td>True</td>\n",
       "    </tr>\n",
       "    <tr>\n",
       "      <th>4</th>\n",
       "      <td>6</td>\n",
       "      <td>0</td>\n",
       "      <td>0</td>\n",
       "      <td>False</td>\n",
       "      <td>False</td>\n",
       "      <td>Child</td>\n",
       "      <td>False</td>\n",
       "    </tr>\n",
       "  </tbody>\n",
       "</table>\n",
       "</div>"
      ],
      "text/plain": [
       "   age  num_underage_siblings  num_adult_siblings  can_vote  in_twenties  \\\n",
       "0   18                      0                   1      True        False   \n",
       "1   29                      0                   0      True         True   \n",
       "2   15                      1                   0     False        False   \n",
       "3   32                      1                   1      True        False   \n",
       "4    6                      0                   0     False        False   \n",
       "\n",
       "  age_bracket  new_var  \n",
       "0       Adult     True  \n",
       "1       Adult     True  \n",
       "2  Adolescent    False  \n",
       "3       Adult     True  \n",
       "4       Child    False  "
      ]
     },
     "metadata": {},
     "output_type": "display_data"
    }
   ],
   "source": [
    "# Creating a new variable\n",
    "data[\"new_var\"] = data[\"age\"].apply(lambda age: age >= 18)\n",
    "\n",
    "display(data)"
   ]
  },
  {
   "cell_type": "markdown",
   "metadata": {},
   "source": [
    "## Deleting a variable\n",
    "\n",
    "- You can also delete a variable using the `drop` function"
   ]
  },
  {
   "cell_type": "code",
   "execution_count": 8,
   "metadata": {},
   "outputs": [
    {
     "data": {
      "application/vnd.microsoft.datawrangler.viewer.v0+json": {
       "columns": [
        {
         "name": "index",
         "rawType": "int64",
         "type": "integer"
        },
        {
         "name": "age",
         "rawType": "int64",
         "type": "integer"
        },
        {
         "name": "num_underage_siblings",
         "rawType": "int64",
         "type": "integer"
        },
        {
         "name": "num_adult_siblings",
         "rawType": "int64",
         "type": "integer"
        },
        {
         "name": "can_vote",
         "rawType": "bool",
         "type": "boolean"
        },
        {
         "name": "in_twenties",
         "rawType": "bool",
         "type": "boolean"
        },
        {
         "name": "age_bracket",
         "rawType": "object",
         "type": "string"
        }
       ],
       "ref": "274b4f58-adec-44e1-b1a9-41a446a5aca0",
       "rows": [
        [
         "0",
         "18",
         "0",
         "1",
         "True",
         "False",
         "Adult"
        ],
        [
         "1",
         "29",
         "0",
         "0",
         "True",
         "True",
         "Adult"
        ],
        [
         "2",
         "15",
         "1",
         "0",
         "False",
         "False",
         "Adolescent"
        ],
        [
         "3",
         "32",
         "1",
         "1",
         "True",
         "False",
         "Adult"
        ],
        [
         "4",
         "6",
         "0",
         "0",
         "False",
         "False",
         "Child"
        ]
       ],
       "shape": {
        "columns": 6,
        "rows": 5
       }
      },
      "text/html": [
       "<div>\n",
       "<style scoped>\n",
       "    .dataframe tbody tr th:only-of-type {\n",
       "        vertical-align: middle;\n",
       "    }\n",
       "\n",
       "    .dataframe tbody tr th {\n",
       "        vertical-align: top;\n",
       "    }\n",
       "\n",
       "    .dataframe thead th {\n",
       "        text-align: right;\n",
       "    }\n",
       "</style>\n",
       "<table border=\"1\" class=\"dataframe\">\n",
       "  <thead>\n",
       "    <tr style=\"text-align: right;\">\n",
       "      <th></th>\n",
       "      <th>age</th>\n",
       "      <th>num_underage_siblings</th>\n",
       "      <th>num_adult_siblings</th>\n",
       "      <th>can_vote</th>\n",
       "      <th>in_twenties</th>\n",
       "      <th>age_bracket</th>\n",
       "    </tr>\n",
       "  </thead>\n",
       "  <tbody>\n",
       "    <tr>\n",
       "      <th>0</th>\n",
       "      <td>18</td>\n",
       "      <td>0</td>\n",
       "      <td>1</td>\n",
       "      <td>True</td>\n",
       "      <td>False</td>\n",
       "      <td>Adult</td>\n",
       "    </tr>\n",
       "    <tr>\n",
       "      <th>1</th>\n",
       "      <td>29</td>\n",
       "      <td>0</td>\n",
       "      <td>0</td>\n",
       "      <td>True</td>\n",
       "      <td>True</td>\n",
       "      <td>Adult</td>\n",
       "    </tr>\n",
       "    <tr>\n",
       "      <th>2</th>\n",
       "      <td>15</td>\n",
       "      <td>1</td>\n",
       "      <td>0</td>\n",
       "      <td>False</td>\n",
       "      <td>False</td>\n",
       "      <td>Adolescent</td>\n",
       "    </tr>\n",
       "    <tr>\n",
       "      <th>3</th>\n",
       "      <td>32</td>\n",
       "      <td>1</td>\n",
       "      <td>1</td>\n",
       "      <td>True</td>\n",
       "      <td>False</td>\n",
       "      <td>Adult</td>\n",
       "    </tr>\n",
       "    <tr>\n",
       "      <th>4</th>\n",
       "      <td>6</td>\n",
       "      <td>0</td>\n",
       "      <td>0</td>\n",
       "      <td>False</td>\n",
       "      <td>False</td>\n",
       "      <td>Child</td>\n",
       "    </tr>\n",
       "  </tbody>\n",
       "</table>\n",
       "</div>"
      ],
      "text/plain": [
       "   age  num_underage_siblings  num_adult_siblings  can_vote  in_twenties  \\\n",
       "0   18                      0                   1      True        False   \n",
       "1   29                      0                   0      True         True   \n",
       "2   15                      1                   0     False        False   \n",
       "3   32                      1                   1      True        False   \n",
       "4    6                      0                   0     False        False   \n",
       "\n",
       "  age_bracket  \n",
       "0       Adult  \n",
       "1       Adult  \n",
       "2  Adolescent  \n",
       "3       Adult  \n",
       "4       Child  "
      ]
     },
     "metadata": {},
     "output_type": "display_data"
    }
   ],
   "source": [
    "data = data.drop(columns = [\"new_var\"])\n",
    "\n",
    "display(data)"
   ]
  },
  {
   "cell_type": "markdown",
   "metadata": {},
   "source": [
    "## Mapping functions to a list, array, or series\n",
    "\n",
    "- The `map` function is used to **apply a function to a list, an array, or a series**\n",
    "  - A series is a single column of a pandas DataFrame\n",
    "- **In pandas**, `map` works very similarly to the `apply` function, and they are interchangeable when working with series\n",
    "- `map` can be faster than `apply` for simple functions, but `apply` is more flexible as it can be used with DataFrames (many columns)\n",
    "- However, if you are using regular lists (e.g., `list01 = [1,2,3]`), you should use `map` instead of `apply`\n",
    "  - `apply` is not a built-in Python function for lists in the same way `map` is."
   ]
  },
  {
   "cell_type": "code",
   "execution_count": 9,
   "metadata": {},
   "outputs": [
    {
     "data": {
      "application/vnd.microsoft.datawrangler.viewer.v0+json": {
       "columns": [
        {
         "name": "index",
         "rawType": "int64",
         "type": "integer"
        },
        {
         "name": "age",
         "rawType": "int64",
         "type": "integer"
        },
        {
         "name": "age_bracket01",
         "rawType": "object",
         "type": "string"
        }
       ],
       "ref": "9fb7c1fa-ae51-43af-984a-cf1f5ecb6427",
       "rows": [
        [
         "0",
         "18",
         "Adult"
        ],
        [
         "1",
         "29",
         "Adult"
        ],
        [
         "2",
         "15",
         "Adolescent"
        ],
        [
         "3",
         "32",
         "Adult"
        ],
        [
         "4",
         "6",
         "Child"
        ]
       ],
       "shape": {
        "columns": 2,
        "rows": 5
       }
      },
      "text/html": [
       "<div>\n",
       "<style scoped>\n",
       "    .dataframe tbody tr th:only-of-type {\n",
       "        vertical-align: middle;\n",
       "    }\n",
       "\n",
       "    .dataframe tbody tr th {\n",
       "        vertical-align: top;\n",
       "    }\n",
       "\n",
       "    .dataframe thead th {\n",
       "        text-align: right;\n",
       "    }\n",
       "</style>\n",
       "<table border=\"1\" class=\"dataframe\">\n",
       "  <thead>\n",
       "    <tr style=\"text-align: right;\">\n",
       "      <th></th>\n",
       "      <th>age</th>\n",
       "      <th>age_bracket01</th>\n",
       "    </tr>\n",
       "  </thead>\n",
       "  <tbody>\n",
       "    <tr>\n",
       "      <th>0</th>\n",
       "      <td>18</td>\n",
       "      <td>Adult</td>\n",
       "    </tr>\n",
       "    <tr>\n",
       "      <th>1</th>\n",
       "      <td>29</td>\n",
       "      <td>Adult</td>\n",
       "    </tr>\n",
       "    <tr>\n",
       "      <th>2</th>\n",
       "      <td>15</td>\n",
       "      <td>Adolescent</td>\n",
       "    </tr>\n",
       "    <tr>\n",
       "      <th>3</th>\n",
       "      <td>32</td>\n",
       "      <td>Adult</td>\n",
       "    </tr>\n",
       "    <tr>\n",
       "      <th>4</th>\n",
       "      <td>6</td>\n",
       "      <td>Child</td>\n",
       "    </tr>\n",
       "  </tbody>\n",
       "</table>\n",
       "</div>"
      ],
      "text/plain": [
       "   age age_bracket01\n",
       "0   18         Adult\n",
       "1   29         Adult\n",
       "2   15    Adolescent\n",
       "3   32         Adult\n",
       "4    6         Child"
      ]
     },
     "metadata": {},
     "output_type": "display_data"
    }
   ],
   "source": [
    "data[\"age_bracket01\"] = data[\"age\"].map(fn_agebracket)\n",
    "\n",
    "display(data[[\"age\",\"age_bracket01\"]])"
   ]
  },
  {
   "cell_type": "code",
   "execution_count": 10,
   "metadata": {},
   "outputs": [
    {
     "data": {
      "application/vnd.microsoft.datawrangler.viewer.v0+json": {
       "columns": [
        {
         "name": "index",
         "rawType": "int64",
         "type": "integer"
        },
        {
         "name": "age",
         "rawType": "int64",
         "type": "integer"
        },
        {
         "name": "age_bracket02",
         "rawType": "object",
         "type": "string"
        }
       ],
       "ref": "a7d36301-5b97-49e0-a5b0-9674bbaabaa0",
       "rows": [
        [
         "0",
         "18",
         "Adult"
        ],
        [
         "1",
         "29",
         "Adult"
        ],
        [
         "2",
         "15",
         "Adolescent"
        ],
        [
         "3",
         "32",
         "Adult"
        ],
        [
         "4",
         "6",
         "Child"
        ]
       ],
       "shape": {
        "columns": 2,
        "rows": 5
       }
      },
      "text/html": [
       "<div>\n",
       "<style scoped>\n",
       "    .dataframe tbody tr th:only-of-type {\n",
       "        vertical-align: middle;\n",
       "    }\n",
       "\n",
       "    .dataframe tbody tr th {\n",
       "        vertical-align: top;\n",
       "    }\n",
       "\n",
       "    .dataframe thead th {\n",
       "        text-align: right;\n",
       "    }\n",
       "</style>\n",
       "<table border=\"1\" class=\"dataframe\">\n",
       "  <thead>\n",
       "    <tr style=\"text-align: right;\">\n",
       "      <th></th>\n",
       "      <th>age</th>\n",
       "      <th>age_bracket02</th>\n",
       "    </tr>\n",
       "  </thead>\n",
       "  <tbody>\n",
       "    <tr>\n",
       "      <th>0</th>\n",
       "      <td>18</td>\n",
       "      <td>Adult</td>\n",
       "    </tr>\n",
       "    <tr>\n",
       "      <th>1</th>\n",
       "      <td>29</td>\n",
       "      <td>Adult</td>\n",
       "    </tr>\n",
       "    <tr>\n",
       "      <th>2</th>\n",
       "      <td>15</td>\n",
       "      <td>Adolescent</td>\n",
       "    </tr>\n",
       "    <tr>\n",
       "      <th>3</th>\n",
       "      <td>32</td>\n",
       "      <td>Adult</td>\n",
       "    </tr>\n",
       "    <tr>\n",
       "      <th>4</th>\n",
       "      <td>6</td>\n",
       "      <td>Child</td>\n",
       "    </tr>\n",
       "  </tbody>\n",
       "</table>\n",
       "</div>"
      ],
      "text/plain": [
       "   age age_bracket02\n",
       "0   18         Adult\n",
       "1   29         Adult\n",
       "2   15    Adolescent\n",
       "3   32         Adult\n",
       "4    6         Child"
      ]
     },
     "metadata": {},
     "output_type": "display_data"
    }
   ],
   "source": [
    "data[\"age_bracket02\"] = data[\"age\"].apply(fn_agebracket)\n",
    "\n",
    "display(data[[\"age\",\"age_bracket02\"]])"
   ]
  },
  {
   "cell_type": "markdown",
   "metadata": {},
   "source": [
    "## Mapping functions to a list, array, or series\n",
    "\n",
    "- Using `map` with a list and an array"
   ]
  },
  {
   "cell_type": "code",
   "execution_count": 11,
   "metadata": {},
   "outputs": [
    {
     "name": "stdout",
     "output_type": "stream",
     "text": [
      "[1, 4, 9, 16, 25]\n"
     ]
    }
   ],
   "source": [
    "# Create a list\n",
    "list01 = [1,2,3,4,5]\n",
    "\n",
    "# Map a function to the list\n",
    "list02 = list(map(lambda x: x**2, list01))\n",
    "\n",
    "print(list02)"
   ]
  },
  {
   "cell_type": "code",
   "execution_count": 12,
   "metadata": {},
   "outputs": [
    {
     "name": "stdout",
     "output_type": "stream",
     "text": [
      "[ 1  4  9 16 25]\n"
     ]
    }
   ],
   "source": [
    "# Create a numpy array\n",
    "array01 = np.array([1,2,3,4,5])\n",
    "\n",
    "# Map a function to the array\n",
    "array02 = np.array(list(map(lambda x: x**2, array01)))\n",
    "\n",
    "print(array02)"
   ]
  },
  {
   "cell_type": "markdown",
   "metadata": {},
   "source": [
    "- Trying to use `apply` with a list or an array will raise an error\n",
    "```python\n",
    "# Create a list\n",
    "list01 = [1,2,3,4,5]\n",
    "\n",
    "# Apply a function to the list\n",
    "# list02 = list(apply(lambda x: x**2, list01)) # This would cause NameError\n",
    "\n",
    "# print(list02)\n",
    "```\n",
    "```verbatim\n",
    "---------------------------------------------------------------------------\n",
    "NameError                                 Traceback (most recent call last)\n",
    "Cell In[168], line 5\n",
    "      2 list01 = [1,2,3,4,5]\n",
    "      4 # Apply a function to the list\n",
    "----> 5 list02 = list(apply(lambda x: x**2, list01))\n",
    "      7 print(list02)\n",
    "\n",
    "NameError: name 'apply' is not defined\n",
    "```"
   ]
  },
  {
   "cell_type": "markdown",
   "metadata": {},
   "source": [
    "## Try it yourself! 🚀 {#sec:exercise-02}\n",
    "\n",
    "- Write a lambda function checking whether `num_siblings` $\\ge 1$\n",
    "- Add a variable to the dataset called `has_siblings`\n",
    "- Assign True/False to this variable using `apply()`"
   ]
  },
  {
   "cell_type": "code",
   "execution_count": 13,
   "metadata": {},
   "outputs": [],
   "source": [
    "# Your code here\n",
    "# fn_has_siblings = lambda ... : ...\n",
    "\n",
    "# data[\"has_siblings\"] = data[...].apply(...)\n",
    "\n",
    "# display(data[[\"num_adult_siblings\",\"has_siblings\"]]) # Assuming you use num_adult_siblings"
   ]
  },
  {
   "cell_type": "markdown",
   "metadata": {},
   "source": [
    "# Importing modules 📦"
   ]
  },
  {
   "cell_type": "markdown",
   "metadata": {},
   "source": [
    "## Importing modules\n",
    "### What is a module?\n",
    "\n",
    "- While `.ipynb` files are great for learning and teaching, they are not the best for sharing code\n",
    "- When you write a lot of functions, you should save them in a `.py` file, which is a **Python script**\n",
    "- A Python script, or module, is just a file containing Python code\n",
    "- This code can be functions, classes, or variables\n",
    "- A folder containing Python scripts is called a **package**\n",
    "- You can import modules to use their code in your own code\n",
    "\n",
    "- We can import functions into the working environment from a file \n",
    "\n",
    "```python\n",
    "# import scripts.example_functions as ef\n",
    "\n",
    "# print(ef.fn_quadratic(2))\n",
    "# print(ef.fn_cubic(3))\n",
    "\n",
    "# ef.message_hello(\"Juan\")\n",
    "```\n",
    "*(This code assumes you have a folder named `scripts` with a file `example_functions.py` in it, containing the respective functions. For this notebook, we won't run this cell as the file structure isn't set up here.)*"
   ]
  },
  {
   "cell_type": "markdown",
   "metadata": {},
   "source": [
    "## Importing modules\n",
    "### Importing variables\n",
    "\n",
    "- You can also import variables from a module\n",
    "- However, it is not recommended to import variables\n",
    "- It is better to import functions and use them to create variables\n",
    "- This is because variables can be changed in the module, leading to unexpected results\n",
    "\n",
    "- Example:\n",
    "\n",
    "```python\n",
    "# import scripts.example_variables as ev\n",
    "\n",
    "# # When we run this code\n",
    "# # the value of alpha will be overwritten\n",
    "\n",
    "# alpha = 1\n",
    "# print(alpha)\n",
    "# print(ev.alpha)\n",
    "\n",
    "# from scripts.example_variables import *\n",
    "\n",
    "# print(alpha)\n",
    "# print(beta)\n",
    "# print(gamma)\n",
    "# print(delta)\n",
    "```\n",
    "*(This code assumes a `scripts/example_variables.py` file. We won't run this.)*"
   ]
  },
  {
   "cell_type": "markdown",
   "metadata": {},
   "source": [
    "# Loading packages and dataset 📦"
   ]
  },
  {
   "cell_type": "markdown",
   "metadata": {},
   "source": [
    "## Our dataset: Formula 1 World Championships 🏁🏎️\n",
    "\n",
    "- First, we will load the packages we need"
   ]
  },
  {
   "cell_type": "code",
   "execution_count": 14,
   "metadata": {},
   "outputs": [],
   "source": [
    "import pandas as pd\n",
    "import numpy as np"
   ]
  },
  {
   "cell_type": "markdown",
   "metadata": {},
   "source": [
    "- Then, we will load the dataset"
   ]
  },
  {
   "cell_type": "code",
   "execution_count": 15,
   "metadata": {},
   "outputs": [
    {
     "data": {
      "application/vnd.microsoft.datawrangler.viewer.v0+json": {
       "columns": [
        {
         "name": "index",
         "rawType": "int64",
         "type": "integer"
        },
        {
         "name": "circuitId",
         "rawType": "int64",
         "type": "integer"
        },
        {
         "name": "circuitRef",
         "rawType": "object",
         "type": "string"
        },
        {
         "name": "name",
         "rawType": "object",
         "type": "string"
        },
        {
         "name": "location",
         "rawType": "object",
         "type": "string"
        },
        {
         "name": "country",
         "rawType": "object",
         "type": "string"
        },
        {
         "name": "lat",
         "rawType": "float64",
         "type": "float"
        },
        {
         "name": "lng",
         "rawType": "float64",
         "type": "float"
        },
        {
         "name": "alt",
         "rawType": "object",
         "type": "string"
        },
        {
         "name": "url",
         "rawType": "object",
         "type": "string"
        }
       ],
       "ref": "0d321f32-fc1f-466c-8be4-6192116bc468",
       "rows": [
        [
         "0",
         "1",
         "albert_park",
         "Albert Park Grand Prix Circuit",
         "Melbourne",
         "Australia",
         "-37.8497",
         "144.968",
         "10",
         "http://en.wikipedia.org/wiki/Melbourne_Grand_Prix_Circuit"
        ],
        [
         "1",
         "2",
         "sepang",
         "Sepang International Circuit",
         "Kuala Lumpur",
         "Malaysia",
         "2.76083",
         "101.738",
         "18",
         "http://en.wikipedia.org/wiki/Sepang_International_Circuit"
        ]
       ],
       "shape": {
        "columns": 9,
        "rows": 2
       }
      },
      "text/html": [
       "<div>\n",
       "<style scoped>\n",
       "    .dataframe tbody tr th:only-of-type {\n",
       "        vertical-align: middle;\n",
       "    }\n",
       "\n",
       "    .dataframe tbody tr th {\n",
       "        vertical-align: top;\n",
       "    }\n",
       "\n",
       "    .dataframe thead th {\n",
       "        text-align: right;\n",
       "    }\n",
       "</style>\n",
       "<table border=\"1\" class=\"dataframe\">\n",
       "  <thead>\n",
       "    <tr style=\"text-align: right;\">\n",
       "      <th></th>\n",
       "      <th>circuitId</th>\n",
       "      <th>circuitRef</th>\n",
       "      <th>name</th>\n",
       "      <th>location</th>\n",
       "      <th>country</th>\n",
       "      <th>lat</th>\n",
       "      <th>lng</th>\n",
       "      <th>alt</th>\n",
       "      <th>url</th>\n",
       "    </tr>\n",
       "  </thead>\n",
       "  <tbody>\n",
       "    <tr>\n",
       "      <th>0</th>\n",
       "      <td>1</td>\n",
       "      <td>albert_park</td>\n",
       "      <td>Albert Park Grand Prix Circuit</td>\n",
       "      <td>Melbourne</td>\n",
       "      <td>Australia</td>\n",
       "      <td>-37.84970</td>\n",
       "      <td>144.968</td>\n",
       "      <td>10</td>\n",
       "      <td>http://en.wikipedia.org/wiki/Melbourne_Grand_P...</td>\n",
       "    </tr>\n",
       "    <tr>\n",
       "      <th>1</th>\n",
       "      <td>2</td>\n",
       "      <td>sepang</td>\n",
       "      <td>Sepang International Circuit</td>\n",
       "      <td>Kuala Lumpur</td>\n",
       "      <td>Malaysia</td>\n",
       "      <td>2.76083</td>\n",
       "      <td>101.738</td>\n",
       "      <td>18</td>\n",
       "      <td>http://en.wikipedia.org/wiki/Sepang_Internatio...</td>\n",
       "    </tr>\n",
       "  </tbody>\n",
       "</table>\n",
       "</div>"
      ],
      "text/plain": [
       "   circuitId   circuitRef                            name      location  \\\n",
       "0          1  albert_park  Albert Park Grand Prix Circuit     Melbourne   \n",
       "1          2       sepang    Sepang International Circuit  Kuala Lumpur   \n",
       "\n",
       "     country       lat      lng alt  \\\n",
       "0  Australia -37.84970  144.968  10   \n",
       "1   Malaysia   2.76083  101.738  18   \n",
       "\n",
       "                                                 url  \n",
       "0  http://en.wikipedia.org/wiki/Melbourne_Grand_P...  \n",
       "1  http://en.wikipedia.org/wiki/Sepang_Internatio...  "
      ]
     },
     "metadata": {},
     "output_type": "display_data"
    }
   ],
   "source": [
    "# Ensure the file 'data_raw/circuits.csv' is in the correct path relative to the notebook\n",
    "# Or use the direct URL\n",
    "try:\n",
    "    circuits = pd.read_csv(\"data_raw/circuits.csv\")\n",
    "except FileNotFoundError:\n",
    "    print(\"Local file 'data_raw/circuits.csv' not found. Attempting to download from internet...\")\n",
    "    circuits_url = \"https://raw.githubusercontent.com/danilofreire/qtm151-summer/main/lectures/lecture-08/data_raw/circuits.csv\"\n",
    "    try:\n",
    "        circuits = pd.read_csv(circuits_url)\n",
    "        print(\"Successfully downloaded circuits.csv from GitHub.\")\n",
    "    except Exception as e:\n",
    "        print(f\"Could not download from URL. Error: {e}\")\n",
    "        circuits = pd.DataFrame() # Create an empty DataFrame if loading fails\n",
    "\n",
    "from IPython.display import display\n",
    "if not circuits.empty:\n",
    "    display(circuits.head(2))\n",
    "else:\n",
    "    print(\"Failed to load the circuits dataset.\")"
   ]
  },
  {
   "cell_type": "markdown",
   "metadata": {},
   "source": [
    "## Our dataset: Formula 1 World Championships 🏁🏎️\n",
    "\n",
    "- The dataset contains information about F1 circuits, such as its name, location, latitude, longitude, and more\n",
    "- You can find more information about the dataset [here](https://www.kaggle.com/datasets/rohanrao/formula-1-world-championship-1950-2020/data)\n",
    "- The dataset is available in the course's GitHub repository [here](https://github.com/danilofreire/qtm151-summer/blob/main/lectures/lecture-08/data_raw/circuits.csv)\n",
    "  - Or you can download it using the command above\n",
    "- Let's see how the codebook looks like\n",
    "- More information about [Formula 1 here](https://en.wikipedia.org/wiki/Formula_One)"
   ]
  },
  {
   "cell_type": "markdown",
   "metadata": {},
   "source": [
    "## Codebook 📚\n",
    "\n",
    "![](figures/codebook.png)\n",
    "\n",
    "- `Field` - Name of the variable\n",
    "- `Type` - Type of the variable\n",
    "  - Integer (`int`), string (`str` - `varchar`), and float (`float`)\n",
    "- `Description` - Label with a description of the variable\n",
    "- **Quick discussion**: What does `varchar(255)` mean?"
   ]
  },
  {
   "cell_type": "markdown",
   "metadata": {},
   "source": [
    "The dataset has {circuits.shape[1] if 'circuits' in locals() and not circuits.empty else 'N/A'} columns (variables) and {circuits.shape[0] if 'circuits' in locals() and not circuits.empty else 'N/A'} rows (observations).\n",
    "\n",
    "The columns are:\n",
    "  - `circuitId`: Unique identifier for the circuit\n",
    "  - `circuitRef`: Unique reference for the circuit\n",
    "  - `name`: Name of the circuit\n",
    "  - `location`: Location \n",
    "  - `country`: Country where the circuit is located\n",
    "  - `lat`: Latitude \n",
    "  - `lng`: Longitude\n",
    "  - `alt`: Altitude\n",
    "  - `url`: URL of the circuit's Wikipedia page"
   ]
  },
  {
   "cell_type": "markdown",
   "metadata": {},
   "source": [
    "# NaN values 🚫"
   ]
  },
  {
   "cell_type": "markdown",
   "metadata": {},
   "source": [
    "## What is a `NaN` value?\n",
    "\n",
    "- `NaN` stands for \"Not a Number\"\n",
    "- It is a special value in Python that represents missing data\n",
    "- `NaN` values can be found in datasets for various reasons\n",
    "  - Data entry errors\n",
    "  - Data cleaning and processing errors\n",
    "  - Data collection errors\n",
    "  - Data transformation errors\n",
    "- We (often) need to handle `NaN` values before we can analyse the data\n",
    "\n",
    "- `NaN` values can be found in different types of variables\n",
    "  - Numeric variables\n",
    "  - Categorical variables\n",
    "  - Date variables\n",
    "  - Text variables\n",
    "- We will focus on numeric variables today\n",
    "- `pandas` and `numpy` have functions to handle `NaN` values\n",
    "  - Note: they handle `NaN` values differently!"
   ]
  },
  {
   "cell_type": "markdown",
   "metadata": {},
   "source": [
    "## Operations with `NaN` values\n",
    "\n",
    "- `NaN` is a special number, available in `numpy`"
   ]
  },
  {
   "cell_type": "code",
   "execution_count": 16,
   "metadata": {},
   "outputs": [
    {
     "data": {
      "text/plain": [
       "nan"
      ]
     },
     "execution_count": 16,
     "metadata": {},
     "output_type": "execute_result"
    }
   ],
   "source": [
    "import numpy as np # Ensure numpy is imported\n",
    "np.nan"
   ]
  },
  {
   "cell_type": "markdown",
   "metadata": {},
   "source": [
    "- Often, we cannot perform operations with `NaN` values\n",
    "- Thus, we need to handle them before we can analyse the data\n",
    "\n",
    "- Let's see some examples. We start with `numpy` arrays"
   ]
  },
  {
   "cell_type": "code",
   "execution_count": 17,
   "metadata": {},
   "outputs": [
    {
     "name": "stdout",
     "output_type": "stream",
     "text": [
      "[nan  4.  5.]\n",
      "[ nan 0.25 0.2 ]\n",
      "[nan  5.  6.]\n",
      "[nan -3. -4.]\n"
     ]
    }
   ],
   "source": [
    "# Create two array with and without \"NaNs\"\n",
    "# The \"np.array()\" functions converts \n",
    "# a list to an array\n",
    "\n",
    "vec_without_nans = np.array([1,1,1])\n",
    "vec_with_nans    = np.array([np.nan,4,5])\n",
    "\n",
    "# When you add the vectors\n",
    "# you will produce a NaN \n",
    "# on any entries with \"NaNs\"\n",
    "print(vec_without_nans * vec_with_nans)\n",
    "print(vec_without_nans / vec_with_nans)\n",
    "print(vec_without_nans + vec_with_nans)\n",
    "print(vec_without_nans - vec_with_nans)"
   ]
  },
  {
   "cell_type": "markdown",
   "metadata": {},
   "source": [
    "## Summary statistics with `NaN` values\n",
    "### Arrays\n",
    "\n",
    "- Some summary statistics functions will not work with `NaN` values\n",
    "- For example, the `mean()` function"
   ]
  },
  {
   "cell_type": "code",
   "execution_count": 18,
   "metadata": {},
   "outputs": [
    {
     "name": "stdout",
     "output_type": "stream",
     "text": [
      "nan\n"
     ]
    }
   ],
   "source": [
    "print(np.mean(vec_with_nans))"
   ]
  },
  {
   "cell_type": "markdown",
   "metadata": {},
   "source": [
    "- The `mean()` function will return `NaN` if there are `NaN` values in the array\n",
    "\n",
    "- To calculate the mean without `NaN` values, we can use the `nanmean()` function"
   ]
  },
  {
   "cell_type": "code",
   "execution_count": 19,
   "metadata": {},
   "outputs": [
    {
     "name": "stdout",
     "output_type": "stream",
     "text": [
      "4.5\n"
     ]
    }
   ],
   "source": [
    "print(np.nanmean(vec_with_nans))"
   ]
  },
  {
   "cell_type": "markdown",
   "metadata": {},
   "source": [
    "- The `nanmean()` function will ignore `NaN` values and calculate the mean with the remaining values"
   ]
  },
  {
   "cell_type": "markdown",
   "metadata": {},
   "source": [
    "## Summary statistics with `NaN` values\n",
    "### Pandas DataFrames\n",
    "\n",
    "- Let's create an empty DataFrame and create a new column `x` with `NaN` values"
   ]
  },
  {
   "cell_type": "code",
   "execution_count": 20,
   "metadata": {},
   "outputs": [
    {
     "data": {
      "application/vnd.microsoft.datawrangler.viewer.v0+json": {
       "columns": [
        {
         "name": "index",
         "rawType": "int64",
         "type": "integer"
        },
        {
         "name": "x",
         "rawType": "float64",
         "type": "float"
        }
       ],
       "ref": "90c2a5ef-f394-420b-903a-8d72a7fcef87",
       "rows": [
        [
         "0",
         null
        ],
        [
         "1",
         "4.0"
        ],
        [
         "2",
         "5.0"
        ]
       ],
       "shape": {
        "columns": 1,
        "rows": 3
       }
      },
      "text/html": [
       "<div>\n",
       "<style scoped>\n",
       "    .dataframe tbody tr th:only-of-type {\n",
       "        vertical-align: middle;\n",
       "    }\n",
       "\n",
       "    .dataframe tbody tr th {\n",
       "        vertical-align: top;\n",
       "    }\n",
       "\n",
       "    .dataframe thead th {\n",
       "        text-align: right;\n",
       "    }\n",
       "</style>\n",
       "<table border=\"1\" class=\"dataframe\">\n",
       "  <thead>\n",
       "    <tr style=\"text-align: right;\">\n",
       "      <th></th>\n",
       "      <th>x</th>\n",
       "    </tr>\n",
       "  </thead>\n",
       "  <tbody>\n",
       "    <tr>\n",
       "      <th>0</th>\n",
       "      <td>NaN</td>\n",
       "    </tr>\n",
       "    <tr>\n",
       "      <th>1</th>\n",
       "      <td>4.0</td>\n",
       "    </tr>\n",
       "    <tr>\n",
       "      <th>2</th>\n",
       "      <td>5.0</td>\n",
       "    </tr>\n",
       "  </tbody>\n",
       "</table>\n",
       "</div>"
      ],
      "text/plain": [
       "     x\n",
       "0  NaN\n",
       "1  4.0\n",
       "2  5.0"
      ]
     },
     "execution_count": 20,
     "metadata": {},
     "output_type": "execute_result"
    }
   ],
   "source": [
    "import pandas as pd # Ensure pandas is imported\n",
    "dataset = pd.DataFrame()\n",
    "dataset[\"x\"] = vec_with_nans # vec_with_nans was defined in a previous cell\n",
    "dataset"
   ]
  },
  {
   "cell_type": "markdown",
   "metadata": {},
   "source": [
    "- You will see that `pandas` will handle `NaN` values differently: it will **ignore them**"
   ]
  },
  {
   "cell_type": "code",
   "execution_count": 21,
   "metadata": {},
   "outputs": [
    {
     "name": "stdout",
     "output_type": "stream",
     "text": [
      "4.5\n"
     ]
    }
   ],
   "source": [
    "print(dataset[\"x\"].mean())"
   ]
  },
  {
   "cell_type": "markdown",
   "metadata": {},
   "source": [
    "- **For R users**: This is the same as `na.rm = TRUE` in R. `pandas` does that by default"
   ]
  },
  {
   "cell_type": "markdown",
   "metadata": {},
   "source": [
    "# Data Cleaning 🧹🧽"
   ]
  },
  {
   "cell_type": "markdown",
   "metadata": {},
   "source": [
    "## Data cleaning\n",
    "\n",
    "- Data cleaning is the process of preparing data for analysis\n",
    "- It involves identifying and handling missing data, outliers, and other data quality issues\n",
    "- **You guys have no idea** how much time you will spend cleaning data in your life 😅\n",
    "- According to a [Forbes survey](https://www.forbes.com/sites/gilpress/2016/03/23/data-preparation-most-time-consuming-least-enjoyable-data-science-task-survey-says/), data scientists spend 60% of their time cleaning and preparing data, and 57% say it's the least enjoyable part of their work\n",
    "  - I can **really** relate to that 😂\n",
    "- But remember that **clean data are good data** 🥳\n",
    "\n",
    "- Let's get the data types of the columns in the `circuits` dataset\n",
    "- We use the command `dtypes` for that\n",
    "- `object` means that the variable is a string or a variable with mixed types (e.g., numbers and strings)"
   ]
  },
  {
   "cell_type": "code",
   "execution_count": 22,
   "metadata": {},
   "outputs": [
    {
     "name": "stdout",
     "output_type": "stream",
     "text": [
      "circuitId       int64\n",
      "circuitRef     object\n",
      "name           object\n",
      "location       object\n",
      "country        object\n",
      "lat           float64\n",
      "lng           float64\n",
      "alt            object\n",
      "url            object\n",
      "dtype: object\n"
     ]
    }
   ],
   "source": [
    "if 'circuits' in locals() and not circuits.empty:\n",
    "    print(circuits.dtypes)\n",
    "else:\n",
    "    print(\"Circuits DataFrame not loaded.\")"
   ]
  },
  {
   "cell_type": "markdown",
   "metadata": {},
   "source": [
    "## Check rows with numeric values\n",
    "\n",
    "- Here we will use the `.str.isnumeric()` function\n",
    "- This function actually combines two functions: `.str` and `.isnumeric()`\n",
    "- The `.str` accessor is used to apply string methods to each element in a Series.\n",
    "- The `.isnumeric()` method then checks if each string consists only of numeric characters.\n",
    "- **Why do we need both?** Because DataFrame columns can sometimes be of `object` type (which can hold strings, numbers, or mixed types). We need to treat the elements as strings first (`.str`) before checking if those strings represent numbers (`.isnumeric()`).\n",
    "- If we used only `.isnumeric()` on a Series that isn't of string type or on a Series with non-string elements, it might not work as expected or could raise an error.\n",
    "\n",
    "- The two dots between the functions are called **method chaining**\n",
    "- It is a way to call multiple methods sequentially on an object\n",
    "- If you use `R`, this is similar to the `%>%` operator in `dplyr`\n",
    "- Let's see how it works"
   ]
  },
  {
   "cell_type": "code",
   "execution_count": 23,
   "metadata": {},
   "outputs": [
    {
     "name": "stdout",
     "output_type": "stream",
     "text": [
      "0      True\n",
      "1      True\n",
      "2      True\n",
      "3      True\n",
      "4      True\n",
      "      ...  \n",
      "72     True\n",
      "73     True\n",
      "74     True\n",
      "75    False\n",
      "76    False\n",
      "Name: alt, Length: 77, dtype: bool\n"
     ]
    }
   ],
   "source": [
    "# Check if the variable \"alt\" is numeric\n",
    "if 'circuits' in locals() and not circuits.empty and 'alt' in circuits.columns:\n",
    "    # Pandas .str.isnumeric() returns False for NaN, which is desired.\n",
    "    # It also returns False for decimals and negative signs, as it checks for unicode numeric characters.\n",
    "    # For a more robust check if a string can be a float, pd.to_numeric with errors='coerce' is better.\n",
    "    # However, for this specific example from slides, we'll use .str.isnumeric()\n",
    "    print(circuits[\"alt\"].astype(str).str.isnumeric()) # Convert to string first to use .str methods safely\n",
    "else:\n",
    "    print(\"Circuits DataFrame not loaded or 'alt' column missing.\")"
   ]
  },
  {
   "cell_type": "markdown",
   "metadata": {},
   "source": [
    "## Other examples of chaining methods"
   ]
  },
  {
   "cell_type": "code",
   "execution_count": 24,
   "metadata": {},
   "outputs": [
    {
     "name": "stdout",
     "output_type": "stream",
     "text": [
      "0     False\n",
      "1     False\n",
      "2     False\n",
      "3     False\n",
      "4     False\n",
      "      ...  \n",
      "72    False\n",
      "73    False\n",
      "74    False\n",
      "75    False\n",
      "76    False\n",
      "Name: circuitRef, Length: 77, dtype: bool\n"
     ]
    }
   ],
   "source": [
    "# Check if the variable \n",
    "# \"circuitRef\" is numeric\n",
    "if 'circuits' in locals() and not circuits.empty and 'circuitRef' in circuits.columns:\n",
    "    print(circuits[\"circuitRef\"].astype(str).str.isnumeric())\n",
    "else:\n",
    "    print(\"Circuits DataFrame not loaded or 'circuitRef' column missing.\")"
   ]
  },
  {
   "cell_type": "code",
   "execution_count": 25,
   "metadata": {},
   "outputs": [
    {
     "name": "stdout",
     "output_type": "stream",
     "text": [
      "0        melbourne\n",
      "1     kuala lumpur\n",
      "2           sakhir\n",
      "3         montmeló\n",
      "4         istanbul\n",
      "          ...     \n",
      "72        portimão\n",
      "73         mugello\n",
      "74          jeddah\n",
      "75       al daayen\n",
      "76           miami\n",
      "Name: location, Length: 77, dtype: object\n"
     ]
    }
   ],
   "source": [
    "# Convert the variable \n",
    "# `location` to lowercase\n",
    "if 'circuits' in locals() and not circuits.empty and 'location' in circuits.columns:\n",
    "    print(circuits[\"location\"].str.lower())\n",
    "else:\n",
    "    print(\"Circuits DataFrame not loaded or 'location' column missing.\")"
   ]
  },
  {
   "cell_type": "markdown",
   "metadata": {},
   "source": [
    "## Extract list of non-numeric values\n",
    "\n",
    "- We can use the function `query()` to filter rows in a DataFrame based on a condition expressed as a string.\n",
    "  - `query()` is a method of a pandas DataFrame and it has [many useful functions](https://pandas.pydata.org/pandas-docs/stable/reference/api/pandas.DataFrame.query.html)!\n",
    "  - We will use it more in the future!\n",
    "- Here we will combine `query()` with `pd.unique()` to extract a list of unique non-numeric-like string values in the 'alt' column.\n",
    "- The `pd.unique()` function will return an array of unique values in a Series."
   ]
  },
  {
   "cell_type": "code",
   "execution_count": 26,
   "metadata": {},
   "outputs": [
    {
     "name": "stdout",
     "output_type": "stream",
     "text": [
      "['\\\\N' '-7']\n"
     ]
    }
   ],
   "source": [
    "# Extract a list of non-numeric values\n",
    "# The pd.unique() function extracts unique values from a list\n",
    "# Check each value in the alt column to see if it is not numeric\n",
    "# True if it is not numeric, False if it is numeric\n",
    "if 'circuits' in locals() and not circuits.empty and 'alt' in circuits.columns:\n",
    "    # Ensure 'alt' is string type for .str.isnumeric()\n",
    "    # .str.isnumeric() will be False for NaN, empty strings, decimals, negatives.\n",
    "    # We are looking for strings that are *not* purely digits.\n",
    "    condition = circuits['alt'].astype(str).str.isnumeric() == False\n",
    "    subset = circuits[condition]\n",
    "    list_unique = pd.unique(subset[\"alt\"])\n",
    "    print(list_unique)\n",
    "else:\n",
    "    print(\"Circuits DataFrame not loaded or 'alt' column missing.\")"
   ]
  },
  {
   "cell_type": "markdown",
   "metadata": {},
   "source": [
    "## Replace certain values\n",
    "\n",
    "- The `replace` function is used to replace values in a variable\n",
    "- The syntax is `dataframe[\"variable\"].replace(list_old, list_new)`\n",
    "- More information about the function can be found [here](https://pandas.pydata.org/pandas-docs/stable/reference/api/pandas.DataFrame.replace.html)"
   ]
  },
  {
   "cell_type": "code",
   "execution_count": 27,
   "metadata": {},
   "outputs": [
    {
     "name": "stdout",
     "output_type": "stream",
     "text": [
      "Values in 'alt' after replacement (first 5 unique values):\n",
      "['10' '18' '7' '109' '130']\n"
     ]
    }
   ],
   "source": [
    "if 'circuits' in locals() and not circuits.empty and 'alt' in circuits.columns:\n",
    "    # \"list_old\" encodes values we want to change\n",
    "    # From the list_unique, we see that the values we want to change are '\\N' and potentially others like '-7' (if it was read as string)\n",
    "    # \"list_new\" encodes the values that will replace the old\n",
    "    list_old = ['\\\\N','-7'] # Note: '\\N' needs to be escaped as '\\\\N' if it's a literal string in the data\n",
    "    list_new = [np.nan, -7] # np.nan for missing, -7 as a number\n",
    "\n",
    "    # This command replaces the values of the \"alt\" column\n",
    "    circuits[\"alt\"] = circuits[\"alt\"].replace(list_old, list_new)\n",
    "    print(\"Values in 'alt' after replacement (first 5 unique values):\")\n",
    "    print(pd.unique(circuits['alt'].dropna())[:5]) # Show some unique non-NaN values\n",
    "else:\n",
    "    print(\"Circuits DataFrame not loaded or 'alt' column missing.\")"
   ]
  },
  {
   "cell_type": "markdown",
   "metadata": {},
   "source": [
    "- After the cleaning process is done, you may want to store the dataset again\n",
    "- It's **strongly recommended** to do this in a separate file from the original\n",
    "- Use `to_csv()` to save the dataset as a `.csv` file\n",
    "\n",
    "```python\n",
    "# circuits.to_csv(\"data_clean/circuits_clean.csv\", index=False)\n",
    "```\n",
    "*(Make sure you have a `data_clean` directory or adjust the path)*"
   ]
  },
  {
   "cell_type": "markdown",
   "metadata": {},
   "source": [
    "## Try it yourself! 🧠 {#sec:exercise-04}\n",
    "\n",
    "- Use `.replace()` with the \"country\" column in the `circuits` DataFrame.\n",
    "- Replace \"UK\" with \"United Kingdom\".\n",
    "- Display the unique values of the \"country\" column after replacement to verify."
   ]
  },
  {
   "cell_type": "code",
   "execution_count": 28,
   "metadata": {},
   "outputs": [],
   "source": [
    "# Your code here\n",
    "# if 'circuits' in locals() and not circuits.empty and 'country' in circuits.columns:\n",
    "    # circuits[\"country\"] = ... .replace(... , ...)\n",
    "    # display(circuits[[\"country\"]].head())\n",
    "    # print(pd.unique(circuits['country']))\n",
    "# else:\n",
    "#     print(\"Circuits DataFrame not loaded or 'country' column missing.\")"
   ]
  },
  {
   "cell_type": "markdown",
   "metadata": {},
   "source": [
    "## Try it yourself! 🧠 {#sec:exercise-05}\n",
    "\n",
    "- What is the column type of \"lat\" or \"lng\" in the `circuits` DataFrame?\n",
    "- Does it have any string variables (values that are strings, not just the column type being 'object' if it contains mixed types)?\n",
    "- Can we use ```.str.isnumeric()``` here directly? Why or why not?"
   ]
  },
  {
   "cell_type": "code",
   "execution_count": 29,
   "metadata": {},
   "outputs": [],
   "source": [
    "# Your code and explanations here\n",
    "# if 'circuits' in locals() and not circuits.empty:\n",
    "    # print(\"Data type of 'lat':\", circuits['lat'].dtype)\n",
    "    # print(\"Data type of 'lng':\", circuits['lng'].dtype)\n",
    "    \n",
    "    # # To check for string values within a potentially numeric column:\n",
    "    # has_string_in_lat = circuits['lat'].apply(type).eq(str).any()\n",
    "    # print(f\"Does 'lat' column contain any string values? {has_string_in_lat}\")\n",
    "\n",
    "    # # Attempting to use .str.isnumeric() on a float column will typically raise an AttributeError\n",
    "    # try:\n",
    "    #     print(circuits['lat'].str.isnumeric())\n",
    "    # except AttributeError as e:\n",
    "    #     print(f\"Error using .str.isnumeric() on 'lat': {e}\")\n",
    "    # print(\"Explanation: .str accessor is for string-like operations. 'lat' is likely float64. \")\n",
    "    # print(\"If it were object type containing strings, you'd first convert to string or check types.\")\n",
    "# else:\n",
    "#     print(\"Circuits DataFrame not loaded.\")"
   ]
  },
  {
   "cell_type": "markdown",
   "metadata": {},
   "source": [
    "# Recoding Numeric Variables 🔄"
   ]
  },
  {
   "cell_type": "markdown",
   "metadata": {},
   "source": [
    "## Recoding numeric variables\n",
    "\n",
    "- Recoding is the process of changing the values of a variable\n",
    "- We can recode variables for various reasons\n",
    "  - To create new variables\n",
    "  - To standardise variables\n",
    "  - To simplify the analysis\n",
    "- Please remember to convert the variable to the correct type before recoding"
   ]
  },
  {
   "cell_type": "code",
   "execution_count": 30,
   "metadata": {},
   "outputs": [
    {
     "name": "stdout",
     "output_type": "stream",
     "text": [
      "object\n"
     ]
    }
   ],
   "source": [
    "# Check the data type of the \"alt\" column\n",
    "if 'circuits' in locals() and not circuits.empty and 'alt' in circuits.columns:\n",
    "    print(circuits[\"alt\"].dtype)\n",
    "else:\n",
    "    print(\"Circuits DataFrame not loaded or 'alt' column missing.\")"
   ]
  },
  {
   "cell_type": "markdown",
   "metadata": {},
   "source": [
    "- `pd.to_numeric()` is used to convert a variable to a numeric type"
   ]
  },
  {
   "cell_type": "code",
   "execution_count": 31,
   "metadata": {},
   "outputs": [
    {
     "name": "stdout",
     "output_type": "stream",
     "text": [
      "248.1891891891892\n"
     ]
    }
   ],
   "source": [
    "# pd.to_numeric() converts \n",
    "# a column to numeric\n",
    "# Before you use this option, \n",
    "# make sure to \"clean\" the variable\n",
    "# as we did before by checking what\n",
    "# the non-numeric values are\n",
    "if 'circuits' in locals() and not circuits.empty and 'alt' in circuits.columns:\n",
    "    circuits[\"alt_numeric\"] = pd.to_numeric(circuits[\"alt\"], errors='coerce') # errors='coerce' will turn unparseable strings into NaN\n",
    "    print(circuits[\"alt_numeric\"].mean())\n",
    "else:\n",
    "    print(\"Circuits DataFrame not loaded or 'alt' column missing.\")"
   ]
  },
  {
   "cell_type": "code",
   "execution_count": 32,
   "metadata": {},
   "outputs": [
    {
     "name": "stdout",
     "output_type": "stream",
     "text": [
      "-7.0\n",
      "2227.0\n"
     ]
    }
   ],
   "source": [
    "if 'circuits' in locals() and not circuits.empty and 'alt_numeric' in circuits.columns:\n",
    "    print(circuits[\"alt_numeric\"].min())\n",
    "    print(circuits[\"alt_numeric\"].max())\n",
    "else:\n",
    "    print(\"Circuits DataFrame not loaded or 'alt_numeric' column missing.\")"
   ]
  },
  {
   "cell_type": "markdown",
   "metadata": {},
   "source": [
    "## Recode variables based on an interval {#sec:recoding}\n",
    "\n",
    "- Imagine that we want to recode the `alt` variable into an interval\n",
    "\n",
    "$$x_{bin} = \\begin{cases} \"A\" &\\text{ if } x_1 < x \\le x_2 \\\\\n",
    "                             \"B\" &\\text{ if } x_2 < x \\le x_3 \\end{cases} $$\n",
    "\n",
    "- We can use the `pd.cut()` function to do this\n",
    "- The syntax is `df[\"new_variable\"] = pd.cut(df[\"variable\"], bins = [x1, x2, x3], labels = [\"A\", \"B\"])`\n",
    "- Where `bins` are the intervals and `labels` are the new values\n",
    "- More information about the function can be found [here](https://pandas.pydata.org/pandas-docs/stable/reference/api/pandas.cut.html)"
   ]
  },
  {
   "cell_type": "code",
   "execution_count": null,
   "metadata": {},
   "outputs": [
    {
     "data": {
      "application/vnd.microsoft.datawrangler.viewer.v0+json": {
       "columns": [
        {
         "name": "index",
         "rawType": "int64",
         "type": "integer"
        },
        {
         "name": "circuitId",
         "rawType": "int64",
         "type": "integer"
        },
        {
         "name": "circuitRef",
         "rawType": "object",
         "type": "string"
        },
        {
         "name": "name",
         "rawType": "object",
         "type": "string"
        },
        {
         "name": "location",
         "rawType": "object",
         "type": "string"
        },
        {
         "name": "country",
         "rawType": "object",
         "type": "string"
        },
        {
         "name": "lat",
         "rawType": "float64",
         "type": "float"
        },
        {
         "name": "lng",
         "rawType": "float64",
         "type": "float"
        },
        {
         "name": "alt",
         "rawType": "object",
         "type": "string"
        },
        {
         "name": "url",
         "rawType": "object",
         "type": "string"
        },
        {
         "name": "alt_numeric",
         "rawType": "float64",
         "type": "float"
        },
        {
         "name": "bins_alt",
         "rawType": "category",
         "type": "unknown"
        }
       ],
       "ref": "313d47e3-86a7-4e64-ae20-3706bcbaaba2",
       "rows": [
        [
         "31",
         "32",
         "rodriguez",
         "Autódromo Hermanos Rodríguez",
         "Mexico City",
         "Mexico",
         "19.4042",
         "-99.0907",
         "2227",
         "http://en.wikipedia.org/wiki/Aut%C3%B3dromo_Hermanos_Rodr%C3%ADguez",
         "2227.0",
         "Between 0 and 2500"
        ],
        [
         "43",
         "44",
         "las_vegas",
         "Las Vegas Street Circuit",
         "Nevada",
         "USA",
         "36.1162",
         "-115.174",
         "639",
         "http://en.wikipedia.org/wiki/Las_Vegas_Street_Circuit",
         "639.0",
         "Between 0 and 2500"
        ],
        [
         "26",
         "27",
         "estoril",
         "Autódromo do Estoril",
         "Estoril",
         "Portugal",
         "38.7506",
         "-9.39417",
         "130",
         "http://en.wikipedia.org/wiki/Aut%C3%B3dromo_do_Estoril",
         "130.0",
         "Between 0 and 2500"
        ],
        [
         "74",
         "77",
         "jeddah",
         "Jeddah Corniche Circuit",
         "Jeddah",
         "Saudi Arabia",
         "21.6319",
         "39.1044",
         "15",
         "http://en.wikipedia.org/wiki/Jeddah_Street_Circuit",
         "15.0",
         "Between 0 and 2500"
        ],
        [
         "58",
         "59",
         "boavista",
         "Circuito da Boavista",
         "Oporto",
         "Portugal",
         "41.1705",
         "-8.67325",
         "28",
         "http://en.wikipedia.org/wiki/Circuito_da_Boavista",
         "28.0",
         "Between 0 and 2500"
        ]
       ],
       "shape": {
        "columns": 11,
        "rows": 5
       }
      },
      "text/html": [
       "<div>\n",
       "<style scoped>\n",
       "    .dataframe tbody tr th:only-of-type {\n",
       "        vertical-align: middle;\n",
       "    }\n",
       "\n",
       "    .dataframe tbody tr th {\n",
       "        vertical-align: top;\n",
       "    }\n",
       "\n",
       "    .dataframe thead th {\n",
       "        text-align: right;\n",
       "    }\n",
       "</style>\n",
       "<table border=\"1\" class=\"dataframe\">\n",
       "  <thead>\n",
       "    <tr style=\"text-align: right;\">\n",
       "      <th></th>\n",
       "      <th>circuitId</th>\n",
       "      <th>circuitRef</th>\n",
       "      <th>name</th>\n",
       "      <th>location</th>\n",
       "      <th>country</th>\n",
       "      <th>lat</th>\n",
       "      <th>lng</th>\n",
       "      <th>alt</th>\n",
       "      <th>url</th>\n",
       "      <th>alt_numeric</th>\n",
       "      <th>bins_alt</th>\n",
       "    </tr>\n",
       "  </thead>\n",
       "  <tbody>\n",
       "    <tr>\n",
       "      <th>31</th>\n",
       "      <td>32</td>\n",
       "      <td>rodriguez</td>\n",
       "      <td>Autódromo Hermanos Rodríguez</td>\n",
       "      <td>Mexico City</td>\n",
       "      <td>Mexico</td>\n",
       "      <td>19.4042</td>\n",
       "      <td>-99.09070</td>\n",
       "      <td>2227</td>\n",
       "      <td>http://en.wikipedia.org/wiki/Aut%C3%B3dromo_He...</td>\n",
       "      <td>2227.0</td>\n",
       "      <td>Between 0 and 2500</td>\n",
       "    </tr>\n",
       "    <tr>\n",
       "      <th>43</th>\n",
       "      <td>44</td>\n",
       "      <td>las_vegas</td>\n",
       "      <td>Las Vegas Street Circuit</td>\n",
       "      <td>Nevada</td>\n",
       "      <td>USA</td>\n",
       "      <td>36.1162</td>\n",
       "      <td>-115.17400</td>\n",
       "      <td>639</td>\n",
       "      <td>http://en.wikipedia.org/wiki/Las_Vegas_Street_...</td>\n",
       "      <td>639.0</td>\n",
       "      <td>Between 0 and 2500</td>\n",
       "    </tr>\n",
       "    <tr>\n",
       "      <th>26</th>\n",
       "      <td>27</td>\n",
       "      <td>estoril</td>\n",
       "      <td>Autódromo do Estoril</td>\n",
       "      <td>Estoril</td>\n",
       "      <td>Portugal</td>\n",
       "      <td>38.7506</td>\n",
       "      <td>-9.39417</td>\n",
       "      <td>130</td>\n",
       "      <td>http://en.wikipedia.org/wiki/Aut%C3%B3dromo_do...</td>\n",
       "      <td>130.0</td>\n",
       "      <td>Between 0 and 2500</td>\n",
       "    </tr>\n",
       "    <tr>\n",
       "      <th>74</th>\n",
       "      <td>77</td>\n",
       "      <td>jeddah</td>\n",
       "      <td>Jeddah Corniche Circuit</td>\n",
       "      <td>Jeddah</td>\n",
       "      <td>Saudi Arabia</td>\n",
       "      <td>21.6319</td>\n",
       "      <td>39.10440</td>\n",
       "      <td>15</td>\n",
       "      <td>http://en.wikipedia.org/wiki/Jeddah_Street_Cir...</td>\n",
       "      <td>15.0</td>\n",
       "      <td>Between 0 and 2500</td>\n",
       "    </tr>\n",
       "    <tr>\n",
       "      <th>58</th>\n",
       "      <td>59</td>\n",
       "      <td>boavista</td>\n",
       "      <td>Circuito da Boavista</td>\n",
       "      <td>Oporto</td>\n",
       "      <td>Portugal</td>\n",
       "      <td>41.1705</td>\n",
       "      <td>-8.67325</td>\n",
       "      <td>28</td>\n",
       "      <td>http://en.wikipedia.org/wiki/Circuito_da_Boavista</td>\n",
       "      <td>28.0</td>\n",
       "      <td>Between 0 and 2500</td>\n",
       "    </tr>\n",
       "  </tbody>\n",
       "</table>\n",
       "</div>"
      ],
      "text/plain": [
       "    circuitId circuitRef                          name     location  \\\n",
       "31         32  rodriguez  Autódromo Hermanos Rodríguez  Mexico City   \n",
       "43         44  las_vegas      Las Vegas Street Circuit       Nevada   \n",
       "26         27    estoril          Autódromo do Estoril      Estoril   \n",
       "74         77     jeddah       Jeddah Corniche Circuit       Jeddah   \n",
       "58         59   boavista          Circuito da Boavista       Oporto   \n",
       "\n",
       "         country      lat        lng   alt  \\\n",
       "31        Mexico  19.4042  -99.09070  2227   \n",
       "43           USA  36.1162 -115.17400   639   \n",
       "26      Portugal  38.7506   -9.39417   130   \n",
       "74  Saudi Arabia  21.6319   39.10440    15   \n",
       "58      Portugal  41.1705   -8.67325    28   \n",
       "\n",
       "                                                  url  alt_numeric  \\\n",
       "31  http://en.wikipedia.org/wiki/Aut%C3%B3dromo_He...       2227.0   \n",
       "43  http://en.wikipedia.org/wiki/Las_Vegas_Street_...        639.0   \n",
       "26  http://en.wikipedia.org/wiki/Aut%C3%B3dromo_do...        130.0   \n",
       "74  http://en.wikipedia.org/wiki/Jeddah_Street_Cir...         15.0   \n",
       "58  http://en.wikipedia.org/wiki/Circuito_da_Boavista         28.0   \n",
       "\n",
       "              bins_alt  \n",
       "31  Between 0 and 2500  \n",
       "43  Between 0 and 2500  \n",
       "26  Between 0 and 2500  \n",
       "74  Between 0 and 2500  \n",
       "58  Between 0 and 2500  "
      ]
     },
     "metadata": {},
     "output_type": "display_data"
    }
   ],
   "source": [
    "# Recode the \"alt\" variable into an interval\n",
    "bins_x = [0, 2500, 5000]\n",
    "labels_x = [\"Between 0 and 2500\",\n",
    "            \"Between 2500 and 5000\"]\n",
    "\n",
    "circuits[\"bins_alt\"] = pd.cut(circuits[\"alt_numeric\"],\n",
    "                              bins = bins_x,\n",
    "                              right = True,\n",
    "                              labels = labels_x)\n",
    "np.random.seed(1)\n",
    "display(circuits.sample(5))"
   ]
  },
  {
   "cell_type": "markdown",
   "metadata": {},
   "source": [
    "# And that's it for today! 🎉"
   ]
  },
  {
   "cell_type": "markdown",
   "metadata": {},
   "source": [
    "# Thanks very much! 😊"
   ]
  }
 ],
 "metadata": {
  "kernelspec": {
   "display_name": "base",
   "language": "python",
   "name": "python3"
  },
  "language_info": {
   "codemirror_mode": {
    "name": "ipython",
    "version": 3
   },
   "file_extension": ".py",
   "mimetype": "text/x-python",
   "name": "python",
   "nbconvert_exporter": "python",
   "pygments_lexer": "ipython3",
   "version": "3.13.2"
  }
 },
 "nbformat": 4,
 "nbformat_minor": 5
}
