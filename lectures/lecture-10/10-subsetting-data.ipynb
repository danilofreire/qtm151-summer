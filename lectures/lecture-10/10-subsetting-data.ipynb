{
 "cells": [
  {
   "cell_type": "markdown",
   "metadata": {},
   "source": [
    "# QTM 151 - Introduction to Statistical Computing II\n",
    "## Lecture 10 - Subsetting Data\n",
    "**Author:** Danilo Freire (danilo.freire@emory.edu, Emory University)"
   ]
  },
  {
   "cell_type": "markdown",
   "metadata": {},
   "source": [
    "# I hope you all had a very nice weekend! 😊"
   ]
  },
  {
   "cell_type": "markdown",
   "metadata": {},
   "source": [
    "## Today's lecture\n",
    "\n",
    "- Today we will dive a little deeper into the `pandas` library\n",
    "- More specifically, we will learn how to **subset data**\n",
    "- This is a **very important skill** to have when working with data\n",
    "- We will look into four ways to subset data\n",
    "  - Using VS Code's [`Data Wrangler` extension](https://marketplace.visualstudio.com/items?itemName=ms-toolsai.datawrangler)\n",
    "  - Using `[]`\n",
    "  - Using `.iloc[]`\n",
    "  - Using `.query()`\n",
    "- We will also learn how to **sort data** with `.sort_values()`\n",
    "\n",
    "![](figures/pandas.png)"
   ]
  },
  {
   "cell_type": "markdown",
   "metadata": {},
   "source": [
    "## Subsetting data with `Data Wrangler`\n",
    "\n",
    "- You can visualise data in VS Code by using the [`Data Wrangler` extension](https://marketplace.visualstudio.com/items?itemName=ms-toolsai.datawrangler)\n",
    "- It allows you to see the data in a table format and gives you some basic statistics\n",
    "- You can also filter the data, sort it, fill missing values, and more \n",
    "- This new extension is _super convienent_ when you are working with data you are not familiar with\n",
    "- It also has the advantage of using a **sandboxed environment**, so you can interact with the data without changing the original file (unless you explicitly save them)\n",
    "- Install the extension by going to the Extensions view (`Ctrl+Shift+X`) and searching for `Data Wrangler`, or click [here](https://marketplace.visualstudio.com/items?itemName=ms-toolsai.datawrangler)\n",
    "- [Full documentation](https://code.visualstudio.com/docs/datascience/data-wrangler)\n",
    "\n",
    "![](figures/data-wrangler01.png)\n",
    "\n",
    "- The extension is automatically integrated with the Jupyter extension, so you can open a `.csv` file and start wrangling the data\n",
    "- Or you can open a Jupyter notebook, load your dataset with `pandas`, and start wrangling the data from there"
   ]
  },
  {
   "cell_type": "markdown",
   "metadata": {},
   "source": [
    "## Subsetting data with `Data Wrangler`\n",
    "\n",
    "- Let's see a quick example!\n",
    "- The quickest way to open the `Data Wrangler` is by right-clicking on a `.csv` file and selecting `Open in Data Wrangler`\n",
    "- Let's visualise the `features.csv` dataset. It is located in the `data_raw` folder\n",
    "- The dataset is about cars and has the following variables:\n",
    "  - `mpg`: Miles per gallon - Fuel efficiency of the car\n",
    "  - `cylinders`: Number of cylinders \n",
    "  - `displacement`: Volume of all the cylinders in the engine \n",
    "  - `horsepower`: Power of the engine in horsepower\n",
    "  - `weight`: Weight in pounds \n",
    "  - `acceleration`: Acceleration from 0 to 60 mph\n",
    "  - `vehicle_id`: Unique identifier for each car\n",
    "\n",
    "![](figures/data-wrangler02.png)"
   ]
  },
  {
   "cell_type": "markdown",
   "metadata": {},
   "source": [
    "## Subsetting data with `Data Wrangler`\n",
    "\n",
    "![](figures/data-wrangler03.png)"
   ]
  },
  {
   "cell_type": "markdown",
   "metadata": {},
   "source": [
    "## Subsetting data with `Data Wrangler`\n",
    "\n",
    "![](figures/data-wrangler04.png)"
   ]
  },
  {
   "cell_type": "markdown",
   "metadata": {},
   "source": [
    "## Subsetting data with `Data Wrangler`\n",
    "\n",
    "![](figures/data-wrangler05.png)"
   ]
  },
  {
   "cell_type": "markdown",
   "metadata": {},
   "source": [
    "# Any questions so far? 🤔"
   ]
  },
  {
   "cell_type": "markdown",
   "metadata": {},
   "source": [
    "## Subsetting data with `Data Wrangler`\n",
    "\n",
    "- When you click on `Filter`, you will see a menu like this:\n",
    "\n",
    "![](figures/data-wrangler06.png)\n",
    "\n",
    "- Select the column you want to filter, and click on `Add Filter`\n",
    "- Then you can select the condition you want to filter by and click on `Apply`\n",
    "\n",
    "![](figures/data-wrangler07.png)\n",
    "\n",
    "- You can also sort the data by clicking on `Sort` and selecting the column you want to sort by\n",
    "\n",
    "![](figures/data-wrangler08.png)\n",
    "\n",
    "- `Data Wrangler` will also show the Python code that corresponds to the operations you are doing!\n",
    "- This is a great way to learn how to use `pandas`! 🐼\n",
    "- You can then `Export to notebook` and continue working on your data in a Jupyter notebook, `Export as file`, or `Copy all code` and paste it in your Python script"
   ]
  },
  {
   "cell_type": "markdown",
   "metadata": {},
   "source": [
    "## Let's practice!\n",
    "\n",
    "- Please open the `features.csv` dataset in the `Data Wrangler`\n",
    "- We will filter the data to show only cars with 6 or more `cylinders`\n",
    "- And sort the data by `mpg` in descending order\n",
    "- Finally, we will export the code to a Jupyter notebook\n",
    "- Let's do it together!\n",
    "\n",
    "- [Download the dataset](https://github.com/danilofreire/qtm151/blob/main/lectures/lecture-11/data_raw/features.csv) if you don't have it (click on `Download Raw File`)\n",
    "- Open the dataset in the `Data Wrangler` and do the following:\n",
    "  - Click on `Filter`\n",
    "  - Select `cylinders` in `Choose column`\n",
    "  - Select `Greater than or equal to` in `condition`\n",
    "  - Type `6` in `Value`\n",
    "  - Click on `Apply`\n",
    "\n",
    "![](figures/data-wrangler09.png)\n",
    "![](figures/data-wrangler10.png)"
   ]
  },
  {
   "cell_type": "markdown",
   "metadata": {},
   "source": [
    "## Try it yourself! 🚗 {#sec:exercise-01}\n",
    "\n",
    "*(This exercise is intended to be done using the Data Wrangler extension in VS Code, as described in the slides. The goal is to observe the generated Python code.)*\n",
    "\n",
    "- Now, let's add two more conditions to the filter in Data Wrangler:\n",
    "- We want to find the fastest, less fuel-efficient cars with 6 or more cylinders.\n",
    "- Add a new condition to the filter:\n",
    "  - Select `acceleration` in `Choose column`\n",
    "  - Select `Less than or equal to` in `condition`\n",
    "  - Type `15` in `Value`\n",
    "- Then, add the second condition:\n",
    "  - Select `mpg` in `Choose column`\n",
    "  - Select `Less than or equal to` in `condition`\n",
    "  - Type `12` in `Value`\n",
    "  - Click on `Apply`\n",
    "  \n",
    "- **How many cars are left?** (Observe in Data Wrangler)"
   ]
  },
  {
   "cell_type": "markdown",
   "metadata": {},
   "source": [
    "## Subsetting data with `pandas`\n",
    "### The `[]` operator\n",
    "\n",
    "- We saw how `pandas` can be used to subset data in the `Data Wrangler`\n",
    "- Now, let's see how we can do the same in a Jupyter notebook or directly in a Python script\n",
    "- Let's start with the `[]` operator\n",
    "- This is the most common way to subset data in `pandas`, and we can use it to select columns by name, or to select rows by index (though `.loc[]` and `.iloc[]` are preferred for explicit row selection).\n",
    "- To select columns by name, we type `df['column']` or `df[['col1', 'col2']]`\n",
    "- But what if we don't know the name of the column? We can use the `.columns` attribute to see all the columns in the dataset\n",
    "\n",
    "- Let's load the dataset and see the columns\n",
    "- We can do so by typing the name of the dataset and use a period (`.`) to extract the attribute \"columns\"\n",
    "- If you want to add many columns, it is often a good idea to store the column names in a separate variable, as we will do below"
   ]
  },
  {
   "cell_type": "code",
   "execution_count": null,
   "metadata": {},
   "outputs": [],
   "source": [
    "import pandas as pd\n",
    "from IPython.display import display # For richer display in Jupyter\n",
    "\n",
    "# Ensure 'data_raw/features.csv' is in the correct path\n",
    "try:\n",
    "    carfeatures = pd.read_csv('data_raw/features.csv')\n",
    "    car_colnames = carfeatures.columns\n",
    "    print(car_colnames)\n",
    "except FileNotFoundError:\n",
    "    print(\"File 'data_raw/features.csv' not found. Please check the path.\")\n",
    "    carfeatures = pd.DataFrame() # Create an empty DataFrame to avoid further errors"
   ]
  },
  {
   "cell_type": "markdown",
   "metadata": {},
   "source": [
    "## Subsetting data with `pandas`\n",
    "### The `[]` operator\n",
    "\n",
    "- We can either subset the data by typing the column name or the column index (using the list of column names).\n",
    "\n",
    "- With the index (note the brackets):"
   ]
  },
  {
   "cell_type": "code",
   "execution_count": null,
   "metadata": {},
   "outputs": [],
   "source": [
    "if 'carfeatures' in locals() and not carfeatures.empty:\n",
    "    display(carfeatures[car_colnames[0]].head()) # Displaying head for brevity\n",
    "else:\n",
    "    print(\"carfeatures DataFrame not loaded.\")"
   ]
  },
  {
   "cell_type": "markdown",
   "metadata": {},
   "source": [
    "- With the name:"
   ]
  },
  {
   "cell_type": "code",
   "execution_count": null,
   "metadata": {},
   "outputs": [],
   "source": [
    "if 'carfeatures' in locals() and not carfeatures.empty:\n",
    "    display(carfeatures['mpg'].head()) # Displaying head for brevity\n",
    "else:\n",
    "    print(\"carfeatures DataFrame not loaded.\")"
   ]
  },
  {
   "cell_type": "markdown",
   "metadata": {},
   "source": [
    "## Selecting multiple columns\n",
    "\n",
    "- We can select multiple columns by passing a list of column names\n",
    "- Let's say we want to select the columns `mpg` and `weight`\n",
    "- We can do so by typing:"
   ]
  },
  {
   "cell_type": "code",
   "execution_count": null,
   "metadata": {},
   "outputs": [],
   "source": [
    "if 'carfeatures' in locals() and not carfeatures.empty:\n",
    "    display(carfeatures[['mpg', 'weight']].head())\n",
    "else:\n",
    "    print(\"carfeatures DataFrame not loaded.\")"
   ]
  },
  {
   "cell_type": "markdown",
   "metadata": {},
   "source": [
    "- We can also store the columns in a variable and pass it to the `[]` operator"
   ]
  },
  {
   "cell_type": "code",
   "execution_count": null,
   "metadata": {},
   "outputs": [],
   "source": [
    "if 'carfeatures' in locals() and not carfeatures.empty:\n",
    "    list_subsetcols = [\"mpg\", \"weight\"]\n",
    "    subcols_carfeatures = carfeatures[list_subsetcols]\n",
    "    display(subcols_carfeatures.head())\n",
    "else:\n",
    "    print(\"carfeatures DataFrame not loaded.\")"
   ]
  },
  {
   "cell_type": "markdown",
   "metadata": {},
   "source": [
    "## Subsetting data with `pandas`\n",
    "\n",
    "- Note that `pandas` uses **double brackets** when selecting multiple columns\n",
    "- This is because `pandas` **interprets a single bracket as a series** (a single column)\n",
    "- So we need two brackets to pass a list of columns\n",
    "- An explanation for this behavior is that `pandas` is trying to avoid ambiguity\n",
    "- Using `df['col1', 'col2']` would be interpreted as trying to access a single column with the name `('col1', 'col2')` \n",
    "- Yes, it's a bizarre name, but it could happen if you, say, merged two columns and named it like that (which is not a good idea!)\n",
    "- More on this [here](https://www.reddit.com/r/learnpython/comments/yl9htk/pandas_module_double_square_brackets_purpose/) and [here](https://stackoverflow.com/questions/33417991/pandas-why-are-double-brackets-needed-to-select-column-after-boolean-indexing)"
   ]
  },
  {
   "cell_type": "markdown",
   "metadata": {},
   "source": [
    "## Try it yourself! 🚗 {#sec:exercise-02}\n",
    "\n",
    "- Extract the `weight` and `acceleration` columns from the `carfeatures` DataFrame.\n",
    "- Display the head of the resulting subset."
   ]
  },
  {
   "cell_type": "code",
   "execution_count": null,
   "metadata": {},
   "outputs": [],
   "source": [
    "# Your code here\n",
    "# if 'carfeatures' in locals() and not carfeatures.empty:\n",
    "    # subset_df = carfeatures[ ['weight', 'acceleration'] ] # Hint!\n",
    "    # display(subset_df.head())\n",
    "# else:\n",
    "#     print(\"carfeatures DataFrame not loaded.\")"
   ]
  },
  {
   "cell_type": "markdown",
   "metadata": {},
   "source": [
    "## Filtering whole dataframes with `[]`\n",
    "\n",
    "- We can also use the `[]` operator to filter the whole dataframe, not just the columns\n",
    "- For example, we can filter the dataframe to show only cars with `mpg` greater than 25"
   ]
  },
  {
   "cell_type": "code",
   "execution_count": null,
   "metadata": {},
   "outputs": [],
   "source": [
    "if 'carfeatures' in locals() and not carfeatures.empty:\n",
    "    display(carfeatures[carfeatures['mpg'] >= 25].head())\n",
    "else:\n",
    "    print(\"carfeatures DataFrame not loaded.\")"
   ]
  },
  {
   "cell_type": "markdown",
   "metadata": {},
   "source": [
    "- This will return a new dataframe with only the rows that satisfy the condition\n",
    "- Note that we are using the `[]` operator twice\n",
    "- The first `[]` is used to select the rows (based on a boolean Series condition), and the (optional) second `[]` could be used to select specific columns from the filtered rows."
   ]
  },
  {
   "cell_type": "markdown",
   "metadata": {},
   "source": [
    "## Filtering whole dataframes with `[]`\n",
    "\n",
    "- One can make more complex queries by combining multiple conditions using `&` (and) or `|` (or). Remember to use parentheses for each condition."
   ]
  },
  {
   "cell_type": "code",
   "execution_count": null,
   "metadata": {},
   "outputs": [],
   "source": [
    "if 'carfeatures' in locals() and not carfeatures.empty:\n",
    "    display(carfeatures[(carfeatures['acceleration']>=10) & (carfeatures['acceleration']<18)].head())\n",
    "else:\n",
    "    print(\"carfeatures DataFrame not loaded.\")"
   ]
  },
  {
   "cell_type": "markdown",
   "metadata": {},
   "source": [
    "## Subsetting by row/column position \n",
    "### The `.iloc[]` (integer location) method\n",
    "\n",
    "- We use `.iloc[]` to select data by row and column position (integer indices).\n",
    "- `.iloc[]` can be used to select a single row:\n",
    "  - `df.iloc[0]` selects the first row.\n",
    "- Or multiple rows (pass a list of indices):\n",
    "  - `df.iloc[[0, 1, 2]]` selects the first three rows.\n",
    "- Multiple rows and columns:\n",
    "  - `df.iloc[[0, 1, 2], [0, 1, 2]]` selects the first three rows and first three columns.\n",
    "- The `:` is used to select all rows or columns, or a range of rows or columns (slicing):\n",
    "  - `df.iloc[:, 0]` selects all rows, first column.\n",
    "- Or multiple columns by slice:\n",
    "  - `df.iloc[:, 0:3]` selects all rows, first three columns (columns at index 0, 1, 2).\n",
    "- A range of rows and columns:\n",
    "  - `df.iloc[0:3, 0:3]` selects the first three rows and first three columns.\n",
    "- Remember that Python is zero-indexed and the last index in a slice `[start:stop]` is *not* included."
   ]
  },
  {
   "cell_type": "markdown",
   "metadata": {},
   "source": [
    "## Subsetting by row/column position \n",
    "### The `.iloc[]` method\n",
    "\n",
    "- Let's see some examples!\n",
    "- We can combine `.iloc[]` with `sort_values(by = 'variable')` to sort the data"
   ]
  },
  {
   "cell_type": "code",
   "execution_count": null,
   "metadata": {},
   "outputs": [],
   "source": [
    "if 'carfeatures' in locals() and not carfeatures.empty:\n",
    "    carsorted = carfeatures.sort_values(by = \"mpg\", ascending = False)\n",
    "    print(\"Sorted carfeatures (head):\")\n",
    "    display(carsorted.head())\n",
    "else:\n",
    "    print(\"carfeatures DataFrame not loaded.\")\n",
    "    carsorted = pd.DataFrame() # Define as empty to avoid errors in next cells"
   ]
  },
  {
   "cell_type": "markdown",
   "metadata": {},
   "source": [
    "- For example, to select the first three rows and the first three columns:"
   ]
  },
  {
   "cell_type": "code",
   "execution_count": null,
   "metadata": {},
   "outputs": [],
   "source": [
    "# Select the first three rows \n",
    "if 'carsorted' in locals() and not carsorted.empty:\n",
    "    print(\"First three rows of sorted data:\")\n",
    "    display(carsorted.iloc[[0, 1, 2]])\n",
    "else:\n",
    "    print(\"carsorted DataFrame not available.\")"
   ]
  },
  {
   "cell_type": "code",
   "execution_count": null,
   "metadata": {},
   "outputs": [],
   "source": [
    "# Select the first three rows and columns\n",
    "if 'carsorted' in locals() and not carsorted.empty:\n",
    "    print(\"\\nFirst three rows and columns of sorted data:\")\n",
    "    display(carsorted.iloc[0:3, 0:3])\n",
    "else:\n",
    "    print(\"carsorted DataFrame not available.\")"
   ]
  },
  {
   "cell_type": "code",
   "execution_count": null,
   "metadata": {},
   "outputs": [],
   "source": [
    "# Compare with the original dataset\n",
    "if 'carfeatures' in locals() and not carfeatures.empty:\n",
    "    print(\"\\nFirst three rows and columns of original data:\")\n",
    "    display(carfeatures.iloc[0:3, 0:3])\n",
    "else:\n",
    "    print(\"carfeatures DataFrame not loaded.\")"
   ]
  },
  {
   "cell_type": "markdown",
   "metadata": {},
   "source": [
    "## The `.iloc[]` method\n",
    "\n",
    "- The following command extracts all columns for row zero\n",
    "- In this first example, we will show the car with the highest `mpg` value"
   ]
  },
  {
   "cell_type": "code",
   "execution_count": null,
   "metadata": {},
   "outputs": [],
   "source": [
    "# Select the first row, all columns\n",
    "if 'carsorted' in locals() and not carsorted.empty:\n",
    "    display(carsorted.iloc[0,:])\n",
    "else:\n",
    "    print(\"carsorted DataFrame not available.\")"
   ]
  },
  {
   "cell_type": "code",
   "execution_count": null,
   "metadata": {},
   "outputs": [],
   "source": [
    "# Select the first three rows, all columns\n",
    "if 'carsorted' in locals() and not carsorted.empty:\n",
    "    display(carsorted.iloc[[0,1,2],:])\n",
    "else:\n",
    "    print(\"carsorted DataFrame not available.\")"
   ]
  },
  {
   "cell_type": "code",
   "execution_count": null,
   "metadata": {},
   "outputs": [],
   "source": [
    "# The `:` can be omitted when selecting all columns\n",
    "if 'carsorted' in locals() and not carsorted.empty:\n",
    "    display(carsorted.iloc[[0,1,2]])\n",
    "else:\n",
    "    print(\"carsorted DataFrame not available.\")"
   ]
  },
  {
   "cell_type": "markdown",
   "metadata": {},
   "source": [
    "## Subset blocks of data"
   ]
  },
  {
   "cell_type": "code",
   "execution_count": null,
   "metadata": {},
   "outputs": [],
   "source": [
    "# Extract rows 0 to 5 (exclusive of 5, so rows 0, 1, 2, 3, 4)\n",
    "if 'carfeatures' in locals() and not carfeatures.empty:\n",
    "    display(carfeatures.iloc[0:5,:])\n",
    "else:\n",
    "    print(\"carfeatures DataFrame not loaded.\")"
   ]
  },
  {
   "cell_type": "code",
   "execution_count": null,
   "metadata": {},
   "outputs": [],
   "source": [
    "# Extract rows 0 up to 8 (exclusive of 8, so rows 0 through 7)\n",
    "if 'carfeatures' in locals() and not carfeatures.empty:\n",
    "    display(carfeatures.iloc[:8,:]) \n",
    "else:\n",
    "    print(\"carfeatures DataFrame not loaded.\")"
   ]
  },
  {
   "cell_type": "markdown",
   "metadata": {},
   "source": [
    "## Try it yourself! 🚗 {#sec:exercise-03}\n",
    "\n",
    "- Create a new DataFrame called `car_ascendingmpg` which sorts `carfeatures` from lowest to highest \"mpg\".\n",
    "- Using `.iloc[]`, subset the data of the 5 cars with the lowest \"mpg\" from `car_ascendingmpg`.\n",
    "- Display this subset."
   ]
  },
  {
   "cell_type": "code",
   "execution_count": null,
   "metadata": {},
   "outputs": [],
   "source": [
    "# Your code here\n",
    "# if 'carfeatures' in locals() and not carfeatures.empty:\n",
    "    # car_ascendingmpg = carfeatures.sort_values(by=\"mpg\") # Hint: ascending is default\n",
    "    # lowest_5_mpg_cars = car_ascendingmpg.iloc[0:5] # Hint: first 5 rows\n",
    "    # display(lowest_5_mpg_cars)\n",
    "# else:\n",
    "#     print(\"carfeatures DataFrame not loaded.\")"
   ]
  },
  {
   "cell_type": "markdown",
   "metadata": {},
   "source": [
    "## The `.query()` method\n",
    "\n",
    "- The `.query()` method is a powerful way to subset data in `pandas`\n",
    "- It allows you to filter data using a string expression, similar to natural language and SQL\n",
    "- The syntax is `df.query('expression')`\n",
    "- The expression is written as if you were writing a sentence\n",
    "- For example, to filter cars with more than 6 cylinders, we would write:\n",
    "  - `df.query('cylinders > 6')`\n",
    "  - `df.query('cylinders > 6 & acceleration < 15 & mpg < 12')`"
   ]
  },
  {
   "cell_type": "code",
   "execution_count": null,
   "metadata": {},
   "outputs": [],
   "source": [
    "if 'carfeatures' in locals() and not carfeatures.empty:\n",
    "    display(carfeatures.query(\"mpg >= 25\").head())\n",
    "else:\n",
    "    print(\"carfeatures DataFrame not loaded.\")"
   ]
  },
  {
   "cell_type": "markdown",
   "metadata": {},
   "source": [
    "## Let's see more examples!\n",
    "\n",
    "- Combine multiple conditions with `and`, `&`, `or`, `|`"
   ]
  },
  {
   "cell_type": "code",
   "execution_count": null,
   "metadata": {},
   "outputs": [],
   "source": [
    "if 'carfeatures' in locals() and not carfeatures.empty:\n",
    "    display(carfeatures.query(\"(acceleration >= 10) and (acceleration < 18)\").head())\n",
    "else:\n",
    "    print(\"carfeatures DataFrame not loaded.\")"
   ]
  },
  {
   "cell_type": "markdown",
   "metadata": {},
   "source": [
    "## Let's see more examples!\n",
    "\n",
    "- Use `.query()` and `sort_values` together"
   ]
  },
  {
   "cell_type": "code",
   "execution_count": null,
   "metadata": {},
   "outputs": [],
   "source": [
    "if 'carfeatures' in locals() and not carfeatures.empty:\n",
    "    display(carfeatures.query(\"(cylinders == 8) & (mpg <= 15) & (acceleration <= 12)\").sort_values(by = \"mpg\").head())\n",
    "else:\n",
    "    print(\"carfeatures DataFrame not loaded.\")"
   ]
  },
  {
   "cell_type": "markdown",
   "metadata": {},
   "source": [
    "## Let's see more examples!\n",
    "\n",
    "- Use `.query()` and select columns\n",
    "- Note that we are using the `[[]]` operator to select the columns\n",
    "- Also note that we don't need parentheses when using `&` and `|` in the expression, but it is a good practice to use them"
   ]
  },
  {
   "cell_type": "code",
   "execution_count": null,
   "metadata": {},
   "outputs": [],
   "source": [
    "if 'carfeatures' in locals() and not carfeatures.empty:\n",
    "    display(carfeatures.query(\"(cylinders == 8) & (mpg <= 15) and acceleration <= 12\")[[\"mpg\", \"cylinders\", \"acceleration\"]].head())\n",
    "else:\n",
    "    print(\"carfeatures DataFrame not loaded.\")"
   ]
  },
  {
   "cell_type": "markdown",
   "metadata": {},
   "source": [
    "## Let's see more examples!\n",
    "\n",
    "- Combine `.query()` with global variables (use `@` prefix for variable names in the query string)"
   ]
  },
  {
   "cell_type": "code",
   "execution_count": null,
   "metadata": {},
   "outputs": [],
   "source": [
    "if 'carfeatures' in locals() and not carfeatures.empty:\n",
    "    threshold = 25\n",
    "    data_varthreshold_mpg = carfeatures.query(\"mpg >= @threshold\")\n",
    "    display(data_varthreshold_mpg.head())\n",
    "else:\n",
    "    print(\"carfeatures DataFrame not loaded.\")"
   ]
  },
  {
   "cell_type": "markdown",
   "metadata": {},
   "source": [
    "## Let's see more examples!\n",
    "\n",
    "- Expression with variable names that contain spaces\n",
    "- Use backticks (\\` \\`) to refer to the variable name"
   ]
  },
  {
   "cell_type": "code",
   "execution_count": null,
   "metadata": {},
   "outputs": [],
   "source": [
    "if 'carfeatures' in locals() and not carfeatures.empty:\n",
    "    carfeatures[\"new variable\"] = carfeatures[\"mpg\"] # Create a column with a space in its name\n",
    "    data_spacesthreshold_mpg = carfeatures.query(\"`new variable` >= 25\")\n",
    "    display(data_spacesthreshold_mpg.head())\n",
    "    # Clean up the added column if you want\n",
    "    # carfeatures = carfeatures.drop(columns=[\"new variable\"])\n",
    "else:\n",
    "    print(\"carfeatures DataFrame not loaded.\")"
   ]
  },
  {
   "cell_type": "markdown",
   "metadata": {},
   "source": [
    "## Try it yourself! 🚗 {#sec:exercise-04}\n",
    "\n",
    "- Using the `carfeatures` DataFrame:\n",
    "  - Subset the data to include only cars where `mpg` is greater than or equal to 25 AND `cylinders` is equal to 8.\n",
    "  - From this subset, select only the `mpg` and `cylinders` columns.\n",
    "  - Display the head of this final selection."
   ]
  },
  {
   "cell_type": "code",
   "execution_count": null,
   "metadata": {},
   "outputs": [],
   "source": [
    "# Your code here\n",
    "# if 'carfeatures' in locals() and not carfeatures.empty:\n",
    "    # query_str = \"(mpg >= 25) & (cylinders == 8)\" # Hint for the query\n",
    "    # columns_to_select = [\"mpg\", \"cylinders\"] # Hint for columns\n",
    "    # subset_df = carfeatures.query(query_str)[columns_to_select]\n",
    "    # display(subset_df.head())\n",
    "# else:\n",
    "#     print(\"carfeatures DataFrame not loaded.\")"
   ]
  },
  {
   "cell_type": "markdown",
   "metadata": {},
   "source": [
    "## Plotting Subsets\n",
    "\n",
    "- `matplotlib` can also be used to plot subsets of data\n",
    "- The syntax is similar to what we have seen before\n",
    "- For example, you can just add other `plt.scatter()` or `plt.hist()` commands to the same cell\n",
    "- Or you can create a `for` loop to plot multiple subsets\n",
    "- Let's see an example using `cylinders`\n",
    "\n",
    "- First, we need to import `matplotlib` and use `pd.unique()` to extract a list with the unique elements in that column"
   ]
  },
  {
   "cell_type": "code",
   "execution_count": null,
   "metadata": {},
   "outputs": [],
   "source": [
    "import matplotlib.pyplot as plt\n",
    "import pandas as pd # Ensure pandas is imported\n",
    "\n",
    "if 'carfeatures' in locals() and not carfeatures.empty and 'cylinders' in carfeatures.columns:\n",
    "    list_unique_cylinders = pd.unique(carfeatures[\"cylinders\"])\n",
    "    print(list_unique_cylinders)\n",
    "else:\n",
    "    print(\"carfeatures DataFrame not loaded or 'cylinders' column missing.\")\n",
    "    list_unique_cylinders = [] # Define as empty list to avoid errors in next cell"
   ]
  },
  {
   "cell_type": "markdown",
   "metadata": {},
   "source": [
    "## Plotting Subsets"
   ]
  },
  {
   "cell_type": "code",
   "execution_count": null,
   "metadata": {},
   "outputs": [],
   "source": [
    "# If we call plt.scatter() twice, it will display both plots on the same graph\n",
    "# We also include include plt.show() at the very end.\n",
    "if 'carfeatures' in locals() and not carfeatures.empty:\n",
    "    df_8 = carfeatures.query(\"cylinders == 8\")\n",
    "    df_4 = carfeatures.query(\"cylinders == 4\")\n",
    "\n",
    "    plt.figure() # Create a figure for the plot\n",
    "    if not df_8.empty:\n",
    "        plt.scatter(x = df_8[\"weight\"],y = df_8[\"acceleration\"])\n",
    "    if not df_4.empty:\n",
    "        plt.scatter(x = df_4[\"weight\"],y = df_4[\"acceleration\"])\n",
    "    \n",
    "    plt.legend(labels = [\"8\",\"4\"], # Ensure labels match the plotted data\n",
    "               title  = \"Cylinders\")\n",
    "    plt.xlabel(\"Weight\")\n",
    "    plt.ylabel(\"Acceleration\")\n",
    "    plt.title(\"Weight vs. Acceleration by Cylinders\")\n",
    "    plt.show()\n",
    "\n",
    "# Note: If we put plt.show() in between the plots, then the results will\n",
    "# be shown on separate graphs instead.\n",
    "else:\n",
    "    print(\"carfeatures DataFrame not loaded.\")"
   ]
  },
  {
   "cell_type": "markdown",
   "metadata": {},
   "source": [
    "## Plotting Subsets\n",
    "\n",
    "- Using a `for` loop to plot multiple subsets"
   ]
  },
  {
   "cell_type": "code",
   "execution_count": null,
   "metadata": {},
   "outputs": [],
   "source": [
    "# Compute number of unique categories\n",
    "# list_unique_cylinders should be defined from a previous cell\n",
    "if 'carfeatures' in locals() and not carfeatures.empty and 'list_unique_cylinders' in locals() and len(list_unique_cylinders) > 0:\n",
    "    plt.figure()\n",
    "    # Use a for loop to plot a scatter plot between \"weight\" and \"acceleration\"\n",
    "    # for each category. Each plot  will have a different color\n",
    "\n",
    "    for category in list_unique_cylinders:\n",
    "        df_loop_subset = carfeatures.query(\"cylinders == @category\") # Use @ to refer to the variable 'category'\n",
    "        if not df_loop_subset.empty:\n",
    "             plt.scatter(x = df_loop_subset[\"weight\"],y = df_loop_subset[\"acceleration\"])\n",
    "        \n",
    "    # Add labels and a legends      \n",
    "    plt.xlabel(\"Weight\")\n",
    "    plt.ylabel(\"Acceleration\")\n",
    "    plt.legend(labels = list_unique_cylinders,\n",
    "               title  = \"Cylinders\")\n",
    "    plt.title(\"Weight vs. Acceleration for different Cylinder counts\")\n",
    "    plt.show()\n",
    "else:\n",
    "    print(\"carfeatures DataFrame or list_unique_cylinders not available/empty.\")"
   ]
  },
  {
   "cell_type": "markdown",
   "metadata": {},
   "source": [
    "## Try it yourself! 🚗 {#sec:exercise-05}\n",
    "\n",
    "- Using the `carfeatures` DataFrame:\n",
    "  - Compute a histogram of \"mpg\" for each unique cylinder count (from `list_unique_cylinders`).\n",
    "  - Plot all these histograms on the same figure to compare distributions.\n",
    "  - Make the histograms transparent by setting the `alpha` parameter in `plt.hist()` to `0.5` (e.g., `plt.hist(x = ..., alpha = 0.5)`).\n",
    "  - Add an overall title, x-label (\"Miles per gallon\"), y-label (\"Frequency\"), and a legend to identify which histogram corresponds to which cylinder count."
   ]
  },
  {
   "cell_type": "code",
   "execution_count": null,
   "metadata": {},
   "outputs": [],
   "source": [
    "# Your code here\n",
    "# import matplotlib.pyplot as plt\n",
    "# import pandas as pd\n",
    "\n",
    "# if 'carfeatures' in locals() and not carfeatures.empty and 'list_unique_cylinders' in locals() and len(list_unique_cylinders) > 0:\n",
    "    # plt.figure()\n",
    "    # for category in list_unique_cylinders:\n",
    "        # df_category = carfeatures.query(\"cylinders == @category\")\n",
    "        # if not df_category.empty:\n",
    "            # plt.hist(x = df_category[\"mpg\"], alpha = 0.5, bins = 10, label=str(category)) # Added label for legend\n",
    "\n",
    "    # plt.xlabel(\"Miles per gallon\")\n",
    "    # plt.ylabel(\"Frequency\")\n",
    "    # plt.title(\"MPG Distribution by Cylinder Count\")\n",
    "    # plt.legend(title = \"Cylinders\")\n",
    "    # plt.show()\n",
    "# else:\n",
    "#     print(\"carfeatures DataFrame or list_unique_cylinders not available/empty.\")"
   ]
  },
  {
   "cell_type": "markdown",
   "metadata": {},
   "source": [
    "# And that's it for today! 🎉"
   ]
  },
  {
   "cell_type": "markdown",
   "metadata": {},
   "source": [
    "# See you next time! 🚀"
   ]
  }
 ],
 "metadata": {
  "kernelspec": {
   "display_name": "Python 3 (ipykernel)",
   "language": "python",
   "name": "python3"
  },
  "language_info": {
   "codemirror_mode": {
    "name": "ipython",
    "version": 3
   },
   "file_extension": ".py",
   "mimetype": "text/x-python",
   "name": "python",
   "nbconvert_exporter": "python",
   "pygments_lexer": "ipython3",
   "version": "3.10.0"
  }
 },
 "nbformat": 4,
 "nbformat_minor": 5
}
